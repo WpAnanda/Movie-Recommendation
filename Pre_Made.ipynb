{
  "nbformat": 4,
  "nbformat_minor": 0,
  "metadata": {
    "colab": {
      "name": "Pre-Made.ipynb",
      "provenance": [],
      "collapsed_sections": []
    },
    "kernelspec": {
      "name": "python3",
      "display_name": "Python 3"
    }
  },
  "cells": [
    {
      "cell_type": "markdown",
      "metadata": {
        "id": "jnxhiWJRviIa",
        "colab_type": "text"
      },
      "source": [
        "# Pre-Made Recommendation Model"
      ]
    },
    {
      "cell_type": "markdown",
      "metadata": {
        "id": "EA1LYLoiqYzU",
        "colab_type": "text"
      },
      "source": [
        "# 1. Import Necessary Libraries and Dataset"
      ]
    },
    {
      "cell_type": "code",
      "metadata": {
        "id": "MxQVqn9hqT_D",
        "colab_type": "code",
        "colab": {
          "base_uri": "https://localhost:8080/",
          "height": 122
        },
        "outputId": "4e261dcf-dc3b-4c63-9153-ca2aec96968b"
      },
      "source": [
        "!pip install scikit-surprise\n",
        "import surprise\n",
        "import numpy as np\n",
        "from numpy import mean\n",
        "import matplotlib.pyplot as plt\n",
        "import pandas as pd\n",
        "from surprise import SVD, SVDpp, SlopeOne, NMF, NormalPredictor\n",
        "from surprise import KNNBaseline, KNNBasic, KNNWithMeans, KNNWithZScore, BaselineOnly, CoClustering\n",
        "from surprise import Dataset\n",
        "from surprise import Reader\n",
        "from surprise import accuracy\n",
        "from surprise.model_selection import KFold\n",
        "from surprise.model_selection import cross_validate\n",
        "from surprise.model_selection import train_test_split\n",
        "from plotly.offline import init_notebook_mode, plot, iplot\n",
        "from timeit import default_timer as timer\n",
        "import plotly.graph_objs as go"
      ],
      "execution_count": null,
      "outputs": [
        {
          "output_type": "stream",
          "text": [
            "Requirement already satisfied: scikit-surprise in /usr/local/lib/python3.6/dist-packages (1.1.0)\n",
            "Requirement already satisfied: numpy>=1.11.2 in /usr/local/lib/python3.6/dist-packages (from scikit-surprise) (1.18.5)\n",
            "Requirement already satisfied: six>=1.10.0 in /usr/local/lib/python3.6/dist-packages (from scikit-surprise) (1.12.0)\n",
            "Requirement already satisfied: joblib>=0.11 in /usr/local/lib/python3.6/dist-packages (from scikit-surprise) (0.15.1)\n",
            "Requirement already satisfied: scipy>=1.0.0 in /usr/local/lib/python3.6/dist-packages (from scikit-surprise) (1.4.1)\n"
          ],
          "name": "stdout"
        }
      ]
    },
    {
      "cell_type": "code",
      "metadata": {
        "id": "aBKwhXkGvlPP",
        "colab_type": "code",
        "colab": {
          "base_uri": "https://localhost:8080/",
          "height": 54
        },
        "outputId": "ca83de78-82a1-4571-9833-21330a5aff4b"
      },
      "source": [
        "from google.colab import drive\n",
        "drive.mount('/content/gdrive')"
      ],
      "execution_count": null,
      "outputs": [
        {
          "output_type": "stream",
          "text": [
            "Drive already mounted at /content/gdrive; to attempt to forcibly remount, call drive.mount(\"/content/gdrive\", force_remount=True).\n"
          ],
          "name": "stdout"
        }
      ]
    },
    {
      "cell_type": "code",
      "metadata": {
        "id": "xJ99kvT1vrSY",
        "colab_type": "code",
        "colab": {
          "base_uri": "https://localhost:8080/",
          "height": 34
        },
        "outputId": "26967ba9-2988-4eed-bbf4-d200804299ea"
      },
      "source": [
        "cd /content/gdrive/My Drive/SINA Project"
      ],
      "execution_count": null,
      "outputs": [
        {
          "output_type": "stream",
          "text": [
            "/content/gdrive/My Drive/SINA Project\n"
          ],
          "name": "stdout"
        }
      ]
    },
    {
      "cell_type": "code",
      "metadata": {
        "id": "EaB6hcdPvtYs",
        "colab_type": "code",
        "colab": {
          "base_uri": "https://localhost:8080/",
          "height": 34
        },
        "outputId": "1d2a0ca6-a70f-4e8b-d7e0-18706e9a3a0c"
      },
      "source": [
        "!ls"
      ],
      "execution_count": null,
      "outputs": [
        {
          "output_type": "stream",
          "text": [
            "movie-rating-utility-matrix.csv  movies.csv  ratings.csv  user.csv\n"
          ],
          "name": "stdout"
        }
      ]
    },
    {
      "cell_type": "markdown",
      "metadata": {
        "id": "gACu4ZBAwUko",
        "colab_type": "text"
      },
      "source": [
        "# 2. Data Exploration"
      ]
    },
    {
      "cell_type": "code",
      "metadata": {
        "id": "NI4lOcxW6ZME",
        "colab_type": "code",
        "colab": {}
      },
      "source": [
        "df = pd.read_csv('ratings.csv')"
      ],
      "execution_count": null,
      "outputs": []
    },
    {
      "cell_type": "code",
      "metadata": {
        "id": "c-7ejuuD6mhA",
        "colab_type": "code",
        "colab": {
          "base_uri": "https://localhost:8080/",
          "height": 359
        },
        "outputId": "d5118666-f106-493d-b7f4-7e8d61e68600"
      },
      "source": [
        "df.head(10)"
      ],
      "execution_count": null,
      "outputs": [
        {
          "output_type": "execute_result",
          "data": {
            "text/html": [
              "<div>\n",
              "<style scoped>\n",
              "    .dataframe tbody tr th:only-of-type {\n",
              "        vertical-align: middle;\n",
              "    }\n",
              "\n",
              "    .dataframe tbody tr th {\n",
              "        vertical-align: top;\n",
              "    }\n",
              "\n",
              "    .dataframe thead th {\n",
              "        text-align: right;\n",
              "    }\n",
              "</style>\n",
              "<table border=\"1\" class=\"dataframe\">\n",
              "  <thead>\n",
              "    <tr style=\"text-align: right;\">\n",
              "      <th></th>\n",
              "      <th>userId</th>\n",
              "      <th>movieId</th>\n",
              "      <th>rating</th>\n",
              "      <th>timestamp</th>\n",
              "    </tr>\n",
              "  </thead>\n",
              "  <tbody>\n",
              "    <tr>\n",
              "      <th>0</th>\n",
              "      <td>196</td>\n",
              "      <td>242</td>\n",
              "      <td>3</td>\n",
              "      <td>1970-01-01</td>\n",
              "    </tr>\n",
              "    <tr>\n",
              "      <th>1</th>\n",
              "      <td>186</td>\n",
              "      <td>302</td>\n",
              "      <td>3</td>\n",
              "      <td>1970-01-01</td>\n",
              "    </tr>\n",
              "    <tr>\n",
              "      <th>2</th>\n",
              "      <td>22</td>\n",
              "      <td>377</td>\n",
              "      <td>1</td>\n",
              "      <td>1970-01-01</td>\n",
              "    </tr>\n",
              "    <tr>\n",
              "      <th>3</th>\n",
              "      <td>244</td>\n",
              "      <td>51</td>\n",
              "      <td>2</td>\n",
              "      <td>1970-01-01</td>\n",
              "    </tr>\n",
              "    <tr>\n",
              "      <th>4</th>\n",
              "      <td>166</td>\n",
              "      <td>346</td>\n",
              "      <td>1</td>\n",
              "      <td>1970-01-01</td>\n",
              "    </tr>\n",
              "    <tr>\n",
              "      <th>5</th>\n",
              "      <td>298</td>\n",
              "      <td>474</td>\n",
              "      <td>4</td>\n",
              "      <td>1970-01-01</td>\n",
              "    </tr>\n",
              "    <tr>\n",
              "      <th>6</th>\n",
              "      <td>115</td>\n",
              "      <td>265</td>\n",
              "      <td>2</td>\n",
              "      <td>1970-01-01</td>\n",
              "    </tr>\n",
              "    <tr>\n",
              "      <th>7</th>\n",
              "      <td>253</td>\n",
              "      <td>465</td>\n",
              "      <td>5</td>\n",
              "      <td>1970-01-01</td>\n",
              "    </tr>\n",
              "    <tr>\n",
              "      <th>8</th>\n",
              "      <td>305</td>\n",
              "      <td>451</td>\n",
              "      <td>3</td>\n",
              "      <td>1970-01-01</td>\n",
              "    </tr>\n",
              "    <tr>\n",
              "      <th>9</th>\n",
              "      <td>6</td>\n",
              "      <td>86</td>\n",
              "      <td>3</td>\n",
              "      <td>1970-01-01</td>\n",
              "    </tr>\n",
              "  </tbody>\n",
              "</table>\n",
              "</div>"
            ],
            "text/plain": [
              "   userId  movieId  rating   timestamp\n",
              "0     196      242       3  1970-01-01\n",
              "1     186      302       3  1970-01-01\n",
              "2      22      377       1  1970-01-01\n",
              "3     244       51       2  1970-01-01\n",
              "4     166      346       1  1970-01-01\n",
              "5     298      474       4  1970-01-01\n",
              "6     115      265       2  1970-01-01\n",
              "7     253      465       5  1970-01-01\n",
              "8     305      451       3  1970-01-01\n",
              "9       6       86       3  1970-01-01"
            ]
          },
          "metadata": {
            "tags": []
          },
          "execution_count": 73
        }
      ]
    },
    {
      "cell_type": "code",
      "metadata": {
        "id": "468B33MTtEVc",
        "colab_type": "code",
        "colab": {}
      },
      "source": [
        "df = df.drop('timestamp', axis=1)"
      ],
      "execution_count": null,
      "outputs": []
    },
    {
      "cell_type": "code",
      "metadata": {
        "id": "8GzjT6USuK9G",
        "colab_type": "code",
        "colab": {
          "base_uri": "https://localhost:8080/",
          "height": 542
        },
        "outputId": "b12ff8c3-dd2c-40fd-e442-f2ff462ab215"
      },
      "source": [
        "data = df['rating'].value_counts().sort_index(ascending=False)\n",
        "trace = go.Bar(x=data.index,\n",
        "               text = ['{:.1f} %'.format(val) for val in (data.values / df.shape[0] * 100)],\n",
        "               textposition = 'auto',\n",
        "               textfont = dict(color = '#000000'),\n",
        "               y = data.values,\n",
        "               )\n",
        "#Create Layout\n",
        "layout = dict(title = 'Distribution Of {} movie-ratings'.format(df.shape[0]),\n",
        "              xaxis = dict(title = 'Rating'),\n",
        "              yaxis = dict(title = 'Count'))\n",
        "# Create plot\n",
        "fig = go.Figure(data=[trace], layout=layout)\n",
        "iplot(fig)"
      ],
      "execution_count": null,
      "outputs": [
        {
          "output_type": "display_data",
          "data": {
            "text/html": [
              "<html>\n",
              "<head><meta charset=\"utf-8\" /></head>\n",
              "<body>\n",
              "    <div>\n",
              "            <script src=\"https://cdnjs.cloudflare.com/ajax/libs/mathjax/2.7.5/MathJax.js?config=TeX-AMS-MML_SVG\"></script><script type=\"text/javascript\">if (window.MathJax) {MathJax.Hub.Config({SVG: {font: \"STIX-Web\"}});}</script>\n",
              "                <script type=\"text/javascript\">window.PlotlyConfig = {MathJaxConfig: 'local'};</script>\n",
              "        <script src=\"https://cdn.plot.ly/plotly-latest.min.js\"></script>    \n",
              "            <div id=\"a99e860b-1924-44fd-ae9d-00615883c3b0\" class=\"plotly-graph-div\" style=\"height:525px; width:100%;\"></div>\n",
              "            <script type=\"text/javascript\">\n",
              "                \n",
              "                    window.PLOTLYENV=window.PLOTLYENV || {};\n",
              "                    \n",
              "                if (document.getElementById(\"a99e860b-1924-44fd-ae9d-00615883c3b0\")) {\n",
              "                    Plotly.newPlot(\n",
              "                        'a99e860b-1924-44fd-ae9d-00615883c3b0',\n",
              "                        [{\"text\": [\"21.2 %\", \"34.2 %\", \"27.1 %\", \"11.4 %\", \"6.1 %\"], \"textfont\": {\"color\": \"#000000\"}, \"textposition\": \"auto\", \"type\": \"bar\", \"x\": [5, 4, 3, 2, 1], \"y\": [21201, 34174, 27145, 11370, 6110]}],\n",
              "                        {\"template\": {\"data\": {\"bar\": [{\"error_x\": {\"color\": \"#2a3f5f\"}, \"error_y\": {\"color\": \"#2a3f5f\"}, \"marker\": {\"line\": {\"color\": \"#E5ECF6\", \"width\": 0.5}}, \"type\": \"bar\"}], \"barpolar\": [{\"marker\": {\"line\": {\"color\": \"#E5ECF6\", \"width\": 0.5}}, \"type\": \"barpolar\"}], \"carpet\": [{\"aaxis\": {\"endlinecolor\": \"#2a3f5f\", \"gridcolor\": \"white\", \"linecolor\": \"white\", \"minorgridcolor\": \"white\", \"startlinecolor\": \"#2a3f5f\"}, \"baxis\": {\"endlinecolor\": \"#2a3f5f\", \"gridcolor\": \"white\", \"linecolor\": \"white\", \"minorgridcolor\": \"white\", \"startlinecolor\": \"#2a3f5f\"}, \"type\": \"carpet\"}], \"choropleth\": [{\"colorbar\": {\"outlinewidth\": 0, \"ticks\": \"\"}, \"type\": \"choropleth\"}], \"contour\": [{\"colorbar\": {\"outlinewidth\": 0, \"ticks\": \"\"}, \"colorscale\": [[0.0, \"#0d0887\"], [0.1111111111111111, \"#46039f\"], [0.2222222222222222, \"#7201a8\"], [0.3333333333333333, \"#9c179e\"], [0.4444444444444444, \"#bd3786\"], [0.5555555555555556, \"#d8576b\"], [0.6666666666666666, \"#ed7953\"], [0.7777777777777778, \"#fb9f3a\"], [0.8888888888888888, \"#fdca26\"], [1.0, \"#f0f921\"]], \"type\": \"contour\"}], \"contourcarpet\": [{\"colorbar\": {\"outlinewidth\": 0, \"ticks\": \"\"}, \"type\": \"contourcarpet\"}], \"heatmap\": [{\"colorbar\": {\"outlinewidth\": 0, \"ticks\": \"\"}, \"colorscale\": [[0.0, \"#0d0887\"], [0.1111111111111111, \"#46039f\"], [0.2222222222222222, \"#7201a8\"], [0.3333333333333333, \"#9c179e\"], [0.4444444444444444, \"#bd3786\"], [0.5555555555555556, \"#d8576b\"], [0.6666666666666666, \"#ed7953\"], [0.7777777777777778, \"#fb9f3a\"], [0.8888888888888888, \"#fdca26\"], [1.0, \"#f0f921\"]], \"type\": \"heatmap\"}], \"heatmapgl\": [{\"colorbar\": {\"outlinewidth\": 0, \"ticks\": \"\"}, \"colorscale\": [[0.0, \"#0d0887\"], [0.1111111111111111, \"#46039f\"], [0.2222222222222222, \"#7201a8\"], [0.3333333333333333, \"#9c179e\"], [0.4444444444444444, \"#bd3786\"], [0.5555555555555556, \"#d8576b\"], [0.6666666666666666, \"#ed7953\"], [0.7777777777777778, \"#fb9f3a\"], [0.8888888888888888, \"#fdca26\"], [1.0, \"#f0f921\"]], \"type\": \"heatmapgl\"}], \"histogram\": [{\"marker\": {\"colorbar\": {\"outlinewidth\": 0, \"ticks\": \"\"}}, \"type\": \"histogram\"}], \"histogram2d\": [{\"colorbar\": {\"outlinewidth\": 0, \"ticks\": \"\"}, \"colorscale\": [[0.0, \"#0d0887\"], [0.1111111111111111, \"#46039f\"], [0.2222222222222222, \"#7201a8\"], [0.3333333333333333, \"#9c179e\"], [0.4444444444444444, \"#bd3786\"], [0.5555555555555556, \"#d8576b\"], [0.6666666666666666, \"#ed7953\"], [0.7777777777777778, \"#fb9f3a\"], [0.8888888888888888, \"#fdca26\"], [1.0, \"#f0f921\"]], \"type\": \"histogram2d\"}], \"histogram2dcontour\": [{\"colorbar\": {\"outlinewidth\": 0, \"ticks\": \"\"}, \"colorscale\": [[0.0, \"#0d0887\"], [0.1111111111111111, \"#46039f\"], [0.2222222222222222, \"#7201a8\"], [0.3333333333333333, \"#9c179e\"], [0.4444444444444444, \"#bd3786\"], [0.5555555555555556, \"#d8576b\"], [0.6666666666666666, \"#ed7953\"], [0.7777777777777778, \"#fb9f3a\"], [0.8888888888888888, \"#fdca26\"], [1.0, \"#f0f921\"]], \"type\": \"histogram2dcontour\"}], \"mesh3d\": [{\"colorbar\": {\"outlinewidth\": 0, \"ticks\": \"\"}, \"type\": \"mesh3d\"}], \"parcoords\": [{\"line\": {\"colorbar\": {\"outlinewidth\": 0, \"ticks\": \"\"}}, \"type\": \"parcoords\"}], \"pie\": [{\"automargin\": true, \"type\": \"pie\"}], \"scatter\": [{\"marker\": {\"colorbar\": {\"outlinewidth\": 0, \"ticks\": \"\"}}, \"type\": \"scatter\"}], \"scatter3d\": [{\"line\": {\"colorbar\": {\"outlinewidth\": 0, \"ticks\": \"\"}}, \"marker\": {\"colorbar\": {\"outlinewidth\": 0, \"ticks\": \"\"}}, \"type\": \"scatter3d\"}], \"scattercarpet\": [{\"marker\": {\"colorbar\": {\"outlinewidth\": 0, \"ticks\": \"\"}}, \"type\": \"scattercarpet\"}], \"scattergeo\": [{\"marker\": {\"colorbar\": {\"outlinewidth\": 0, \"ticks\": \"\"}}, \"type\": \"scattergeo\"}], \"scattergl\": [{\"marker\": {\"colorbar\": {\"outlinewidth\": 0, \"ticks\": \"\"}}, \"type\": \"scattergl\"}], \"scattermapbox\": [{\"marker\": {\"colorbar\": {\"outlinewidth\": 0, \"ticks\": \"\"}}, \"type\": \"scattermapbox\"}], \"scatterpolar\": [{\"marker\": {\"colorbar\": {\"outlinewidth\": 0, \"ticks\": \"\"}}, \"type\": \"scatterpolar\"}], \"scatterpolargl\": [{\"marker\": {\"colorbar\": {\"outlinewidth\": 0, \"ticks\": \"\"}}, \"type\": \"scatterpolargl\"}], \"scatterternary\": [{\"marker\": {\"colorbar\": {\"outlinewidth\": 0, \"ticks\": \"\"}}, \"type\": \"scatterternary\"}], \"surface\": [{\"colorbar\": {\"outlinewidth\": 0, \"ticks\": \"\"}, \"colorscale\": [[0.0, \"#0d0887\"], [0.1111111111111111, \"#46039f\"], [0.2222222222222222, \"#7201a8\"], [0.3333333333333333, \"#9c179e\"], [0.4444444444444444, \"#bd3786\"], [0.5555555555555556, \"#d8576b\"], [0.6666666666666666, \"#ed7953\"], [0.7777777777777778, \"#fb9f3a\"], [0.8888888888888888, \"#fdca26\"], [1.0, \"#f0f921\"]], \"type\": \"surface\"}], \"table\": [{\"cells\": {\"fill\": {\"color\": \"#EBF0F8\"}, \"line\": {\"color\": \"white\"}}, \"header\": {\"fill\": {\"color\": \"#C8D4E3\"}, \"line\": {\"color\": \"white\"}}, \"type\": \"table\"}]}, \"layout\": {\"annotationdefaults\": {\"arrowcolor\": \"#2a3f5f\", \"arrowhead\": 0, \"arrowwidth\": 1}, \"coloraxis\": {\"colorbar\": {\"outlinewidth\": 0, \"ticks\": \"\"}}, \"colorscale\": {\"diverging\": [[0, \"#8e0152\"], [0.1, \"#c51b7d\"], [0.2, \"#de77ae\"], [0.3, \"#f1b6da\"], [0.4, \"#fde0ef\"], [0.5, \"#f7f7f7\"], [0.6, \"#e6f5d0\"], [0.7, \"#b8e186\"], [0.8, \"#7fbc41\"], [0.9, \"#4d9221\"], [1, \"#276419\"]], \"sequential\": [[0.0, \"#0d0887\"], [0.1111111111111111, \"#46039f\"], [0.2222222222222222, \"#7201a8\"], [0.3333333333333333, \"#9c179e\"], [0.4444444444444444, \"#bd3786\"], [0.5555555555555556, \"#d8576b\"], [0.6666666666666666, \"#ed7953\"], [0.7777777777777778, \"#fb9f3a\"], [0.8888888888888888, \"#fdca26\"], [1.0, \"#f0f921\"]], \"sequentialminus\": [[0.0, \"#0d0887\"], [0.1111111111111111, \"#46039f\"], [0.2222222222222222, \"#7201a8\"], [0.3333333333333333, \"#9c179e\"], [0.4444444444444444, \"#bd3786\"], [0.5555555555555556, \"#d8576b\"], [0.6666666666666666, \"#ed7953\"], [0.7777777777777778, \"#fb9f3a\"], [0.8888888888888888, \"#fdca26\"], [1.0, \"#f0f921\"]]}, \"colorway\": [\"#636efa\", \"#EF553B\", \"#00cc96\", \"#ab63fa\", \"#FFA15A\", \"#19d3f3\", \"#FF6692\", \"#B6E880\", \"#FF97FF\", \"#FECB52\"], \"font\": {\"color\": \"#2a3f5f\"}, \"geo\": {\"bgcolor\": \"white\", \"lakecolor\": \"white\", \"landcolor\": \"#E5ECF6\", \"showlakes\": true, \"showland\": true, \"subunitcolor\": \"white\"}, \"hoverlabel\": {\"align\": \"left\"}, \"hovermode\": \"closest\", \"mapbox\": {\"style\": \"light\"}, \"paper_bgcolor\": \"white\", \"plot_bgcolor\": \"#E5ECF6\", \"polar\": {\"angularaxis\": {\"gridcolor\": \"white\", \"linecolor\": \"white\", \"ticks\": \"\"}, \"bgcolor\": \"#E5ECF6\", \"radialaxis\": {\"gridcolor\": \"white\", \"linecolor\": \"white\", \"ticks\": \"\"}}, \"scene\": {\"xaxis\": {\"backgroundcolor\": \"#E5ECF6\", \"gridcolor\": \"white\", \"gridwidth\": 2, \"linecolor\": \"white\", \"showbackground\": true, \"ticks\": \"\", \"zerolinecolor\": \"white\"}, \"yaxis\": {\"backgroundcolor\": \"#E5ECF6\", \"gridcolor\": \"white\", \"gridwidth\": 2, \"linecolor\": \"white\", \"showbackground\": true, \"ticks\": \"\", \"zerolinecolor\": \"white\"}, \"zaxis\": {\"backgroundcolor\": \"#E5ECF6\", \"gridcolor\": \"white\", \"gridwidth\": 2, \"linecolor\": \"white\", \"showbackground\": true, \"ticks\": \"\", \"zerolinecolor\": \"white\"}}, \"shapedefaults\": {\"line\": {\"color\": \"#2a3f5f\"}}, \"ternary\": {\"aaxis\": {\"gridcolor\": \"white\", \"linecolor\": \"white\", \"ticks\": \"\"}, \"baxis\": {\"gridcolor\": \"white\", \"linecolor\": \"white\", \"ticks\": \"\"}, \"bgcolor\": \"#E5ECF6\", \"caxis\": {\"gridcolor\": \"white\", \"linecolor\": \"white\", \"ticks\": \"\"}}, \"title\": {\"x\": 0.05}, \"xaxis\": {\"automargin\": true, \"gridcolor\": \"white\", \"linecolor\": \"white\", \"ticks\": \"\", \"title\": {\"standoff\": 15}, \"zerolinecolor\": \"white\", \"zerolinewidth\": 2}, \"yaxis\": {\"automargin\": true, \"gridcolor\": \"white\", \"linecolor\": \"white\", \"ticks\": \"\", \"title\": {\"standoff\": 15}, \"zerolinecolor\": \"white\", \"zerolinewidth\": 2}}}, \"title\": {\"text\": \"Distribution Of 100000 movie-ratings\"}, \"xaxis\": {\"title\": {\"text\": \"Rating\"}}, \"yaxis\": {\"title\": {\"text\": \"Count\"}}},\n",
              "                        {\"responsive\": true}\n",
              "                    ).then(function(){\n",
              "                            \n",
              "var gd = document.getElementById('a99e860b-1924-44fd-ae9d-00615883c3b0');\n",
              "var x = new MutationObserver(function (mutations, observer) {{\n",
              "        var display = window.getComputedStyle(gd).display;\n",
              "        if (!display || display === 'none') {{\n",
              "            console.log([gd, 'removed!']);\n",
              "            Plotly.purge(gd);\n",
              "            observer.disconnect();\n",
              "        }}\n",
              "}});\n",
              "\n",
              "// Listen for the removal of the full notebook cells\n",
              "var notebookContainer = gd.closest('#notebook-container');\n",
              "if (notebookContainer) {{\n",
              "    x.observe(notebookContainer, {childList: true});\n",
              "}}\n",
              "\n",
              "// Listen for the clearing of the current output cell\n",
              "var outputEl = gd.closest('.output');\n",
              "if (outputEl) {{\n",
              "    x.observe(outputEl, {childList: true});\n",
              "}}\n",
              "\n",
              "                        })\n",
              "                };\n",
              "                \n",
              "            </script>\n",
              "        </div>\n",
              "</body>\n",
              "</html>"
            ]
          },
          "metadata": {
            "tags": []
          }
        }
      ]
    },
    {
      "cell_type": "code",
      "metadata": {
        "id": "YZ6I4M7pux4m",
        "colab_type": "code",
        "colab": {
          "base_uri": "https://localhost:8080/",
          "height": 542
        },
        "outputId": "ee11f890-39b6-46b6-d8f1-e37e9dc71e9c"
      },
      "source": [
        "# Number of ratings per book\n",
        "data = df.groupby('movieId')['rating'].count().clip(upper=50)\n",
        "\n",
        "# Create trace\n",
        "trace = go.Histogram(x = data.values,\n",
        "                     name = 'Ratings',\n",
        "                     xbins = dict(start = 0,\n",
        "                                  end = 100,\n",
        "                                  size = 2))\n",
        "# Create layout\n",
        "layout = go.Layout(title = 'Distribution Of Number of Ratings Per Movies (Clipped at 100)',\n",
        "                   xaxis = dict(title = 'Number of Ratings Per Movies'),\n",
        "                   yaxis = dict(title = 'Count'),\n",
        "                   bargap = 0.2)\n",
        "\n",
        "# Create plot\n",
        "fig = go.Figure(data=[trace], layout=layout)\n",
        "iplot(fig)"
      ],
      "execution_count": null,
      "outputs": [
        {
          "output_type": "display_data",
          "data": {
            "text/html": [
              "<html>\n",
              "<head><meta charset=\"utf-8\" /></head>\n",
              "<body>\n",
              "    <div>\n",
              "            <script src=\"https://cdnjs.cloudflare.com/ajax/libs/mathjax/2.7.5/MathJax.js?config=TeX-AMS-MML_SVG\"></script><script type=\"text/javascript\">if (window.MathJax) {MathJax.Hub.Config({SVG: {font: \"STIX-Web\"}});}</script>\n",
              "                <script type=\"text/javascript\">window.PlotlyConfig = {MathJaxConfig: 'local'};</script>\n",
              "        <script src=\"https://cdn.plot.ly/plotly-latest.min.js\"></script>    \n",
              "            <div id=\"91bf553e-35e3-42d2-8661-86a969752b3c\" class=\"plotly-graph-div\" style=\"height:525px; width:100%;\"></div>\n",
              "            <script type=\"text/javascript\">\n",
              "                \n",
              "                    window.PLOTLYENV=window.PLOTLYENV || {};\n",
              "                    \n",
              "                if (document.getElementById(\"91bf553e-35e3-42d2-8661-86a969752b3c\")) {\n",
              "                    Plotly.newPlot(\n",
              "                        '91bf553e-35e3-42d2-8661-86a969752b3c',\n",
              "                        [{\"name\": \"Ratings\", \"type\": \"histogram\", \"x\": [50, 50, 50, 50, 50, 26, 50, 50, 50, 50, 50, 50, 50, 50, 50, 39, 50, 10, 50, 50, 50, 50, 50, 50, 50, 50, 50, 50, 50, 37, 50, 50, 50, 7, 11, 13, 8, 50, 50, 50, 37, 50, 40, 50, 50, 27, 50, 50, 50, 50, 50, 50, 50, 50, 50, 50, 40, 50, 50, 50, 50, 50, 50, 50, 50, 50, 50, 50, 50, 50, 50, 50, 50, 7, 5, 50, 50, 33, 50, 50, 50, 50, 50, 18, 50, 50, 50, 50, 50, 50, 50, 50, 50, 50, 50, 50, 50, 50, 50, 50, 50, 50, 15, 5, 50, 50, 42, 50, 50, 31, 50, 20, 9, 50, 15, 50, 50, 50, 4, 50, 50, 50, 50, 50, 50, 50, 50, 50, 50, 23, 50, 50, 50, 50, 50, 50, 50, 19, 50, 50, 50, 50, 50, 50, 50, 10, 50, 50, 23, 50, 50, 50, 50, 50, 50, 50, 50, 50, 50, 50, 50, 50, 50, 50, 50, 50, 50, 50, 50, 50, 50, 50, 50, 50, 50, 50, 50, 50, 50, 50, 50, 50, 50, 50, 50, 50, 50, 50, 50, 50, 50, 50, 50, 50, 50, 50, 50, 50, 50, 50, 50, 50, 50, 50, 50, 50, 50, 50, 50, 50, 50, 50, 50, 50, 50, 50, 50, 50, 50, 50, 50, 50, 50, 44, 50, 50, 50, 50, 50, 50, 50, 50, 50, 50, 50, 45, 50, 50, 50, 50, 50, 50, 50, 48, 50, 50, 5, 50, 50, 50, 46, 50, 26, 50, 50, 16, 50, 50, 50, 50, 43, 50, 19, 50, 50, 35, 9, 50, 50, 50, 50, 50, 50, 50, 50, 50, 50, 50, 28, 50, 50, 50, 50, 50, 50, 50, 50, 50, 50, 50, 50, 50, 50, 50, 50, 6, 50, 50, 50, 50, 50, 50, 50, 50, 50, 50, 50, 30, 28, 50, 50, 50, 50, 5, 50, 50, 50, 50, 50, 20, 50, 50, 50, 50, 50, 50, 50, 50, 45, 41, 50, 50, 50, 50, 21, 43, 18, 50, 47, 50, 11, 50, 50, 50, 50, 50, 50, 27, 31, 41, 20, 26, 14, 50, 41, 50, 50, 50, 18, 10, 10, 28, 47, 37, 48, 47, 50, 31, 50, 39, 50, 34, 39, 11, 23, 24, 13, 50, 43, 50, 50, 50, 31, 50, 50, 50, 50, 28, 27, 10, 50, 50, 50, 12, 50, 50, 12, 26, 50, 18, 50, 50, 50, 50, 50, 49, 43, 50, 50, 50, 50, 50, 50, 50, 25, 50, 50, 50, 50, 50, 50, 26, 50, 19, 50, 32, 50, 50, 50, 50, 50, 50, 50, 50, 50, 50, 5, 6, 5, 14, 50, 4, 50, 46, 22, 9, 50, 50, 50, 50, 50, 50, 16, 16, 50, 48, 27, 50, 24, 28, 50, 50, 50, 27, 50, 50, 48, 50, 50, 50, 50, 50, 50, 50, 50, 50, 50, 50, 50, 50, 50, 50, 50, 50, 50, 50, 50, 50, 50, 50, 50, 50, 50, 50, 50, 50, 50, 50, 50, 31, 50, 50, 39, 50, 50, 50, 50, 50, 50, 50, 50, 50, 50, 50, 50, 50, 50, 50, 50, 50, 50, 35, 50, 46, 50, 50, 50, 50, 50, 50, 50, 22, 15, 13, 50, 10, 30, 50, 44, 43, 49, 50, 21, 50, 12, 50, 41, 12, 50, 50, 24, 45, 50, 50, 10, 12, 17, 50, 50, 22, 50, 48, 29, 27, 22, 50, 35, 50, 50, 50, 28, 29, 33, 15, 44, 50, 41, 50, 19, 32, 50, 50, 37, 50, 39, 34, 14, 50, 43, 18, 50, 9, 12, 5, 50, 50, 50, 4, 1, 2, 20, 50, 50, 50, 31, 50, 50, 30, 50, 41, 40, 34, 27, 50, 50, 50, 18, 18, 50, 43, 11, 39, 39, 22, 50, 4, 50, 50, 50, 31, 50, 50, 50, 24, 23, 50, 38, 44, 40, 50, 33, 50, 4, 35, 27, 38, 50, 50, 50, 50, 50, 50, 34, 50, 50, 44, 50, 50, 50, 50, 50, 50, 50, 46, 50, 5, 12, 6, 13, 36, 46, 50, 50, 48, 50, 50, 1, 50, 50, 34, 27, 50, 49, 50, 50, 50, 50, 44, 50, 50, 16, 50, 50, 44, 13, 50, 40, 10, 50, 15, 10, 50, 19, 24, 50, 6, 50, 50, 50, 50, 1, 50, 50, 13, 50, 50, 50, 16, 29, 50, 50, 50, 34, 50, 16, 14, 50, 45, 50, 24, 39, 50, 15, 27, 50, 50, 50, 31, 50, 50, 50, 50, 39, 50, 16, 50, 50, 50, 50, 50, 50, 39, 24, 50, 50, 50, 4, 21, 11, 46, 44, 50, 50, 29, 32, 9, 11, 50, 42, 50, 41, 49, 17, 32, 26, 9, 4, 50, 31, 50, 50, 10, 37, 2, 39, 14, 13, 3, 47, 50, 10, 50, 10, 46, 21, 36, 31, 9, 5, 26, 16, 40, 9, 8, 27, 50, 9, 31, 43, 45, 18, 18, 50, 1, 50, 21, 3, 25, 40, 50, 22, 4, 50, 49, 50, 50, 50, 13, 34, 1, 50, 22, 49, 25, 15, 26, 25, 4, 4, 50, 48, 27, 30, 42, 50, 44, 50, 9, 50, 4, 4, 1, 14, 16, 50, 36, 1, 3, 15, 16, 3, 18, 24, 50, 21, 50, 6, 5, 24, 9, 50, 42, 50, 39, 50, 47, 50, 33, 50, 50, 45, 34, 13, 7, 13, 50, 50, 15, 13, 43, 6, 50, 14, 19, 50, 44, 2, 50, 9, 42, 12, 42, 18, 20, 27, 21, 2, 20, 13, 4, 4, 9, 2, 11, 13, 18, 7, 8, 50, 5, 46, 34, 50, 50, 34, 50, 6, 50, 40, 50, 50, 40, 21, 50, 7, 32, 37, 25, 50, 32, 46, 45, 40, 43, 40, 50, 17, 48, 50, 30, 39, 45, 22, 11, 49, 46, 2, 14, 50, 25, 34, 23, 41, 9, 21, 26, 12, 18, 50, 8, 34, 28, 4, 32, 44, 12, 49, 27, 35, 22, 8, 20, 15, 44, 22, 23, 4, 50, 32, 33, 25, 4, 50, 7, 31, 14, 16, 16, 10, 10, 17, 8, 8, 9, 22, 23, 47, 37, 50, 44, 50, 50, 38, 50, 12, 50, 50, 32, 31, 35, 38, 32, 31, 15, 44, 4, 3, 50, 14, 20, 7, 16, 32, 27, 50, 24, 24, 17, 50, 25, 50, 28, 8, 40, 25, 46, 50, 50, 25, 43, 41, 25, 24, 23, 10, 10, 22, 15, 35, 39, 29, 12, 41, 4, 50, 16, 44, 12, 18, 27, 16, 7, 50, 50, 7, 12, 8, 22, 45, 2, 8, 8, 6, 21, 11, 21, 10, 13, 38, 37, 43, 12, 23, 12, 29, 3, 18, 42, 13, 8, 50, 7, 19, 4, 18, 4, 18, 5, 28, 41, 7, 15, 22, 10, 29, 13, 19, 47, 50, 17, 21, 1, 3, 12, 4, 32, 11, 13, 28, 1, 13, 32, 30, 38, 46, 29, 29, 5, 33, 17, 9, 44, 15, 3, 9, 3, 21, 9, 26, 9, 7, 28, 19, 12, 3, 1, 25, 4, 11, 26, 13, 5, 25, 6, 14, 12, 11, 22, 10, 27, 14, 15, 7, 8, 5, 22, 7, 19, 9, 10, 10, 13, 19, 10, 18, 3, 13, 44, 3, 11, 3, 13, 10, 31, 11, 3, 45, 7, 23, 7, 1, 8, 21, 18, 6, 19, 17, 20, 15, 38, 12, 6, 6, 9, 30, 6, 39, 26, 20, 30, 39, 25, 4, 12, 14, 32, 8, 48, 13, 18, 22, 17, 6, 8, 1, 1, 6, 8, 18, 26, 6, 5, 7, 36, 19, 7, 6, 19, 12, 6, 8, 9, 7, 11, 8, 3, 4, 23, 4, 4, 4, 8, 15, 7, 19, 12, 33, 10, 10, 7, 7, 5, 15, 11, 4, 8, 19, 16, 9, 16, 13, 9, 19, 26, 15, 17, 6, 7, 7, 2, 15, 3, 3, 7, 7, 20, 12, 9, 8, 9, 5, 5, 18, 2, 7, 2, 2, 2, 1, 1, 16, 7, 14, 11, 23, 7, 4, 3, 4, 1, 2, 6, 3, 5, 1, 6, 3, 6, 1, 4, 4, 2, 5, 2, 11, 10, 9, 4, 1, 1, 1, 2, 1, 5, 2, 5, 4, 1, 1, 2, 3, 1, 5, 2, 6, 3, 3, 2, 2, 2, 3, 2, 1, 1, 2, 1, 5, 6, 4, 3, 2, 3, 1, 2, 10, 7, 4, 5, 7, 6, 8, 4, 6, 3, 5, 6, 3, 6, 3, 2, 3, 5, 9, 7, 6, 5, 5, 2, 7, 10, 18, 4, 4, 13, 6, 5, 20, 3, 7, 4, 28, 6, 8, 1, 9, 5, 2, 3, 16, 3, 11, 4, 4, 3, 10, 8, 5, 12, 4, 3, 5, 3, 2, 10, 7, 2, 9, 5, 8, 5, 7, 5, 4, 19, 4, 15, 1, 3, 8, 2, 15, 1, 1, 6, 2, 7, 1, 1, 7, 1, 1, 7, 3, 3, 3, 6, 2, 6, 12, 5, 9, 2, 9, 6, 8, 1, 2, 18, 8, 11, 2, 1, 12, 3, 4, 1, 5, 4, 5, 3, 2, 1, 1, 1, 5, 5, 2, 1, 4, 2, 5, 2, 10, 3, 1, 3, 1, 3, 5, 1, 5, 6, 3, 7, 1, 3, 5, 12, 2, 1, 4, 7, 2, 8, 1, 1, 7, 3, 5, 5, 7, 2, 1, 6, 4, 1, 4, 3, 4, 10, 2, 2, 1, 3, 4, 1, 2, 1, 2, 2, 2, 3, 4, 2, 5, 2, 1, 7, 1, 4, 1, 1, 1, 1, 1, 1, 1, 1, 1, 1, 1, 1, 2, 1, 1, 1, 1, 2, 1, 1, 1, 1, 1, 1, 2, 1, 1, 2, 4, 2, 6, 5, 1, 2, 1, 1, 5, 6, 1, 4, 1, 3, 1, 1, 4, 1, 3, 4, 3, 3, 2, 4, 1, 1, 10, 1, 2, 1, 1, 9, 1, 3, 3, 1, 1, 1, 1, 4, 2, 1, 2, 1, 1, 1, 1, 1, 1, 1, 3, 1, 1, 2, 4, 2, 1, 2, 1, 1, 1, 1, 1, 3, 1, 1, 1, 2, 1, 3, 1, 1, 1, 2, 1, 4, 1, 1, 1, 1, 1, 1, 1, 2, 1, 1, 1, 1, 1, 1, 1, 1, 1, 1], \"xbins\": {\"end\": 100, \"size\": 2, \"start\": 0}}],\n",
              "                        {\"bargap\": 0.2, \"template\": {\"data\": {\"bar\": [{\"error_x\": {\"color\": \"#2a3f5f\"}, \"error_y\": {\"color\": \"#2a3f5f\"}, \"marker\": {\"line\": {\"color\": \"#E5ECF6\", \"width\": 0.5}}, \"type\": \"bar\"}], \"barpolar\": [{\"marker\": {\"line\": {\"color\": \"#E5ECF6\", \"width\": 0.5}}, \"type\": \"barpolar\"}], \"carpet\": [{\"aaxis\": {\"endlinecolor\": \"#2a3f5f\", \"gridcolor\": \"white\", \"linecolor\": \"white\", \"minorgridcolor\": \"white\", \"startlinecolor\": \"#2a3f5f\"}, \"baxis\": {\"endlinecolor\": \"#2a3f5f\", \"gridcolor\": \"white\", \"linecolor\": \"white\", \"minorgridcolor\": \"white\", \"startlinecolor\": \"#2a3f5f\"}, \"type\": \"carpet\"}], \"choropleth\": [{\"colorbar\": {\"outlinewidth\": 0, \"ticks\": \"\"}, \"type\": \"choropleth\"}], \"contour\": [{\"colorbar\": {\"outlinewidth\": 0, \"ticks\": \"\"}, \"colorscale\": [[0.0, \"#0d0887\"], [0.1111111111111111, \"#46039f\"], [0.2222222222222222, \"#7201a8\"], [0.3333333333333333, \"#9c179e\"], [0.4444444444444444, \"#bd3786\"], [0.5555555555555556, \"#d8576b\"], [0.6666666666666666, \"#ed7953\"], [0.7777777777777778, \"#fb9f3a\"], [0.8888888888888888, \"#fdca26\"], [1.0, \"#f0f921\"]], \"type\": \"contour\"}], \"contourcarpet\": [{\"colorbar\": {\"outlinewidth\": 0, \"ticks\": \"\"}, \"type\": \"contourcarpet\"}], \"heatmap\": [{\"colorbar\": {\"outlinewidth\": 0, \"ticks\": \"\"}, \"colorscale\": [[0.0, \"#0d0887\"], [0.1111111111111111, \"#46039f\"], [0.2222222222222222, \"#7201a8\"], [0.3333333333333333, \"#9c179e\"], [0.4444444444444444, \"#bd3786\"], [0.5555555555555556, \"#d8576b\"], [0.6666666666666666, \"#ed7953\"], [0.7777777777777778, \"#fb9f3a\"], [0.8888888888888888, \"#fdca26\"], [1.0, \"#f0f921\"]], \"type\": \"heatmap\"}], \"heatmapgl\": [{\"colorbar\": {\"outlinewidth\": 0, \"ticks\": \"\"}, \"colorscale\": [[0.0, \"#0d0887\"], [0.1111111111111111, \"#46039f\"], [0.2222222222222222, \"#7201a8\"], [0.3333333333333333, \"#9c179e\"], [0.4444444444444444, \"#bd3786\"], [0.5555555555555556, \"#d8576b\"], [0.6666666666666666, \"#ed7953\"], [0.7777777777777778, \"#fb9f3a\"], [0.8888888888888888, \"#fdca26\"], [1.0, \"#f0f921\"]], \"type\": \"heatmapgl\"}], \"histogram\": [{\"marker\": {\"colorbar\": {\"outlinewidth\": 0, \"ticks\": \"\"}}, \"type\": \"histogram\"}], \"histogram2d\": [{\"colorbar\": {\"outlinewidth\": 0, \"ticks\": \"\"}, \"colorscale\": [[0.0, \"#0d0887\"], [0.1111111111111111, \"#46039f\"], [0.2222222222222222, \"#7201a8\"], [0.3333333333333333, \"#9c179e\"], [0.4444444444444444, \"#bd3786\"], [0.5555555555555556, \"#d8576b\"], [0.6666666666666666, \"#ed7953\"], [0.7777777777777778, \"#fb9f3a\"], [0.8888888888888888, \"#fdca26\"], [1.0, \"#f0f921\"]], \"type\": \"histogram2d\"}], \"histogram2dcontour\": [{\"colorbar\": {\"outlinewidth\": 0, \"ticks\": \"\"}, \"colorscale\": [[0.0, \"#0d0887\"], [0.1111111111111111, \"#46039f\"], [0.2222222222222222, \"#7201a8\"], [0.3333333333333333, \"#9c179e\"], [0.4444444444444444, \"#bd3786\"], [0.5555555555555556, \"#d8576b\"], [0.6666666666666666, \"#ed7953\"], [0.7777777777777778, \"#fb9f3a\"], [0.8888888888888888, \"#fdca26\"], [1.0, \"#f0f921\"]], \"type\": \"histogram2dcontour\"}], \"mesh3d\": [{\"colorbar\": {\"outlinewidth\": 0, \"ticks\": \"\"}, \"type\": \"mesh3d\"}], \"parcoords\": [{\"line\": {\"colorbar\": {\"outlinewidth\": 0, \"ticks\": \"\"}}, \"type\": \"parcoords\"}], \"pie\": [{\"automargin\": true, \"type\": \"pie\"}], \"scatter\": [{\"marker\": {\"colorbar\": {\"outlinewidth\": 0, \"ticks\": \"\"}}, \"type\": \"scatter\"}], \"scatter3d\": [{\"line\": {\"colorbar\": {\"outlinewidth\": 0, \"ticks\": \"\"}}, \"marker\": {\"colorbar\": {\"outlinewidth\": 0, \"ticks\": \"\"}}, \"type\": \"scatter3d\"}], \"scattercarpet\": [{\"marker\": {\"colorbar\": {\"outlinewidth\": 0, \"ticks\": \"\"}}, \"type\": \"scattercarpet\"}], \"scattergeo\": [{\"marker\": {\"colorbar\": {\"outlinewidth\": 0, \"ticks\": \"\"}}, \"type\": \"scattergeo\"}], \"scattergl\": [{\"marker\": {\"colorbar\": {\"outlinewidth\": 0, \"ticks\": \"\"}}, \"type\": \"scattergl\"}], \"scattermapbox\": [{\"marker\": {\"colorbar\": {\"outlinewidth\": 0, \"ticks\": \"\"}}, \"type\": \"scattermapbox\"}], \"scatterpolar\": [{\"marker\": {\"colorbar\": {\"outlinewidth\": 0, \"ticks\": \"\"}}, \"type\": \"scatterpolar\"}], \"scatterpolargl\": [{\"marker\": {\"colorbar\": {\"outlinewidth\": 0, \"ticks\": \"\"}}, \"type\": \"scatterpolargl\"}], \"scatterternary\": [{\"marker\": {\"colorbar\": {\"outlinewidth\": 0, \"ticks\": \"\"}}, \"type\": \"scatterternary\"}], \"surface\": [{\"colorbar\": {\"outlinewidth\": 0, \"ticks\": \"\"}, \"colorscale\": [[0.0, \"#0d0887\"], [0.1111111111111111, \"#46039f\"], [0.2222222222222222, \"#7201a8\"], [0.3333333333333333, \"#9c179e\"], [0.4444444444444444, \"#bd3786\"], [0.5555555555555556, \"#d8576b\"], [0.6666666666666666, \"#ed7953\"], [0.7777777777777778, \"#fb9f3a\"], [0.8888888888888888, \"#fdca26\"], [1.0, \"#f0f921\"]], \"type\": \"surface\"}], \"table\": [{\"cells\": {\"fill\": {\"color\": \"#EBF0F8\"}, \"line\": {\"color\": \"white\"}}, \"header\": {\"fill\": {\"color\": \"#C8D4E3\"}, \"line\": {\"color\": \"white\"}}, \"type\": \"table\"}]}, \"layout\": {\"annotationdefaults\": {\"arrowcolor\": \"#2a3f5f\", \"arrowhead\": 0, \"arrowwidth\": 1}, \"coloraxis\": {\"colorbar\": {\"outlinewidth\": 0, \"ticks\": \"\"}}, \"colorscale\": {\"diverging\": [[0, \"#8e0152\"], [0.1, \"#c51b7d\"], [0.2, \"#de77ae\"], [0.3, \"#f1b6da\"], [0.4, \"#fde0ef\"], [0.5, \"#f7f7f7\"], [0.6, \"#e6f5d0\"], [0.7, \"#b8e186\"], [0.8, \"#7fbc41\"], [0.9, \"#4d9221\"], [1, \"#276419\"]], \"sequential\": [[0.0, \"#0d0887\"], [0.1111111111111111, \"#46039f\"], [0.2222222222222222, \"#7201a8\"], [0.3333333333333333, \"#9c179e\"], [0.4444444444444444, \"#bd3786\"], [0.5555555555555556, \"#d8576b\"], [0.6666666666666666, \"#ed7953\"], [0.7777777777777778, \"#fb9f3a\"], [0.8888888888888888, \"#fdca26\"], [1.0, \"#f0f921\"]], \"sequentialminus\": [[0.0, \"#0d0887\"], [0.1111111111111111, \"#46039f\"], [0.2222222222222222, \"#7201a8\"], [0.3333333333333333, \"#9c179e\"], [0.4444444444444444, \"#bd3786\"], [0.5555555555555556, \"#d8576b\"], [0.6666666666666666, \"#ed7953\"], [0.7777777777777778, \"#fb9f3a\"], [0.8888888888888888, \"#fdca26\"], [1.0, \"#f0f921\"]]}, \"colorway\": [\"#636efa\", \"#EF553B\", \"#00cc96\", \"#ab63fa\", \"#FFA15A\", \"#19d3f3\", \"#FF6692\", \"#B6E880\", \"#FF97FF\", \"#FECB52\"], \"font\": {\"color\": \"#2a3f5f\"}, \"geo\": {\"bgcolor\": \"white\", \"lakecolor\": \"white\", \"landcolor\": \"#E5ECF6\", \"showlakes\": true, \"showland\": true, \"subunitcolor\": \"white\"}, \"hoverlabel\": {\"align\": \"left\"}, \"hovermode\": \"closest\", \"mapbox\": {\"style\": \"light\"}, \"paper_bgcolor\": \"white\", \"plot_bgcolor\": \"#E5ECF6\", \"polar\": {\"angularaxis\": {\"gridcolor\": \"white\", \"linecolor\": \"white\", \"ticks\": \"\"}, \"bgcolor\": \"#E5ECF6\", \"radialaxis\": {\"gridcolor\": \"white\", \"linecolor\": \"white\", \"ticks\": \"\"}}, \"scene\": {\"xaxis\": {\"backgroundcolor\": \"#E5ECF6\", \"gridcolor\": \"white\", \"gridwidth\": 2, \"linecolor\": \"white\", \"showbackground\": true, \"ticks\": \"\", \"zerolinecolor\": \"white\"}, \"yaxis\": {\"backgroundcolor\": \"#E5ECF6\", \"gridcolor\": \"white\", \"gridwidth\": 2, \"linecolor\": \"white\", \"showbackground\": true, \"ticks\": \"\", \"zerolinecolor\": \"white\"}, \"zaxis\": {\"backgroundcolor\": \"#E5ECF6\", \"gridcolor\": \"white\", \"gridwidth\": 2, \"linecolor\": \"white\", \"showbackground\": true, \"ticks\": \"\", \"zerolinecolor\": \"white\"}}, \"shapedefaults\": {\"line\": {\"color\": \"#2a3f5f\"}}, \"ternary\": {\"aaxis\": {\"gridcolor\": \"white\", \"linecolor\": \"white\", \"ticks\": \"\"}, \"baxis\": {\"gridcolor\": \"white\", \"linecolor\": \"white\", \"ticks\": \"\"}, \"bgcolor\": \"#E5ECF6\", \"caxis\": {\"gridcolor\": \"white\", \"linecolor\": \"white\", \"ticks\": \"\"}}, \"title\": {\"x\": 0.05}, \"xaxis\": {\"automargin\": true, \"gridcolor\": \"white\", \"linecolor\": \"white\", \"ticks\": \"\", \"title\": {\"standoff\": 15}, \"zerolinecolor\": \"white\", \"zerolinewidth\": 2}, \"yaxis\": {\"automargin\": true, \"gridcolor\": \"white\", \"linecolor\": \"white\", \"ticks\": \"\", \"title\": {\"standoff\": 15}, \"zerolinecolor\": \"white\", \"zerolinewidth\": 2}}}, \"title\": {\"text\": \"Distribution Of Number of Ratings Per Movies (Clipped at 100)\"}, \"xaxis\": {\"title\": {\"text\": \"Number of Ratings Per Movies\"}}, \"yaxis\": {\"title\": {\"text\": \"Count\"}}},\n",
              "                        {\"responsive\": true}\n",
              "                    ).then(function(){\n",
              "                            \n",
              "var gd = document.getElementById('91bf553e-35e3-42d2-8661-86a969752b3c');\n",
              "var x = new MutationObserver(function (mutations, observer) {{\n",
              "        var display = window.getComputedStyle(gd).display;\n",
              "        if (!display || display === 'none') {{\n",
              "            console.log([gd, 'removed!']);\n",
              "            Plotly.purge(gd);\n",
              "            observer.disconnect();\n",
              "        }}\n",
              "}});\n",
              "\n",
              "// Listen for the removal of the full notebook cells\n",
              "var notebookContainer = gd.closest('#notebook-container');\n",
              "if (notebookContainer) {{\n",
              "    x.observe(notebookContainer, {childList: true});\n",
              "}}\n",
              "\n",
              "// Listen for the clearing of the current output cell\n",
              "var outputEl = gd.closest('.output');\n",
              "if (outputEl) {{\n",
              "    x.observe(outputEl, {childList: true});\n",
              "}}\n",
              "\n",
              "                        })\n",
              "                };\n",
              "                \n",
              "            </script>\n",
              "        </div>\n",
              "</body>\n",
              "</html>"
            ]
          },
          "metadata": {
            "tags": []
          }
        }
      ]
    },
    {
      "cell_type": "code",
      "metadata": {
        "id": "UxALmh2AvoZW",
        "colab_type": "code",
        "colab": {
          "base_uri": "https://localhost:8080/",
          "height": 542
        },
        "outputId": "6a036524-0aa3-46d6-f981-9f3644377a8f"
      },
      "source": [
        "# Number of ratings per user\n",
        "data = df.groupby('userId')['rating'].count().clip(upper=50)\n",
        "\n",
        "# Create trace\n",
        "trace = go.Histogram(x = data.values,\n",
        "                     name = 'Ratings',\n",
        "                     xbins = dict(start = 0,\n",
        "                                  end = 50,\n",
        "                                  size = 2))\n",
        "# Create layout\n",
        "layout = go.Layout(title = 'Distribution Of Number of Ratings Per User (Clipped at 50)',\n",
        "                   xaxis = dict(title = 'Ratings Per User'),\n",
        "                   yaxis = dict(title = 'Count'),\n",
        "                   bargap = 0.2)\n",
        "\n",
        "# Create plot\n",
        "fig = go.Figure(data=[trace], layout=layout)\n",
        "iplot(fig)"
      ],
      "execution_count": null,
      "outputs": [
        {
          "output_type": "display_data",
          "data": {
            "text/html": [
              "<html>\n",
              "<head><meta charset=\"utf-8\" /></head>\n",
              "<body>\n",
              "    <div>\n",
              "            <script src=\"https://cdnjs.cloudflare.com/ajax/libs/mathjax/2.7.5/MathJax.js?config=TeX-AMS-MML_SVG\"></script><script type=\"text/javascript\">if (window.MathJax) {MathJax.Hub.Config({SVG: {font: \"STIX-Web\"}});}</script>\n",
              "                <script type=\"text/javascript\">window.PlotlyConfig = {MathJaxConfig: 'local'};</script>\n",
              "        <script src=\"https://cdn.plot.ly/plotly-latest.min.js\"></script>    \n",
              "            <div id=\"b2468062-fec7-490e-a0fc-cbee24f19732\" class=\"plotly-graph-div\" style=\"height:525px; width:100%;\"></div>\n",
              "            <script type=\"text/javascript\">\n",
              "                \n",
              "                    window.PLOTLYENV=window.PLOTLYENV || {};\n",
              "                    \n",
              "                if (document.getElementById(\"b2468062-fec7-490e-a0fc-cbee24f19732\")) {\n",
              "                    Plotly.newPlot(\n",
              "                        'b2468062-fec7-490e-a0fc-cbee24f19732',\n",
              "                        [{\"name\": \"Ratings\", \"type\": \"histogram\", \"x\": [50, 50, 50, 24, 50, 50, 50, 50, 22, 50, 50, 50, 50, 50, 50, 50, 28, 50, 20, 48, 50, 50, 50, 50, 50, 50, 25, 50, 34, 43, 36, 41, 24, 20, 25, 20, 50, 50, 22, 35, 50, 50, 50, 50, 48, 27, 25, 50, 50, 24, 23, 50, 28, 50, 21, 50, 50, 50, 50, 50, 21, 50, 50, 50, 50, 38, 30, 34, 50, 50, 38, 50, 50, 39, 50, 50, 50, 21, 50, 29, 50, 50, 50, 50, 50, 23, 50, 21, 50, 50, 50, 50, 20, 50, 50, 50, 50, 27, 50, 50, 50, 50, 29, 50, 23, 50, 22, 33, 50, 50, 24, 46, 50, 48, 50, 50, 50, 50, 50, 26, 50, 50, 50, 24, 50, 45, 23, 50, 30, 50, 30, 22, 26, 25, 50, 35, 47, 50, 24, 21, 50, 33, 20, 50, 50, 29, 20, 50, 36, 32, 50, 50, 23, 50, 22, 37, 50, 50, 50, 50, 50, 42, 23, 50, 30, 20, 50, 50, 37, 22, 28, 27, 43, 50, 38, 50, 50, 50, 42, 50, 50, 28, 50, 50, 48, 50, 50, 50, 50, 50, 27, 35, 50, 50, 50, 39, 50, 50, 40, 50, 50, 20, 43, 42, 22, 50, 50, 33, 33, 50, 37, 25, 50, 50, 50, 50, 50, 50, 28, 22, 50, 50, 50, 50, 27, 50, 50, 21, 30, 50, 21, 50, 50, 50, 50, 50, 48, 29, 50, 24, 23, 20, 50, 50, 22, 50, 26, 50, 50, 50, 50, 21, 50, 50, 50, 50, 50, 23, 46, 24, 27, 50, 50, 50, 46, 23, 50, 50, 50, 50, 50, 50, 22, 50, 50, 50, 50, 23, 50, 50, 26, 22, 50, 47, 32, 50, 50, 50, 27, 50, 50, 50, 50, 50, 50, 50, 50, 50, 50, 20, 50, 21, 50, 26, 50, 32, 50, 50, 20, 21, 50, 50, 50, 50, 50, 50, 22, 50, 23, 50, 50, 50, 50, 50, 50, 50, 50, 50, 50, 50, 50, 50, 26, 50, 22, 50, 34, 50, 50, 44, 21, 50, 50, 50, 50, 50, 50, 50, 41, 50, 44, 42, 25, 50, 26, 24, 50, 43, 27, 50, 50, 25, 50, 20, 50, 33, 50, 45, 22, 50, 50, 50, 50, 50, 28, 30, 33, 50, 50, 50, 50, 50, 50, 22, 50, 23, 50, 50, 50, 31, 50, 50, 50, 50, 50, 50, 50, 50, 50, 22, 50, 50, 50, 44, 50, 50, 50, 27, 50, 28, 50, 50, 50, 25, 24, 50, 50, 20, 32, 36, 50, 50, 50, 44, 50, 50, 31, 50, 50, 50, 21, 50, 41, 44, 50, 50, 50, 33, 31, 50, 20, 50, 24, 24, 50, 36, 50, 38, 50, 50, 50, 50, 50, 50, 50, 50, 50, 50, 50, 50, 23, 33, 50, 50, 50, 50, 44, 50, 43, 50, 31, 50, 35, 50, 20, 50, 35, 50, 50, 50, 50, 26, 50, 50, 26, 50, 50, 50, 50, 50, 33, 50, 50, 47, 50, 50, 50, 50, 50, 50, 50, 37, 50, 50, 50, 50, 50, 50, 33, 30, 24, 21, 22, 50, 40, 21, 37, 50, 49, 23, 50, 30, 50, 50, 50, 50, 50, 50, 43, 45, 30, 50, 50, 50, 50, 50, 50, 50, 50, 50, 50, 50, 50, 31, 50, 50, 23, 50, 25, 40, 50, 50, 50, 50, 50, 44, 50, 20, 50, 50, 50, 50, 30, 34, 35, 50, 50, 50, 50, 22, 20, 20, 50, 46, 26, 36, 50, 24, 50, 47, 28, 50, 27, 24, 50, 50, 50, 50, 43, 48, 50, 50, 50, 25, 50, 20, 41, 25, 47, 50, 50, 29, 47, 27, 50, 50, 37, 50, 28, 50, 42, 27, 28, 39, 50, 43, 50, 50, 50, 50, 50, 50, 45, 50, 50, 32, 50, 27, 50, 50, 20, 50, 50, 50, 34, 20, 50, 50, 50, 50, 40, 50, 50, 42, 50, 38, 50, 50, 24, 50, 21, 22, 50, 50, 50, 24, 29, 50, 50, 50, 50, 23, 50, 50, 50, 50, 47, 46, 50, 46, 50, 29, 35, 41, 34, 50, 49, 28, 50, 38, 22, 50, 50, 50, 20, 50, 21, 24, 36, 50, 32, 40, 50, 50, 38, 29, 50, 50, 50, 21, 33, 31, 47, 50, 50, 29, 50, 50, 50, 50, 50, 50, 30, 44, 50, 50, 50, 39, 50, 30, 50, 42, 22, 50, 25, 24, 50, 26, 21, 38, 50, 20, 50, 50, 50, 24, 33, 50, 35, 20, 50, 26, 35, 27, 50, 50, 50, 50, 50, 33, 50, 50, 50, 34, 38, 50, 50, 50, 32, 41, 50, 21, 50, 50, 23, 50, 37, 50, 29, 50, 50, 33, 50, 50, 28, 50, 36, 50, 37, 50, 42, 50, 30, 39, 27, 50, 50, 50, 33, 50, 25, 47, 50, 39, 50, 50, 26, 50, 24, 28, 26, 50, 33, 50, 50, 50, 50, 23, 20, 26, 21, 20, 29, 35, 50, 25, 36, 21, 28, 21, 50, 25, 50, 20, 50, 50, 28, 50, 50, 50, 50, 25, 50, 50, 50, 50, 46, 50, 50, 50, 31, 27, 50, 50, 31, 50, 50, 50, 23, 50, 50, 49, 41, 50, 23, 26, 22, 21, 39, 50, 43, 50, 50, 50, 50, 20, 50, 50, 47, 50, 50, 50, 20, 34, 50, 21, 50, 50, 29, 50, 50, 50, 50, 43, 50, 50, 50, 20, 50, 50, 47, 50, 50, 50, 20, 50, 50, 30, 50, 45, 50, 49, 50, 47, 40, 41, 50, 50, 26, 50, 50, 50, 50, 23, 26, 50, 35, 50, 50, 26, 50, 50, 50, 50, 32, 20, 50, 32, 49, 50, 50, 50, 50, 50, 39, 50, 40, 50, 49, 50, 22, 50, 50], \"xbins\": {\"end\": 50, \"size\": 2, \"start\": 0}}],\n",
              "                        {\"bargap\": 0.2, \"template\": {\"data\": {\"bar\": [{\"error_x\": {\"color\": \"#2a3f5f\"}, \"error_y\": {\"color\": \"#2a3f5f\"}, \"marker\": {\"line\": {\"color\": \"#E5ECF6\", \"width\": 0.5}}, \"type\": \"bar\"}], \"barpolar\": [{\"marker\": {\"line\": {\"color\": \"#E5ECF6\", \"width\": 0.5}}, \"type\": \"barpolar\"}], \"carpet\": [{\"aaxis\": {\"endlinecolor\": \"#2a3f5f\", \"gridcolor\": \"white\", \"linecolor\": \"white\", \"minorgridcolor\": \"white\", \"startlinecolor\": \"#2a3f5f\"}, \"baxis\": {\"endlinecolor\": \"#2a3f5f\", \"gridcolor\": \"white\", \"linecolor\": \"white\", \"minorgridcolor\": \"white\", \"startlinecolor\": \"#2a3f5f\"}, \"type\": \"carpet\"}], \"choropleth\": [{\"colorbar\": {\"outlinewidth\": 0, \"ticks\": \"\"}, \"type\": \"choropleth\"}], \"contour\": [{\"colorbar\": {\"outlinewidth\": 0, \"ticks\": \"\"}, \"colorscale\": [[0.0, \"#0d0887\"], [0.1111111111111111, \"#46039f\"], [0.2222222222222222, \"#7201a8\"], [0.3333333333333333, \"#9c179e\"], [0.4444444444444444, \"#bd3786\"], [0.5555555555555556, \"#d8576b\"], [0.6666666666666666, \"#ed7953\"], [0.7777777777777778, \"#fb9f3a\"], [0.8888888888888888, \"#fdca26\"], [1.0, \"#f0f921\"]], \"type\": \"contour\"}], \"contourcarpet\": [{\"colorbar\": {\"outlinewidth\": 0, \"ticks\": \"\"}, \"type\": \"contourcarpet\"}], \"heatmap\": [{\"colorbar\": {\"outlinewidth\": 0, \"ticks\": \"\"}, \"colorscale\": [[0.0, \"#0d0887\"], [0.1111111111111111, \"#46039f\"], [0.2222222222222222, \"#7201a8\"], [0.3333333333333333, \"#9c179e\"], [0.4444444444444444, \"#bd3786\"], [0.5555555555555556, \"#d8576b\"], [0.6666666666666666, \"#ed7953\"], [0.7777777777777778, \"#fb9f3a\"], [0.8888888888888888, \"#fdca26\"], [1.0, \"#f0f921\"]], \"type\": \"heatmap\"}], \"heatmapgl\": [{\"colorbar\": {\"outlinewidth\": 0, \"ticks\": \"\"}, \"colorscale\": [[0.0, \"#0d0887\"], [0.1111111111111111, \"#46039f\"], [0.2222222222222222, \"#7201a8\"], [0.3333333333333333, \"#9c179e\"], [0.4444444444444444, \"#bd3786\"], [0.5555555555555556, \"#d8576b\"], [0.6666666666666666, \"#ed7953\"], [0.7777777777777778, \"#fb9f3a\"], [0.8888888888888888, \"#fdca26\"], [1.0, \"#f0f921\"]], \"type\": \"heatmapgl\"}], \"histogram\": [{\"marker\": {\"colorbar\": {\"outlinewidth\": 0, \"ticks\": \"\"}}, \"type\": \"histogram\"}], \"histogram2d\": [{\"colorbar\": {\"outlinewidth\": 0, \"ticks\": \"\"}, \"colorscale\": [[0.0, \"#0d0887\"], [0.1111111111111111, \"#46039f\"], [0.2222222222222222, \"#7201a8\"], [0.3333333333333333, \"#9c179e\"], [0.4444444444444444, \"#bd3786\"], [0.5555555555555556, \"#d8576b\"], [0.6666666666666666, \"#ed7953\"], [0.7777777777777778, \"#fb9f3a\"], [0.8888888888888888, \"#fdca26\"], [1.0, \"#f0f921\"]], \"type\": \"histogram2d\"}], \"histogram2dcontour\": [{\"colorbar\": {\"outlinewidth\": 0, \"ticks\": \"\"}, \"colorscale\": [[0.0, \"#0d0887\"], [0.1111111111111111, \"#46039f\"], [0.2222222222222222, \"#7201a8\"], [0.3333333333333333, \"#9c179e\"], [0.4444444444444444, \"#bd3786\"], [0.5555555555555556, \"#d8576b\"], [0.6666666666666666, \"#ed7953\"], [0.7777777777777778, \"#fb9f3a\"], [0.8888888888888888, \"#fdca26\"], [1.0, \"#f0f921\"]], \"type\": \"histogram2dcontour\"}], \"mesh3d\": [{\"colorbar\": {\"outlinewidth\": 0, \"ticks\": \"\"}, \"type\": \"mesh3d\"}], \"parcoords\": [{\"line\": {\"colorbar\": {\"outlinewidth\": 0, \"ticks\": \"\"}}, \"type\": \"parcoords\"}], \"pie\": [{\"automargin\": true, \"type\": \"pie\"}], \"scatter\": [{\"marker\": {\"colorbar\": {\"outlinewidth\": 0, \"ticks\": \"\"}}, \"type\": \"scatter\"}], \"scatter3d\": [{\"line\": {\"colorbar\": {\"outlinewidth\": 0, \"ticks\": \"\"}}, \"marker\": {\"colorbar\": {\"outlinewidth\": 0, \"ticks\": \"\"}}, \"type\": \"scatter3d\"}], \"scattercarpet\": [{\"marker\": {\"colorbar\": {\"outlinewidth\": 0, \"ticks\": \"\"}}, \"type\": \"scattercarpet\"}], \"scattergeo\": [{\"marker\": {\"colorbar\": {\"outlinewidth\": 0, \"ticks\": \"\"}}, \"type\": \"scattergeo\"}], \"scattergl\": [{\"marker\": {\"colorbar\": {\"outlinewidth\": 0, \"ticks\": \"\"}}, \"type\": \"scattergl\"}], \"scattermapbox\": [{\"marker\": {\"colorbar\": {\"outlinewidth\": 0, \"ticks\": \"\"}}, \"type\": \"scattermapbox\"}], \"scatterpolar\": [{\"marker\": {\"colorbar\": {\"outlinewidth\": 0, \"ticks\": \"\"}}, \"type\": \"scatterpolar\"}], \"scatterpolargl\": [{\"marker\": {\"colorbar\": {\"outlinewidth\": 0, \"ticks\": \"\"}}, \"type\": \"scatterpolargl\"}], \"scatterternary\": [{\"marker\": {\"colorbar\": {\"outlinewidth\": 0, \"ticks\": \"\"}}, \"type\": \"scatterternary\"}], \"surface\": [{\"colorbar\": {\"outlinewidth\": 0, \"ticks\": \"\"}, \"colorscale\": [[0.0, \"#0d0887\"], [0.1111111111111111, \"#46039f\"], [0.2222222222222222, \"#7201a8\"], [0.3333333333333333, \"#9c179e\"], [0.4444444444444444, \"#bd3786\"], [0.5555555555555556, \"#d8576b\"], [0.6666666666666666, \"#ed7953\"], [0.7777777777777778, \"#fb9f3a\"], [0.8888888888888888, \"#fdca26\"], [1.0, \"#f0f921\"]], \"type\": \"surface\"}], \"table\": [{\"cells\": {\"fill\": {\"color\": \"#EBF0F8\"}, \"line\": {\"color\": \"white\"}}, \"header\": {\"fill\": {\"color\": \"#C8D4E3\"}, \"line\": {\"color\": \"white\"}}, \"type\": \"table\"}]}, \"layout\": {\"annotationdefaults\": {\"arrowcolor\": \"#2a3f5f\", \"arrowhead\": 0, \"arrowwidth\": 1}, \"coloraxis\": {\"colorbar\": {\"outlinewidth\": 0, \"ticks\": \"\"}}, \"colorscale\": {\"diverging\": [[0, \"#8e0152\"], [0.1, \"#c51b7d\"], [0.2, \"#de77ae\"], [0.3, \"#f1b6da\"], [0.4, \"#fde0ef\"], [0.5, \"#f7f7f7\"], [0.6, \"#e6f5d0\"], [0.7, \"#b8e186\"], [0.8, \"#7fbc41\"], [0.9, \"#4d9221\"], [1, \"#276419\"]], \"sequential\": [[0.0, \"#0d0887\"], [0.1111111111111111, \"#46039f\"], [0.2222222222222222, \"#7201a8\"], [0.3333333333333333, \"#9c179e\"], [0.4444444444444444, \"#bd3786\"], [0.5555555555555556, \"#d8576b\"], [0.6666666666666666, \"#ed7953\"], [0.7777777777777778, \"#fb9f3a\"], [0.8888888888888888, \"#fdca26\"], [1.0, \"#f0f921\"]], \"sequentialminus\": [[0.0, \"#0d0887\"], [0.1111111111111111, \"#46039f\"], [0.2222222222222222, \"#7201a8\"], [0.3333333333333333, \"#9c179e\"], [0.4444444444444444, \"#bd3786\"], [0.5555555555555556, \"#d8576b\"], [0.6666666666666666, \"#ed7953\"], [0.7777777777777778, \"#fb9f3a\"], [0.8888888888888888, \"#fdca26\"], [1.0, \"#f0f921\"]]}, \"colorway\": [\"#636efa\", \"#EF553B\", \"#00cc96\", \"#ab63fa\", \"#FFA15A\", \"#19d3f3\", \"#FF6692\", \"#B6E880\", \"#FF97FF\", \"#FECB52\"], \"font\": {\"color\": \"#2a3f5f\"}, \"geo\": {\"bgcolor\": \"white\", \"lakecolor\": \"white\", \"landcolor\": \"#E5ECF6\", \"showlakes\": true, \"showland\": true, \"subunitcolor\": \"white\"}, \"hoverlabel\": {\"align\": \"left\"}, \"hovermode\": \"closest\", \"mapbox\": {\"style\": \"light\"}, \"paper_bgcolor\": \"white\", \"plot_bgcolor\": \"#E5ECF6\", \"polar\": {\"angularaxis\": {\"gridcolor\": \"white\", \"linecolor\": \"white\", \"ticks\": \"\"}, \"bgcolor\": \"#E5ECF6\", \"radialaxis\": {\"gridcolor\": \"white\", \"linecolor\": \"white\", \"ticks\": \"\"}}, \"scene\": {\"xaxis\": {\"backgroundcolor\": \"#E5ECF6\", \"gridcolor\": \"white\", \"gridwidth\": 2, \"linecolor\": \"white\", \"showbackground\": true, \"ticks\": \"\", \"zerolinecolor\": \"white\"}, \"yaxis\": {\"backgroundcolor\": \"#E5ECF6\", \"gridcolor\": \"white\", \"gridwidth\": 2, \"linecolor\": \"white\", \"showbackground\": true, \"ticks\": \"\", \"zerolinecolor\": \"white\"}, \"zaxis\": {\"backgroundcolor\": \"#E5ECF6\", \"gridcolor\": \"white\", \"gridwidth\": 2, \"linecolor\": \"white\", \"showbackground\": true, \"ticks\": \"\", \"zerolinecolor\": \"white\"}}, \"shapedefaults\": {\"line\": {\"color\": \"#2a3f5f\"}}, \"ternary\": {\"aaxis\": {\"gridcolor\": \"white\", \"linecolor\": \"white\", \"ticks\": \"\"}, \"baxis\": {\"gridcolor\": \"white\", \"linecolor\": \"white\", \"ticks\": \"\"}, \"bgcolor\": \"#E5ECF6\", \"caxis\": {\"gridcolor\": \"white\", \"linecolor\": \"white\", \"ticks\": \"\"}}, \"title\": {\"x\": 0.05}, \"xaxis\": {\"automargin\": true, \"gridcolor\": \"white\", \"linecolor\": \"white\", \"ticks\": \"\", \"title\": {\"standoff\": 15}, \"zerolinecolor\": \"white\", \"zerolinewidth\": 2}, \"yaxis\": {\"automargin\": true, \"gridcolor\": \"white\", \"linecolor\": \"white\", \"ticks\": \"\", \"title\": {\"standoff\": 15}, \"zerolinecolor\": \"white\", \"zerolinewidth\": 2}}}, \"title\": {\"text\": \"Distribution Of Number of Ratings Per User (Clipped at 50)\"}, \"xaxis\": {\"title\": {\"text\": \"Ratings Per User\"}}, \"yaxis\": {\"title\": {\"text\": \"Count\"}}},\n",
              "                        {\"responsive\": true}\n",
              "                    ).then(function(){\n",
              "                            \n",
              "var gd = document.getElementById('b2468062-fec7-490e-a0fc-cbee24f19732');\n",
              "var x = new MutationObserver(function (mutations, observer) {{\n",
              "        var display = window.getComputedStyle(gd).display;\n",
              "        if (!display || display === 'none') {{\n",
              "            console.log([gd, 'removed!']);\n",
              "            Plotly.purge(gd);\n",
              "            observer.disconnect();\n",
              "        }}\n",
              "}});\n",
              "\n",
              "// Listen for the removal of the full notebook cells\n",
              "var notebookContainer = gd.closest('#notebook-container');\n",
              "if (notebookContainer) {{\n",
              "    x.observe(notebookContainer, {childList: true});\n",
              "}}\n",
              "\n",
              "// Listen for the clearing of the current output cell\n",
              "var outputEl = gd.closest('.output');\n",
              "if (outputEl) {{\n",
              "    x.observe(outputEl, {childList: true});\n",
              "}}\n",
              "\n",
              "                        })\n",
              "                };\n",
              "                \n",
              "            </script>\n",
              "        </div>\n",
              "</body>\n",
              "</html>"
            ]
          },
          "metadata": {
            "tags": []
          }
        }
      ]
    },
    {
      "cell_type": "markdown",
      "metadata": {
        "id": "UxAEpWfKwYz9",
        "colab_type": "text"
      },
      "source": [
        "# 3. Modelling\n",
        "\n",
        "\n",
        "\n"
      ]
    },
    {
      "cell_type": "code",
      "metadata": {
        "id": "TwhseUlZwVre",
        "colab_type": "code",
        "colab": {}
      },
      "source": [
        "reader = Reader(rating_scale=(1,5))\n",
        "data = Dataset.load_from_df(df, reader)"
      ],
      "execution_count": null,
      "outputs": []
    },
    {
      "cell_type": "markdown",
      "metadata": {
        "id": "ODLiwr3AQo94",
        "colab_type": "text"
      },
      "source": [
        "## 3.1. Benchmark Models and Evaluation"
      ]
    },
    {
      "cell_type": "code",
      "metadata": {
        "id": "BZYrRVYO32QI",
        "colab_type": "code",
        "colab": {
          "base_uri": "https://localhost:8080/",
          "height": 527
        },
        "outputId": "c68c0b63-5a07-4cb3-a5a9-858f8a357dfa"
      },
      "source": [
        "# Ketemu codenya di medium but im not sure? Does this code use all\n",
        "# of the machine learning models in the table and get their rmse or what??\n",
        "# But will plot the result and train 6 of them one by one.\n",
        "\n",
        "benchmark = []\n",
        "# Iterate over all algorithms\n",
        "for algorithm in [SVD(), SVDpp(), SlopeOne(), NMF(), NormalPredictor(), KNNBaseline(), KNNBasic(), KNNWithMeans(), KNNWithZScore(), BaselineOnly(), CoClustering()]:\n",
        "    # Perform cross validation\n",
        "    results = cross_validate(algorithm, data, measures=['RMSE'], cv=3, verbose=False)\n",
        "    \n",
        "    # Get results & append algorithm name\n",
        "    tmp = pd.DataFrame.from_dict(results).mean(axis=0)\n",
        "    tmp = tmp.append(pd.Series([str(algorithm).split(' ')[0].split('.')[-1]], index=['Algorithm']))\n",
        "    benchmark.append(tmp)\n",
        "    \n",
        "bench = pd.DataFrame(benchmark).set_index('Algorithm').sort_values('test_rmse')   "
      ],
      "execution_count": null,
      "outputs": [
        {
          "output_type": "stream",
          "text": [
            "Estimating biases using als...\n",
            "Computing the msd similarity matrix...\n",
            "Done computing similarity matrix.\n",
            "Estimating biases using als...\n",
            "Computing the msd similarity matrix...\n",
            "Done computing similarity matrix.\n",
            "Estimating biases using als...\n",
            "Computing the msd similarity matrix...\n",
            "Done computing similarity matrix.\n",
            "Computing the msd similarity matrix...\n",
            "Done computing similarity matrix.\n",
            "Computing the msd similarity matrix...\n",
            "Done computing similarity matrix.\n",
            "Computing the msd similarity matrix...\n",
            "Done computing similarity matrix.\n",
            "Computing the msd similarity matrix...\n",
            "Done computing similarity matrix.\n",
            "Computing the msd similarity matrix...\n",
            "Done computing similarity matrix.\n",
            "Computing the msd similarity matrix...\n",
            "Done computing similarity matrix.\n",
            "Computing the msd similarity matrix...\n",
            "Done computing similarity matrix.\n",
            "Computing the msd similarity matrix...\n",
            "Done computing similarity matrix.\n",
            "Computing the msd similarity matrix...\n",
            "Done computing similarity matrix.\n",
            "Estimating biases using als...\n",
            "Estimating biases using als...\n",
            "Estimating biases using als...\n"
          ],
          "name": "stdout"
        }
      ]
    },
    {
      "cell_type": "code",
      "metadata": {
        "id": "HRK5xe6D8H6g",
        "colab_type": "code",
        "colab": {}
      },
      "source": [
        "bench = bench.drop(index = ['SlopeOne','KNNWithZScore', 'CoClustering'])"
      ],
      "execution_count": null,
      "outputs": []
    },
    {
      "cell_type": "code",
      "metadata": {
        "id": "_viYgNep9Dsu",
        "colab_type": "code",
        "colab": {}
      },
      "source": [
        "bench = bench.drop(index='KNNBasic')"
      ],
      "execution_count": null,
      "outputs": []
    },
    {
      "cell_type": "code",
      "metadata": {
        "id": "tB6lQKhXphQH",
        "colab_type": "code",
        "colab": {
          "base_uri": "https://localhost:8080/",
          "height": 297
        },
        "outputId": "53abb59e-4f85-4403-dcee-e21a54e68b00"
      },
      "source": [
        "bench.head(11)"
      ],
      "execution_count": null,
      "outputs": [
        {
          "output_type": "execute_result",
          "data": {
            "text/html": [
              "<div>\n",
              "<style scoped>\n",
              "    .dataframe tbody tr th:only-of-type {\n",
              "        vertical-align: middle;\n",
              "    }\n",
              "\n",
              "    .dataframe tbody tr th {\n",
              "        vertical-align: top;\n",
              "    }\n",
              "\n",
              "    .dataframe thead th {\n",
              "        text-align: right;\n",
              "    }\n",
              "</style>\n",
              "<table border=\"1\" class=\"dataframe\">\n",
              "  <thead>\n",
              "    <tr style=\"text-align: right;\">\n",
              "      <th></th>\n",
              "      <th>test_rmse</th>\n",
              "      <th>fit_time</th>\n",
              "      <th>test_time</th>\n",
              "    </tr>\n",
              "    <tr>\n",
              "      <th>Algorithm</th>\n",
              "      <th></th>\n",
              "      <th></th>\n",
              "      <th></th>\n",
              "    </tr>\n",
              "  </thead>\n",
              "  <tbody>\n",
              "    <tr>\n",
              "      <th>SVDpp</th>\n",
              "      <td>0.927536</td>\n",
              "      <td>117.647944</td>\n",
              "      <td>5.913333</td>\n",
              "    </tr>\n",
              "    <tr>\n",
              "      <th>KNNBaseline</th>\n",
              "      <td>0.935208</td>\n",
              "      <td>0.376959</td>\n",
              "      <td>6.157082</td>\n",
              "    </tr>\n",
              "    <tr>\n",
              "      <th>SVD</th>\n",
              "      <td>0.943923</td>\n",
              "      <td>3.983718</td>\n",
              "      <td>0.297792</td>\n",
              "    </tr>\n",
              "    <tr>\n",
              "      <th>BaselineOnly</th>\n",
              "      <td>0.947564</td>\n",
              "      <td>0.148332</td>\n",
              "      <td>0.237002</td>\n",
              "    </tr>\n",
              "    <tr>\n",
              "      <th>KNNWithMeans</th>\n",
              "      <td>0.958164</td>\n",
              "      <td>0.259064</td>\n",
              "      <td>5.320404</td>\n",
              "    </tr>\n",
              "    <tr>\n",
              "      <th>NMF</th>\n",
              "      <td>0.974210</td>\n",
              "      <td>4.339105</td>\n",
              "      <td>0.271510</td>\n",
              "    </tr>\n",
              "    <tr>\n",
              "      <th>NormalPredictor</th>\n",
              "      <td>1.520336</td>\n",
              "      <td>0.107745</td>\n",
              "      <td>0.292052</td>\n",
              "    </tr>\n",
              "  </tbody>\n",
              "</table>\n",
              "</div>"
            ],
            "text/plain": [
              "                 test_rmse    fit_time  test_time\n",
              "Algorithm                                        \n",
              "SVDpp             0.927536  117.647944   5.913333\n",
              "KNNBaseline       0.935208    0.376959   6.157082\n",
              "SVD               0.943923    3.983718   0.297792\n",
              "BaselineOnly      0.947564    0.148332   0.237002\n",
              "KNNWithMeans      0.958164    0.259064   5.320404\n",
              "NMF               0.974210    4.339105   0.271510\n",
              "NormalPredictor   1.520336    0.107745   0.292052"
            ]
          },
          "metadata": {
            "tags": []
          },
          "execution_count": 82
        }
      ]
    },
    {
      "cell_type": "code",
      "metadata": {
        "id": "C8174mYT1JcN",
        "colab_type": "code",
        "colab": {}
      },
      "source": [
        "bench['average'] = bench.mean(numeric_only=True, axis=1)"
      ],
      "execution_count": null,
      "outputs": []
    },
    {
      "cell_type": "code",
      "metadata": {
        "id": "byLvQCrw9Q_D",
        "colab_type": "code",
        "colab": {}
      },
      "source": [
        "bplot = bench.drop(index=['SVDpp','KNNBaseline'])"
      ],
      "execution_count": null,
      "outputs": []
    },
    {
      "cell_type": "code",
      "metadata": {
        "id": "Wx9R9bypwUi_",
        "colab_type": "code",
        "colab": {
          "base_uri": "https://localhost:8080/",
          "height": 642
        },
        "outputId": "ed53d0c9-8517-4c5b-a88d-584238fc25d3"
      },
      "source": [
        "bplot.plot(title='ML Results',figsize=(10,10), fontsize=12)"
      ],
      "execution_count": null,
      "outputs": [
        {
          "output_type": "execute_result",
          "data": {
            "text/plain": [
              "<matplotlib.axes._subplots.AxesSubplot at 0x7f1ea8b07208>"
            ]
          },
          "metadata": {
            "tags": []
          },
          "execution_count": 85
        },
        {
          "output_type": "display_data",
          "data": {
            "image/png": "[encoded data removed]",
            "text/plain": [
              "<Figure size 720x720 with 1 Axes>"
            ]
          },
          "metadata": {
            "tags": [],
            "needs_background": "light"
          }
        }
      ]
    },
    {
      "cell_type": "code",
      "metadata": {
        "id": "hW650jlIzxnv",
        "colab_type": "code",
        "colab": {
          "base_uri": "https://localhost:8080/",
          "height": 642
        },
        "outputId": "54752655-2be8-4abe-fb25-0edc4931f460"
      },
      "source": [
        "bench.plot(y=['test_rmse'], title= 'ML RMSE Result', figsize=(10,10), fontsize=12)"
      ],
      "execution_count": null,
      "outputs": [
        {
          "output_type": "execute_result",
          "data": {
            "text/plain": [
              "<matplotlib.axes._subplots.AxesSubplot at 0x7f1eafd0ccc0>"
            ]
          },
          "metadata": {
            "tags": []
          },
          "execution_count": 86
        },
        {
          "output_type": "display_data",
          "data": {
            "image/png": "[encoded data removed]",
            "text/plain": [
              "<Figure size 720x720 with 1 Axes>"
            ]
          },
          "metadata": {
            "tags": [],
            "needs_background": "light"
          }
        }
      ]
    },
    {
      "cell_type": "markdown",
      "metadata": {
        "id": "JO93bVHi3HdV",
        "colab_type": "text"
      },
      "source": [
        "The best performance goes from left to right."
      ]
    },
    {
      "cell_type": "code",
      "metadata": {
        "id": "vGBMcd9S2Lhv",
        "colab_type": "code",
        "colab": {
          "base_uri": "https://localhost:8080/",
          "height": 726
        },
        "outputId": "adcb3be1-73fd-4368-a771-b3f1140f3c0f"
      },
      "source": [
        "bench.plot(y=['average'], title= 'ML Average Performance (Smaller Better)', figsize=(10,10), fontsize=12, kind='bar', grid=1)"
      ],
      "execution_count": null,
      "outputs": [
        {
          "output_type": "execute_result",
          "data": {
            "text/plain": [
              "<matplotlib.axes._subplots.AxesSubplot at 0x7f1ea7c699e8>"
            ]
          },
          "metadata": {
            "tags": []
          },
          "execution_count": 87
        },
        {
          "output_type": "display_data",
          "data": {
            "image/png": "[encoded data removed]",
            "text/plain": [
              "<Figure size 720x720 with 1 Axes>"
            ]
          },
          "metadata": {
            "tags": [],
            "needs_background": "light"
          }
        }
      ]
    },
    {
      "cell_type": "markdown",
      "metadata": {
        "id": "X2yPkm3n3N-B",
        "colab_type": "text"
      },
      "source": [
        "The chart shows their general performance in general. For example SVDpp performance is so bad because its fit and test time are exceptionally high eventhough its the most accurate machine learning model.\n",
        "\n",
        "Meanwhile the best model is the BaselineOnly, because it is fairly accurate, have a really fast fit and test time."
      ]
    },
    {
      "cell_type": "markdown",
      "metadata": {
        "id": "e8woR7RuQvGu",
        "colab_type": "text"
      },
      "source": [
        "## 3.2. Train Test Split Evaluation\n",
        "\n",
        "Results are really similar with benchmark modelling."
      ]
    },
    {
      "cell_type": "code",
      "metadata": {
        "id": "P4ig11FDJYnU",
        "colab_type": "code",
        "colab": {}
      },
      "source": [
        "trainset, testset = train_test_split(data, test_size=.25)"
      ],
      "execution_count": null,
      "outputs": []
    },
    {
      "cell_type": "markdown",
      "metadata": {
        "id": "xXucxPLAQzU7",
        "colab_type": "text"
      },
      "source": [
        "### 3.2.1. SVD"
      ]
    },
    {
      "cell_type": "code",
      "metadata": {
        "id": "NNvzB_XDMtzn",
        "colab_type": "code",
        "colab": {}
      },
      "source": [
        "SVDalgo = SVD()\n",
        "SVDalgo.fit(trainset)\n",
        "predictions = SVDalgo.test(testset)"
      ],
      "execution_count": null,
      "outputs": []
    },
    {
      "cell_type": "code",
      "metadata": {
        "id": "-65S91_IOEts",
        "colab_type": "code",
        "colab": {
          "base_uri": "https://localhost:8080/",
          "height": 51
        },
        "outputId": "e5d26b99-8a75-494c-cbcb-9d72e3e633aa"
      },
      "source": [
        "SVDrmse = accuracy.rmse(predictions)\n",
        "start = timer()\n",
        "end = timer()\n",
        "SVDtime = end-start\n",
        "print('SVD computation time is', SVDtime, 'seconds')"
      ],
      "execution_count": null,
      "outputs": [
        {
          "output_type": "stream",
          "text": [
            "RMSE: 0.9456\n",
            "SVD computation time is 2.3378001060336828e-05 seconds\n"
          ],
          "name": "stdout"
        }
      ]
    },
    {
      "cell_type": "markdown",
      "metadata": {
        "id": "UeViGDaqRAdt",
        "colab_type": "text"
      },
      "source": [
        "### 3.2.2. SVDpp"
      ]
    },
    {
      "cell_type": "code",
      "metadata": {
        "id": "RAdL-m2NRCu9",
        "colab_type": "code",
        "colab": {}
      },
      "source": [
        "SVDppalgo = SVDpp()\n",
        "SVDppalgo.fit(trainset)\n",
        "predictions = SVDppalgo.test(testset)"
      ],
      "execution_count": null,
      "outputs": []
    },
    {
      "cell_type": "code",
      "metadata": {
        "id": "mZ-7xLf_RGPt",
        "colab_type": "code",
        "colab": {
          "base_uri": "https://localhost:8080/",
          "height": 51
        },
        "outputId": "2c265c57-2bd8-4e01-e2d1-6ed78a515397"
      },
      "source": [
        "SVDpprmse = accuracy.rmse(predictions)\n",
        "start = timer()\n",
        "end = timer()\n",
        "SVDpptime = end-start\n",
        "print('SVDpp computation time is', SVDpptime, 'seconds')"
      ],
      "execution_count": null,
      "outputs": [
        {
          "output_type": "stream",
          "text": [
            "RMSE: 0.9276\n",
            "SVDpp computation time is 1.7889000446302816e-05 seconds\n"
          ],
          "name": "stdout"
        }
      ]
    },
    {
      "cell_type": "markdown",
      "metadata": {
        "id": "erOfJuEXR3QQ",
        "colab_type": "text"
      },
      "source": [
        "### 3.2.3. KNN Baseline"
      ]
    },
    {
      "cell_type": "code",
      "metadata": {
        "id": "7L8Z2KZzR2fU",
        "colab_type": "code",
        "colab": {
          "base_uri": "https://localhost:8080/",
          "height": 68
        },
        "outputId": "0048414c-42f8-4e51-8f87-bc4794717fa3"
      },
      "source": [
        "KNNbalgo = KNNBaseline()\n",
        "KNNbalgo.fit(trainset)\n",
        "predictions = KNNbalgo.test(testset)"
      ],
      "execution_count": null,
      "outputs": [
        {
          "output_type": "stream",
          "text": [
            "Estimating biases using als...\n",
            "Computing the msd similarity matrix...\n",
            "Done computing similarity matrix.\n"
          ],
          "name": "stdout"
        }
      ]
    },
    {
      "cell_type": "code",
      "metadata": {
        "id": "J6sXIdHnR-Kl",
        "colab_type": "code",
        "colab": {
          "base_uri": "https://localhost:8080/",
          "height": 51
        },
        "outputId": "7c5db4fc-13b8-4f59-e116-11c5d50d4b37"
      },
      "source": [
        "KNNbrmse = accuracy.rmse(predictions)\n",
        "start = timer()\n",
        "end = timer()\n",
        "KNNbtime = end-start\n",
        "print('KNN Baseline computation time is', KNNbtime, 'seconds')"
      ],
      "execution_count": null,
      "outputs": [
        {
          "output_type": "stream",
          "text": [
            "RMSE: 0.9389\n",
            "KNN Baseline computation time is 3.3385000278940424e-05 seconds\n"
          ],
          "name": "stdout"
        }
      ]
    },
    {
      "cell_type": "markdown",
      "metadata": {
        "id": "TomM05KeovXT",
        "colab_type": "text"
      },
      "source": [
        "### 3.2.4. KNN With Means"
      ]
    },
    {
      "cell_type": "code",
      "metadata": {
        "id": "wpSA4YZaou6i",
        "colab_type": "code",
        "colab": {
          "base_uri": "https://localhost:8080/",
          "height": 51
        },
        "outputId": "7d0aecb9-8b1b-4a13-dff5-05c0a66845f6"
      },
      "source": [
        "KNNWMalgo = KNNWithMeans()\n",
        "KNNWMalgo.fit(trainset)\n",
        "predictions = KNNWMalgo.test(testset)"
      ],
      "execution_count": null,
      "outputs": [
        {
          "output_type": "stream",
          "text": [
            "Computing the msd similarity matrix...\n",
            "Done computing similarity matrix.\n"
          ],
          "name": "stdout"
        }
      ]
    },
    {
      "cell_type": "code",
      "metadata": {
        "id": "fHtI790Co0Mf",
        "colab_type": "code",
        "colab": {
          "base_uri": "https://localhost:8080/",
          "height": 51
        },
        "outputId": "a145ec5a-82a4-4342-87e8-619458786889"
      },
      "source": [
        "KNNWMrmse = accuracy.rmse(predictions)\n",
        "start = timer()\n",
        "end = timer()\n",
        "KNNWMtime = end-start\n",
        "print('KNN With Means computation time is', KNNWMtime, 'seconds')"
      ],
      "execution_count": null,
      "outputs": [
        {
          "output_type": "stream",
          "text": [
            "RMSE: 0.9590\n",
            "KNN With Means computation time is 3.385799936950207e-05 seconds\n"
          ],
          "name": "stdout"
        }
      ]
    },
    {
      "cell_type": "markdown",
      "metadata": {
        "id": "0dPIOBJdpkEJ",
        "colab_type": "text"
      },
      "source": [
        "### 3.2.5. NMF"
      ]
    },
    {
      "cell_type": "code",
      "metadata": {
        "id": "hhDx7LbQpjLn",
        "colab_type": "code",
        "colab": {}
      },
      "source": [
        "NMFalgo = NMF()\n",
        "NMFalgo.fit(trainset)\n",
        "predictions = NMFalgo.test(testset)"
      ],
      "execution_count": null,
      "outputs": []
    },
    {
      "cell_type": "code",
      "metadata": {
        "id": "xO4IC_m0pvHF",
        "colab_type": "code",
        "colab": {
          "base_uri": "https://localhost:8080/",
          "height": 51
        },
        "outputId": "f123a61f-bc7c-47e7-eba4-26b98422d499"
      },
      "source": [
        "NMFrmse = accuracy.rmse(predictions)\n",
        "start = timer()\n",
        "end = timer()\n",
        "NMFtime = end-start\n",
        "print('NMF computation time is', NMFtime, 'seconds')"
      ],
      "execution_count": null,
      "outputs": [
        {
          "output_type": "stream",
          "text": [
            "RMSE: 0.9797\n",
            "NMF computation time is 5.338699702406302e-05 seconds\n"
          ],
          "name": "stdout"
        }
      ]
    },
    {
      "cell_type": "markdown",
      "metadata": {
        "id": "HVsqh6HZpo41",
        "colab_type": "text"
      },
      "source": [
        "### 3.2.6. Normal Predictor"
      ]
    },
    {
      "cell_type": "code",
      "metadata": {
        "id": "z0jrLRcPpsLF",
        "colab_type": "code",
        "colab": {}
      },
      "source": [
        "NPalgo = NormalPredictor()\n",
        "NPalgo.fit(trainset)\n",
        "predictions = NPalgo.test(testset)"
      ],
      "execution_count": null,
      "outputs": []
    },
    {
      "cell_type": "code",
      "metadata": {
        "id": "OoZmpQsFp_VW",
        "colab_type": "code",
        "colab": {
          "base_uri": "https://localhost:8080/",
          "height": 51
        },
        "outputId": "799581ee-87a7-4e23-eb57-52422f683259"
      },
      "source": [
        "NPrmse = accuracy.rmse(predictions)\n",
        "start = timer()\n",
        "end = timer()\n",
        "NPtime = end-start\n",
        "print('Normal Predictor computation time is', NPtime, 'seconds')"
      ],
      "execution_count": null,
      "outputs": [
        {
          "output_type": "stream",
          "text": [
            "RMSE: 1.5244\n",
            "Normal Predictor computation time is 1.9417002476984635e-05 seconds\n"
          ],
          "name": "stdout"
        }
      ]
    },
    {
      "cell_type": "markdown",
      "metadata": {
        "id": "RUTgrFCF4cKg",
        "colab_type": "text"
      },
      "source": [
        "### 3.2.7. BaselineOnly"
      ]
    },
    {
      "cell_type": "code",
      "metadata": {
        "id": "lmtSEg2T4edT",
        "colab_type": "code",
        "colab": {
          "base_uri": "https://localhost:8080/",
          "height": 34
        },
        "outputId": "d16625b9-20f6-4954-b5d2-88bd21a40a45"
      },
      "source": [
        "BOalgo = BaselineOnly()\n",
        "BOalgo.fit(trainset)\n",
        "predictions = BOalgo.test(testset)"
      ],
      "execution_count": null,
      "outputs": [
        {
          "output_type": "stream",
          "text": [
            "Estimating biases using als...\n"
          ],
          "name": "stdout"
        }
      ]
    },
    {
      "cell_type": "code",
      "metadata": {
        "id": "JE8oj1kC4iov",
        "colab_type": "code",
        "colab": {
          "base_uri": "https://localhost:8080/",
          "height": 51
        },
        "outputId": "94d36332-9687-4770-9954-3430b47c3c57"
      },
      "source": [
        "BOrmse = accuracy.rmse(predictions)\n",
        "start = timer()\n",
        "end = timer()\n",
        "BOtime = end-start\n",
        "print('Baseline Only computation time is', BOtime, 'seconds')"
      ],
      "execution_count": null,
      "outputs": [
        {
          "output_type": "stream",
          "text": [
            "RMSE: 0.9499\n",
            "Baseline Only computation time is 1.8439000996295363e-05 seconds\n"
          ],
          "name": "stdout"
        }
      ]
    },
    {
      "cell_type": "markdown",
      "metadata": {
        "id": "z3cHPCbAgtP5",
        "colab_type": "text"
      },
      "source": [
        "## 3.3. Recall Accuracy"
      ]
    },
    {
      "cell_type": "code",
      "metadata": {
        "id": "53CvH6Sul47n",
        "colab_type": "code",
        "colab": {}
      },
      "source": [
        "from collections import defaultdict\n",
        "\n",
        "def precision_recall_at_k(predictions, k=10, threshold=3):\n",
        "    '''Return precision and recall at k metrics for each user.'''\n",
        "\n",
        "    # First map the predictions to each user.\n",
        "    user_est_true = defaultdict(list)\n",
        "    for uid, _, true_r, est, _ in predictions:\n",
        "        user_est_true[uid].append((est, true_r))\n",
        "\n",
        "    precisions = dict()\n",
        "    recalls = dict()\n",
        "    for uid, user_ratings in user_est_true.items():\n",
        "\n",
        "        # Sort user ratings by estimated value\n",
        "        user_ratings.sort(key=lambda x: x[0], reverse=True)\n",
        "\n",
        "        # Number of relevant items\n",
        "        n_rel = sum((true_r >= threshold) for (_, true_r) in user_ratings)\n",
        "\n",
        "        # Number of recommended items in top k\n",
        "        n_rec_k = sum((est >= threshold) for (est, _) in user_ratings[:k])\n",
        "\n",
        "        # Number of relevant and recommended items in top k\n",
        "        n_rel_and_rec_k = sum(((true_r >= threshold) and (est >= threshold))\n",
        "                              for (est, true_r) in user_ratings[:k])\n",
        "\n",
        "        # Precision@K: Proportion of recommended items that are relevant\n",
        "        precisions[uid] = n_rel_and_rec_k / n_rec_k if n_rec_k != 0 else 1\n",
        "\n",
        "        # Recall@K: Proportion of relevant items that are recommended\n",
        "        recalls[uid] = n_rel_and_rec_k / n_rel if n_rel != 0 else 1\n",
        "\n",
        "    return precisions, recalls"
      ],
      "execution_count": null,
      "outputs": []
    },
    {
      "cell_type": "markdown",
      "metadata": {
        "id": "WDmi7RjzQN56",
        "colab_type": "text"
      },
      "source": [
        "### 3.3.1. SVD"
      ]
    },
    {
      "cell_type": "code",
      "metadata": {
        "id": "r7RoG_lTl6eB",
        "colab_type": "code",
        "colab": {
          "base_uri": "https://localhost:8080/",
          "height": 187
        },
        "outputId": "76e7f482-3e40-4907-8fb8-4bdf0ae9213e"
      },
      "source": [
        "kf = KFold(n_splits=5)\n",
        "algo = SVD()\n",
        "\n",
        "for trainset, testset in kf.split(data):\n",
        "    algo.fit(trainset)\n",
        "    predictions = algo.test(testset)\n",
        "    precisions, recalls = precision_recall_at_k(predictions, k=10, threshold=3)\n",
        "\n",
        "    # Precision and recall can then be averaged over all users\n",
        "    precision = sum(prec for prec in precisions.values()) / len(precisions)\n",
        "    recall = sum(rec for rec in recalls.values()) / len(recalls)\n",
        "    print(precision)\n",
        "    print(recall)"
      ],
      "execution_count": null,
      "outputs": [
        {
          "output_type": "stream",
          "text": [
            "0.9129483748253611\n",
            "0.6397765279894618\n",
            "0.9088544299531538\n",
            "0.637086656845754\n",
            "0.9079014690982761\n",
            "0.63206783986309\n",
            "0.9129052505644841\n",
            "0.6273255742839416\n",
            "0.9028137758127065\n",
            "0.6320851178728881\n"
          ],
          "name": "stdout"
        }
      ]
    },
    {
      "cell_type": "code",
      "metadata": {
        "id": "pGT0i086pdwi",
        "colab_type": "code",
        "colab": {
          "base_uri": "https://localhost:8080/",
          "height": 51
        },
        "outputId": "45055ec8-3de8-4493-ee45-6277e68d1954"
      },
      "source": [
        "SVDprec = mean(precision)\n",
        "SVDrec = mean(recall)\n",
        "print(SVDprec)\n",
        "print(SVDrec)"
      ],
      "execution_count": null,
      "outputs": [
        {
          "output_type": "stream",
          "text": [
            "0.8994554697099749\n",
            "0.6342460330021193\n"
          ],
          "name": "stdout"
        }
      ]
    },
    {
      "cell_type": "markdown",
      "metadata": {
        "id": "-qHL4oOKQQ9L",
        "colab_type": "text"
      },
      "source": [
        "### 3.3.2. SVDpp"
      ]
    },
    {
      "cell_type": "code",
      "metadata": {
        "id": "yW4CvHrIAKZX",
        "colab_type": "code",
        "colab": {
          "base_uri": "https://localhost:8080/",
          "height": 187
        },
        "outputId": "3c63c87e-3dd2-47b2-8353-d18ff583f047"
      },
      "source": [
        "kf = KFold(n_splits=5)\n",
        "algo = SVDpp()\n",
        "\n",
        "for trainset, testset in kf.split(data):\n",
        "    algo.fit(trainset)\n",
        "    predictions = algo.test(testset)\n",
        "    precisions, recalls = precision_recall_at_k(predictions, k=10, threshold=3)\n",
        "\n",
        "    # Precision and recall can then be averaged over all users\n",
        "    precision = sum(prec for prec in precisions.values()) / len(precisions)\n",
        "    recall = sum(rec for rec in recalls.values()) / len(recalls)\n",
        "    print(precision)\n",
        "    print(recall)"
      ],
      "execution_count": null,
      "outputs": [
        {
          "output_type": "stream",
          "text": [
            "0.9082045649649029\n",
            "0.6313927626720081\n",
            "0.9241324721377899\n",
            "0.6348543452001648\n",
            "0.9192428756585685\n",
            "0.6350658998946386\n",
            "0.9095774231678467\n",
            "0.6335989587123789\n",
            "0.9136493598502086\n",
            "0.6331723128648713\n"
          ],
          "name": "stdout"
        }
      ]
    },
    {
      "cell_type": "code",
      "metadata": {
        "id": "Cybv97-4pSsx",
        "colab_type": "code",
        "colab": {
          "base_uri": "https://localhost:8080/",
          "height": 51
        },
        "outputId": "63a98b34-1f0a-4cca-951a-eaef2f0b27a7"
      },
      "source": [
        "SVDppprec = mean(precision)\n",
        "SVDpprec = mean(recall)\n",
        "print(SVDppprec)\n",
        "print(SVDpprec)"
      ],
      "execution_count": null,
      "outputs": [
        {
          "output_type": "stream",
          "text": [
            "0.9096889428099596\n",
            "0.6367540399085935\n"
          ],
          "name": "stdout"
        }
      ]
    },
    {
      "cell_type": "markdown",
      "metadata": {
        "id": "D-DWIQHuQUV4",
        "colab_type": "text"
      },
      "source": [
        "### 3.3.3. KNN Baseline"
      ]
    },
    {
      "cell_type": "code",
      "metadata": {
        "id": "StHmEkXfARfA",
        "colab_type": "code",
        "colab": {
          "base_uri": "https://localhost:8080/",
          "height": 442
        },
        "outputId": "39c0a8ce-536e-43c2-91a9-2647b04e5b82"
      },
      "source": [
        "kf = KFold(n_splits=5)\n",
        "algo = KNNBaseline()\n",
        "\n",
        "for trainset, testset in kf.split(data):\n",
        "    algo.fit(trainset)\n",
        "    predictions = algo.test(testset)\n",
        "    precisions, recalls = precision_recall_at_k(predictions, k=10, threshold=3)\n",
        "\n",
        "    # Precision and recall can then be averaged over all users\n",
        "    precision = sum(prec for prec in precisions.values()) / len(precisions)\n",
        "    recall = sum(rec for rec in recalls.values()) / len(recalls)\n",
        "    print(precision)\n",
        "    print(recall)"
      ],
      "execution_count": null,
      "outputs": [
        {
          "output_type": "stream",
          "text": [
            "Estimating biases using als...\n",
            "Computing the msd similarity matrix...\n",
            "Done computing similarity matrix.\n",
            "0.9092620646703341\n",
            "0.6419495725715625\n",
            "Estimating biases using als...\n",
            "Computing the msd similarity matrix...\n",
            "Done computing similarity matrix.\n",
            "0.9074639364406045\n",
            "0.6487264392388882\n",
            "Estimating biases using als...\n",
            "Computing the msd similarity matrix...\n",
            "Done computing similarity matrix.\n",
            "0.9107957615670352\n",
            "0.6447714251604653\n",
            "Estimating biases using als...\n",
            "Computing the msd similarity matrix...\n",
            "Done computing similarity matrix.\n",
            "0.9073496950089295\n",
            "0.6431931204011444\n",
            "Estimating biases using als...\n",
            "Computing the msd similarity matrix...\n",
            "Done computing similarity matrix.\n",
            "0.9083063441458753\n",
            "0.6366984761039818\n"
          ],
          "name": "stdout"
        }
      ]
    },
    {
      "cell_type": "code",
      "metadata": {
        "id": "wxwOGYbopJGS",
        "colab_type": "code",
        "colab": {
          "base_uri": "https://localhost:8080/",
          "height": 51
        },
        "outputId": "4dbdc86c-5ff7-4b7c-dff8-343e087545a8"
      },
      "source": [
        "KNNBprec = mean(precision)\n",
        "KNNBrec = mean(recall)\n",
        "print(KNNBprec)\n",
        "print(KNNBrec)"
      ],
      "execution_count": null,
      "outputs": [
        {
          "output_type": "stream",
          "text": [
            "0.914468016551348\n",
            "0.6456501680190417\n"
          ],
          "name": "stdout"
        }
      ]
    },
    {
      "cell_type": "markdown",
      "metadata": {
        "id": "5KSa43OgQXb6",
        "colab_type": "text"
      },
      "source": [
        "### 3.3.4. KNN With Means"
      ]
    },
    {
      "cell_type": "code",
      "metadata": {
        "id": "5IWNLCkKDAwc",
        "colab_type": "code",
        "colab": {
          "base_uri": "https://localhost:8080/",
          "height": 357
        },
        "outputId": "fdb5ae50-8fe8-4889-d404-fbc48cc06e23"
      },
      "source": [
        "kf = KFold(n_splits=5)\n",
        "algo = KNNWithMeans()\n",
        "\n",
        "for trainset, testset in kf.split(data):\n",
        "    algo.fit(trainset)\n",
        "    predictions = algo.test(testset)\n",
        "    precisions, recalls = precision_recall_at_k(predictions, k=10, threshold=3)\n",
        "\n",
        "    # Precision and recall can then be averaged over all users\n",
        "    precision = sum(prec for prec in precisions.values()) / len(precisions)\n",
        "    recall = sum(rec for rec in recalls.values()) / len(recalls)\n",
        "    print(precision)\n",
        "    print(recall)"
      ],
      "execution_count": null,
      "outputs": [
        {
          "output_type": "stream",
          "text": [
            "Computing the msd similarity matrix...\n",
            "Done computing similarity matrix.\n",
            "0.9142478010312387\n",
            "0.6008321860041708\n",
            "Computing the msd similarity matrix...\n",
            "Done computing similarity matrix.\n",
            "0.906680667307658\n",
            "0.6014498144031704\n",
            "Computing the msd similarity matrix...\n",
            "Done computing similarity matrix.\n",
            "0.9096008180578684\n",
            "0.6125834904036732\n",
            "Computing the msd similarity matrix...\n",
            "Done computing similarity matrix.\n",
            "0.90747860007414\n",
            "0.6119262483449077\n",
            "Computing the msd similarity matrix...\n",
            "Done computing similarity matrix.\n",
            "0.914742779631313\n",
            "0.6139877789168138\n"
          ],
          "name": "stdout"
        }
      ]
    },
    {
      "cell_type": "code",
      "metadata": {
        "id": "iX38sPbwoubi",
        "colab_type": "code",
        "colab": {
          "base_uri": "https://localhost:8080/",
          "height": 51
        },
        "outputId": "d776c28f-0761-42cf-e717-193228ee7f9d"
      },
      "source": [
        "KNNWMprec = mean(precision)\n",
        "KNNWMrec = mean(recall)\n",
        "print(KNNWMprec)\n",
        "print(KNNWMrec)"
      ],
      "execution_count": null,
      "outputs": [
        {
          "output_type": "stream",
          "text": [
            "0.9105019714892306\n",
            "0.6153686510321354\n"
          ],
          "name": "stdout"
        }
      ]
    },
    {
      "cell_type": "markdown",
      "metadata": {
        "id": "zo2aVdDuQau0",
        "colab_type": "text"
      },
      "source": [
        "### 3.3.5. NMF"
      ]
    },
    {
      "cell_type": "code",
      "metadata": {
        "id": "-E6EtPY0ETWn",
        "colab_type": "code",
        "colab": {
          "base_uri": "https://localhost:8080/",
          "height": 187
        },
        "outputId": "4aeff23a-941b-420a-cc9c-de899801e732"
      },
      "source": [
        "kf = KFold(n_splits=5)\n",
        "algo = NMF()\n",
        "\n",
        "for trainset, testset in kf.split(data):\n",
        "    algo.fit(trainset)\n",
        "    predictions = algo.test(testset)\n",
        "    precisions, recalls = precision_recall_at_k(predictions, k=10, threshold=3)\n",
        "\n",
        "    # Precision and recall can then be averaged over all users\n",
        "    precision = sum(prec for prec in precisions.values()) / len(precisions)\n",
        "    recall = sum(rec for rec in recalls.values()) / len(recalls)\n",
        "    print(precision)\n",
        "    print(recall)"
      ],
      "execution_count": null,
      "outputs": [
        {
          "output_type": "stream",
          "text": [
            "0.8913279132791309\n",
            "0.6083352780671055\n",
            "0.901150793650791\n",
            "0.6045620070564105\n",
            "0.9057428167449354\n",
            "0.6135980174418877\n",
            "0.9103195666093745\n",
            "0.6076782621895872\n",
            "0.9061681019925684\n",
            "0.6073817813146207\n"
          ],
          "name": "stdout"
        }
      ]
    },
    {
      "cell_type": "code",
      "metadata": {
        "id": "rU4y8FfDoi1I",
        "colab_type": "code",
        "colab": {
          "base_uri": "https://localhost:8080/",
          "height": 51
        },
        "outputId": "f82415f6-c7cd-447d-8f82-db20ccfc5273"
      },
      "source": [
        "NMFprec = mean(precision)\n",
        "NMFrec = mean(recall)\n",
        "print(NMFprec)\n",
        "print(NMFrec)"
      ],
      "execution_count": null,
      "outputs": [
        {
          "output_type": "stream",
          "text": [
            "0.908609972504764\n",
            "0.6100057726734884\n"
          ],
          "name": "stdout"
        }
      ]
    },
    {
      "cell_type": "markdown",
      "metadata": {
        "id": "VbsL1Wl3Qebw",
        "colab_type": "text"
      },
      "source": [
        "### 3.3.6. Normal Predictor"
      ]
    },
    {
      "cell_type": "code",
      "metadata": {
        "id": "vZjSnjnaEYn3",
        "colab_type": "code",
        "colab": {
          "base_uri": "https://localhost:8080/",
          "height": 187
        },
        "outputId": "e1e5b41c-58c9-4e93-dbcd-beeec462cd5b"
      },
      "source": [
        "kf = KFold(n_splits=5)\n",
        "algo = NormalPredictor()\n",
        "\n",
        "for trainset, testset in kf.split(data):\n",
        "    algo.fit(trainset)\n",
        "    predictions = algo.test(testset)\n",
        "    precisions, recalls = precision_recall_at_k(predictions, k=10, threshold=3)\n",
        "\n",
        "    # Precision and recall can then be averaged over all users\n",
        "    precision = sum(prec for prec in precisions.values()) / len(precisions)\n",
        "    recall = sum(rec for rec in recalls.values()) / len(recalls)\n",
        "    print(precision)\n",
        "    print(recall)"
      ],
      "execution_count": null,
      "outputs": [
        {
          "output_type": "stream",
          "text": [
            "0.8259703456302803\n",
            "0.5203291370213227\n",
            "0.8398332489023969\n",
            "0.5255979957250537\n",
            "0.845647544984765\n",
            "0.5186456673765159\n",
            "0.8377303943846875\n",
            "0.512384732696135\n",
            "0.8347508677922677\n",
            "0.5270211372428211\n"
          ],
          "name": "stdout"
        }
      ]
    },
    {
      "cell_type": "code",
      "metadata": {
        "id": "Z_-xKr_TNFca",
        "colab_type": "code",
        "colab": {
          "base_uri": "https://localhost:8080/",
          "height": 51
        },
        "outputId": "8b4d5f65-a83a-4b9c-9844-d4e4fd575cfa"
      },
      "source": [
        "NPprec = mean(precision)\n",
        "NPrec = mean(recall)\n",
        "print(NPprec)\n",
        "print(NPrec)"
      ],
      "execution_count": null,
      "outputs": [
        {
          "output_type": "stream",
          "text": [
            "0.8416561463751269\n",
            "0.5268406581208701\n"
          ],
          "name": "stdout"
        }
      ]
    },
    {
      "cell_type": "markdown",
      "metadata": {
        "id": "wB4KvfdpQitt",
        "colab_type": "text"
      },
      "source": [
        "### 3.3.7. Baseline Only"
      ]
    },
    {
      "cell_type": "code",
      "metadata": {
        "id": "IniLfYspEd7t",
        "colab_type": "code",
        "colab": {
          "base_uri": "https://localhost:8080/",
          "height": 272
        },
        "outputId": "77c99657-2b02-4458-f97e-fd1bd5e3f046"
      },
      "source": [
        "kf = KFold(n_splits=5)\n",
        "algo = BaselineOnly()\n",
        "\n",
        "for trainset, testset in kf.split(data):\n",
        "    algo.fit(trainset)\n",
        "    predictions = algo.test(testset)\n",
        "    precisions, recalls = precision_recall_at_k(predictions, k=10, threshold=3)\n",
        "\n",
        "    # Precision and recall can then be averaged over all users\n",
        "    precision = sum(prec for prec in precisions.values()) / len(precisions)\n",
        "    recall = sum(rec for rec in recalls.values()) / len(recalls)\n",
        "    print(precision)\n",
        "    print(recall)"
      ],
      "execution_count": null,
      "outputs": [
        {
          "output_type": "stream",
          "text": [
            "Estimating biases using als...\n",
            "0.9025167417303429\n",
            "0.6556783717438142\n",
            "Estimating biases using als...\n",
            "0.9037462508003886\n",
            "0.649451361691886\n",
            "Estimating biases using als...\n",
            "0.8988419951756809\n",
            "0.6489798523237253\n",
            "Estimating biases using als...\n",
            "0.9024614127321112\n",
            "0.6474800331871207\n",
            "Estimating biases using als...\n",
            "0.898553819971015\n",
            "0.6481813250975544\n"
          ],
          "name": "stdout"
        }
      ]
    },
    {
      "cell_type": "code",
      "metadata": {
        "id": "ywxzblv4o2ga",
        "colab_type": "code",
        "colab": {
          "base_uri": "https://localhost:8080/",
          "height": 51
        },
        "outputId": "a0e2285e-ec71-481d-bf29-c82ef5ff4812"
      },
      "source": [
        "BOprec = mean(precision)\n",
        "BOrec = mean(recall)\n",
        "print(BOprec)\n",
        "print(BOrec)"
      ],
      "execution_count": null,
      "outputs": [
        {
          "output_type": "stream",
          "text": [
            "0.9026325977545469\n",
            "0.6591724083672234\n"
          ],
          "name": "stdout"
        }
      ]
    },
    {
      "cell_type": "markdown",
      "metadata": {
        "id": "sdSpFqkZzNDE",
        "colab_type": "text"
      },
      "source": [
        "## 3.4. Precision and recall visualisation"
      ]
    },
    {
      "cell_type": "code",
      "metadata": {
        "id": "vy3N_H2XwWTQ",
        "colab_type": "code",
        "colab": {}
      },
      "source": [
        "precall = [['SVD', SVDprec, SVDrec], ['SVDpp', SVDppprec, SVDpprec], ['KNNBaseline', KNNBprec, KNNBrec],\n",
        "           ['KNNWithMeans', KNNWMprec, KNNWMrec], ['NMF', NMFprec, NMFrec], ['Normal Prediction', NPprec,NPrec],\n",
        "           ['Baseline Only', BOprec,BOrec]]"
      ],
      "execution_count": null,
      "outputs": []
    },
    {
      "cell_type": "code",
      "metadata": {
        "id": "kNfKHhDyxN30",
        "colab_type": "code",
        "colab": {}
      },
      "source": [
        "dfresult = pd.DataFrame(precall, columns = ['Algorithm','AVG Precision', 'AVG Recall'])"
      ],
      "execution_count": null,
      "outputs": []
    },
    {
      "cell_type": "code",
      "metadata": {
        "id": "ogFyntFZN23c",
        "colab_type": "code",
        "colab": {}
      },
      "source": [
        "dfresult['AVG'] = dfresult.mean(numeric_only=True, axis=1)"
      ],
      "execution_count": null,
      "outputs": []
    },
    {
      "cell_type": "code",
      "metadata": {
        "id": "1eSHqBDgxbKy",
        "colab_type": "code",
        "colab": {
          "base_uri": "https://localhost:8080/",
          "height": 266
        },
        "outputId": "4ab80ee2-2aec-4a3e-f9b8-ce646795d4ee"
      },
      "source": [
        "dfresult.head(8)"
      ],
      "execution_count": null,
      "outputs": [
        {
          "output_type": "execute_result",
          "data": {
            "text/html": [
              "<div>\n",
              "<style scoped>\n",
              "    .dataframe tbody tr th:only-of-type {\n",
              "        vertical-align: middle;\n",
              "    }\n",
              "\n",
              "    .dataframe tbody tr th {\n",
              "        vertical-align: top;\n",
              "    }\n",
              "\n",
              "    .dataframe thead th {\n",
              "        text-align: right;\n",
              "    }\n",
              "</style>\n",
              "<table border=\"1\" class=\"dataframe\">\n",
              "  <thead>\n",
              "    <tr style=\"text-align: right;\">\n",
              "      <th></th>\n",
              "      <th>Algorithm</th>\n",
              "      <th>AVG Precision</th>\n",
              "      <th>AVG Recall</th>\n",
              "      <th>AVG</th>\n",
              "    </tr>\n",
              "  </thead>\n",
              "  <tbody>\n",
              "    <tr>\n",
              "      <th>0</th>\n",
              "      <td>SVD</td>\n",
              "      <td>0.899455</td>\n",
              "      <td>0.634246</td>\n",
              "      <td>0.766851</td>\n",
              "    </tr>\n",
              "    <tr>\n",
              "      <th>1</th>\n",
              "      <td>SVDpp</td>\n",
              "      <td>0.909689</td>\n",
              "      <td>0.636754</td>\n",
              "      <td>0.773221</td>\n",
              "    </tr>\n",
              "    <tr>\n",
              "      <th>2</th>\n",
              "      <td>KNNBaseline</td>\n",
              "      <td>0.914468</td>\n",
              "      <td>0.645650</td>\n",
              "      <td>0.780059</td>\n",
              "    </tr>\n",
              "    <tr>\n",
              "      <th>3</th>\n",
              "      <td>KNNWithMeans</td>\n",
              "      <td>0.910502</td>\n",
              "      <td>0.615369</td>\n",
              "      <td>0.762935</td>\n",
              "    </tr>\n",
              "    <tr>\n",
              "      <th>4</th>\n",
              "      <td>NMF</td>\n",
              "      <td>0.908610</td>\n",
              "      <td>0.610006</td>\n",
              "      <td>0.759308</td>\n",
              "    </tr>\n",
              "    <tr>\n",
              "      <th>5</th>\n",
              "      <td>Normal Prediction</td>\n",
              "      <td>0.841656</td>\n",
              "      <td>0.526841</td>\n",
              "      <td>0.684248</td>\n",
              "    </tr>\n",
              "    <tr>\n",
              "      <th>6</th>\n",
              "      <td>Baseline Only</td>\n",
              "      <td>0.902633</td>\n",
              "      <td>0.659172</td>\n",
              "      <td>0.780903</td>\n",
              "    </tr>\n",
              "  </tbody>\n",
              "</table>\n",
              "</div>"
            ],
            "text/plain": [
              "           Algorithm  AVG Precision  AVG Recall       AVG\n",
              "0                SVD       0.899455    0.634246  0.766851\n",
              "1              SVDpp       0.909689    0.636754  0.773221\n",
              "2        KNNBaseline       0.914468    0.645650  0.780059\n",
              "3       KNNWithMeans       0.910502    0.615369  0.762935\n",
              "4                NMF       0.908610    0.610006  0.759308\n",
              "5  Normal Prediction       0.841656    0.526841  0.684248\n",
              "6      Baseline Only       0.902633    0.659172  0.780903"
            ]
          },
          "metadata": {
            "tags": []
          },
          "execution_count": 124
        }
      ]
    },
    {
      "cell_type": "code",
      "metadata": {
        "id": "xeIdtEHpxg9I",
        "colab_type": "code",
        "colab": {
          "base_uri": "https://localhost:8080/",
          "height": 585
        },
        "outputId": "c8a82a40-4dc4-4927-f973-0d6c5cb90f5b"
      },
      "source": [
        "dfresult.plot(x='Algorithm', title='Each Algorithm Average Performance',figsize=(15,10), fontsize=12)"
      ],
      "execution_count": null,
      "outputs": [
        {
          "output_type": "execute_result",
          "data": {
            "text/plain": [
              "<matplotlib.axes._subplots.AxesSubplot at 0x7f1eac8c9dd8>"
            ]
          },
          "metadata": {
            "tags": []
          },
          "execution_count": 123
        },
        {
          "output_type": "display_data",
          "data": {
            "image/png": "[encoded data removed]",
            "text/plain": [
              "<Figure size 1080x720 with 1 Axes>"
            ]
          },
          "metadata": {
            "tags": [],
            "needs_background": "light"
          }
        }
      ]
    }
  ]
}