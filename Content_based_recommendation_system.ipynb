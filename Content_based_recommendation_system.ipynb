{
  "nbformat": 4,
  "nbformat_minor": 0,
  "metadata": {
    "colab": {
      "name": "Content_based_recommendation_system.ipynb",
      "provenance": [],
      "collapsed_sections": [
        "Vkvogp49Gkhw",
        "llBrPjrFv9Ru",
        "GnVXwcJBxorI",
        "R8xKBNzj9oIK",
        "ZwSCfA1U-ZxX",
        "raLlaNLpdFGz",
        "Lv5nJY98dQHK",
        "XV83xzQ_bdYB",
        "dGmskKSRczm3",
        "lsQR08iPxJP-",
        "f3K7UAGaAk4S",
        "GHSZqGkMAsK-",
        "TeFCeREcAxvX",
        "pulrJ-JQAAez",
        "tL0QUhvExqU4"
      ]
    },
    "kernelspec": {
      "name": "python3",
      "display_name": "Python 3"
    }
  },
  "cells": [
    {
      "cell_type": "markdown",
      "metadata": {
        "id": "MNVeApiKu9Pz",
        "colab_type": "text"
      },
      "source": [
        "# Content based recommendation system\n",
        "\n",
        "\n",
        "\n"
      ]
    },
    {
      "cell_type": "markdown",
      "metadata": {
        "id": "Vkvogp49Gkhw",
        "colab_type": "text"
      },
      "source": [
        "## 1. Mount Drive and Change to Current Directory"
      ]
    },
    {
      "cell_type": "code",
      "metadata": {
        "id": "nK6ten5CFiTu",
        "colab_type": "code",
        "outputId": "e7dbcff9-c1bc-495e-c487-ec5a4d694476",
        "colab": {
          "base_uri": "https://localhost:8080/",
          "height": 122
        }
      },
      "source": [
        "from google.colab import drive\n",
        "drive.mount('/content/gdrive')"
      ],
      "execution_count": 1,
      "outputs": [
        {
          "output_type": "stream",
          "text": [
            "Go to this URL in a browser: https://accounts.google.com/o/oauth2/auth?client_id=947318989803-6bn6qk8qdgf4n4g3pfee6491hc0brc4i.apps.googleusercontent.com&redirect_uri=urn%3aietf%3awg%3aoauth%3a2.0%3aoob&response_type=code&scope=email%20https%3a%2f%2fwww.googleapis.com%2fauth%2fdocs.test%20https%3a%2f%2fwww.googleapis.com%2fauth%2fdrive%20https%3a%2f%2fwww.googleapis.com%2fauth%2fdrive.photos.readonly%20https%3a%2f%2fwww.googleapis.com%2fauth%2fpeopleapi.readonly\n",
            "\n",
            "Enter your authorization code:\n",
            "··········\n",
            "Mounted at /content/gdrive\n"
          ],
          "name": "stdout"
        }
      ]
    },
    {
      "cell_type": "code",
      "metadata": {
        "id": "Hhr6hHm4F3GQ",
        "colab_type": "code",
        "outputId": "cf921cd2-61c2-4425-ab07-7d4671bd5864",
        "colab": {
          "base_uri": "https://localhost:8080/",
          "height": 34
        }
      },
      "source": [
        "cd /content/gdrive/My Drive/ml-20m"
      ],
      "execution_count": 2,
      "outputs": [
        {
          "output_type": "stream",
          "text": [
            "/content/gdrive/My Drive/ml-20m\n"
          ],
          "name": "stdout"
        }
      ]
    },
    {
      "cell_type": "code",
      "metadata": {
        "id": "oZ-HxxpHF6PY",
        "colab_type": "code",
        "outputId": "47279015-9ffd-4861-8f91-571260af8ac2",
        "colab": {
          "base_uri": "https://localhost:8080/",
          "height": 102
        }
      },
      "source": [
        "!ls"
      ],
      "execution_count": 3,
      "outputs": [
        {
          "output_type": "stream",
          "text": [
            "Content_based_recommendation_system.ipynb  links.csv\t   soupdata.csv\n",
            "contentdata.csv\t\t\t\t   movies.csv\t   tags.csv\n",
            "data.csv\t\t\t\t   ratings.csv\t   tagsdata.csv\n",
            "genome-scores.csv\t\t\t   README.txt\n",
            "genome-tags.csv\t\t\t\t   simpledata.csv\n"
          ],
          "name": "stdout"
        }
      ]
    },
    {
      "cell_type": "markdown",
      "metadata": {
        "id": "llBrPjrFv9Ru",
        "colab_type": "text"
      },
      "source": [
        "# 2. Import Required Library"
      ]
    },
    {
      "cell_type": "code",
      "metadata": {
        "id": "wmAaQshewawR",
        "colab_type": "code",
        "outputId": "a1ec7e58-9b37-4788-9f7f-e2ee99237835",
        "colab": {
          "base_uri": "https://localhost:8080/",
          "height": 71
        }
      },
      "source": [
        "import numpy as np\n",
        "import pandas as pd\n",
        "import matplotlib.pyplot as plt\n",
        "import seaborn as sns\n",
        "color = sns.color_palette()\n",
        "sns.set_style('whitegrid')"
      ],
      "execution_count": 4,
      "outputs": [
        {
          "output_type": "stream",
          "text": [
            "/usr/local/lib/python3.6/dist-packages/statsmodels/tools/_testing.py:19: FutureWarning: pandas.util.testing is deprecated. Use the functions in the public API at pandas.testing instead.\n",
            "  import pandas.util.testing as tm\n"
          ],
          "name": "stderr"
        }
      ]
    },
    {
      "cell_type": "markdown",
      "metadata": {
        "colab_type": "text",
        "id": "GnVXwcJBxorI"
      },
      "source": [
        "# 3. Load Dataset"
      ]
    },
    {
      "cell_type": "code",
      "metadata": {
        "id": "2kcreF7Tto7q",
        "colab_type": "code",
        "colab": {}
      },
      "source": [
        "ratings = pd.read_csv('ratings.csv', low_memory=False)"
      ],
      "execution_count": 0,
      "outputs": []
    },
    {
      "cell_type": "code",
      "metadata": {
        "id": "KyOyeCj7yn_L",
        "colab_type": "code",
        "outputId": "e7fc3dd5-5615-405c-b0d6-4eb772f727ea",
        "colab": {
          "base_uri": "https://localhost:8080/",
          "height": 359
        }
      },
      "source": [
        "ratings.head(10)"
      ],
      "execution_count": 0,
      "outputs": [
        {
          "output_type": "execute_result",
          "data": {
            "text/html": [
              "<div>\n",
              "<style scoped>\n",
              "    .dataframe tbody tr th:only-of-type {\n",
              "        vertical-align: middle;\n",
              "    }\n",
              "\n",
              "    .dataframe tbody tr th {\n",
              "        vertical-align: top;\n",
              "    }\n",
              "\n",
              "    .dataframe thead th {\n",
              "        text-align: right;\n",
              "    }\n",
              "</style>\n",
              "<table border=\"1\" class=\"dataframe\">\n",
              "  <thead>\n",
              "    <tr style=\"text-align: right;\">\n",
              "      <th></th>\n",
              "      <th>userId</th>\n",
              "      <th>movieId</th>\n",
              "      <th>rating</th>\n",
              "      <th>timestamp</th>\n",
              "    </tr>\n",
              "  </thead>\n",
              "  <tbody>\n",
              "    <tr>\n",
              "      <th>0</th>\n",
              "      <td>1</td>\n",
              "      <td>2</td>\n",
              "      <td>3.5</td>\n",
              "      <td>1112486027</td>\n",
              "    </tr>\n",
              "    <tr>\n",
              "      <th>1</th>\n",
              "      <td>1</td>\n",
              "      <td>29</td>\n",
              "      <td>3.5</td>\n",
              "      <td>1112484676</td>\n",
              "    </tr>\n",
              "    <tr>\n",
              "      <th>2</th>\n",
              "      <td>1</td>\n",
              "      <td>32</td>\n",
              "      <td>3.5</td>\n",
              "      <td>1112484819</td>\n",
              "    </tr>\n",
              "    <tr>\n",
              "      <th>3</th>\n",
              "      <td>1</td>\n",
              "      <td>47</td>\n",
              "      <td>3.5</td>\n",
              "      <td>1112484727</td>\n",
              "    </tr>\n",
              "    <tr>\n",
              "      <th>4</th>\n",
              "      <td>1</td>\n",
              "      <td>50</td>\n",
              "      <td>3.5</td>\n",
              "      <td>1112484580</td>\n",
              "    </tr>\n",
              "    <tr>\n",
              "      <th>5</th>\n",
              "      <td>1</td>\n",
              "      <td>112</td>\n",
              "      <td>3.5</td>\n",
              "      <td>1094785740</td>\n",
              "    </tr>\n",
              "    <tr>\n",
              "      <th>6</th>\n",
              "      <td>1</td>\n",
              "      <td>151</td>\n",
              "      <td>4.0</td>\n",
              "      <td>1094785734</td>\n",
              "    </tr>\n",
              "    <tr>\n",
              "      <th>7</th>\n",
              "      <td>1</td>\n",
              "      <td>223</td>\n",
              "      <td>4.0</td>\n",
              "      <td>1112485573</td>\n",
              "    </tr>\n",
              "    <tr>\n",
              "      <th>8</th>\n",
              "      <td>1</td>\n",
              "      <td>253</td>\n",
              "      <td>4.0</td>\n",
              "      <td>1112484940</td>\n",
              "    </tr>\n",
              "    <tr>\n",
              "      <th>9</th>\n",
              "      <td>1</td>\n",
              "      <td>260</td>\n",
              "      <td>4.0</td>\n",
              "      <td>1112484826</td>\n",
              "    </tr>\n",
              "  </tbody>\n",
              "</table>\n",
              "</div>"
            ],
            "text/plain": [
              "   userId  movieId  rating   timestamp\n",
              "0       1        2     3.5  1112486027\n",
              "1       1       29     3.5  1112484676\n",
              "2       1       32     3.5  1112484819\n",
              "3       1       47     3.5  1112484727\n",
              "4       1       50     3.5  1112484580\n",
              "5       1      112     3.5  1094785740\n",
              "6       1      151     4.0  1094785734\n",
              "7       1      223     4.0  1112485573\n",
              "8       1      253     4.0  1112484940\n",
              "9       1      260     4.0  1112484826"
            ]
          },
          "metadata": {
            "tags": []
          },
          "execution_count": 7
        }
      ]
    },
    {
      "cell_type": "code",
      "metadata": {
        "id": "LNRgAm4yy3Es",
        "colab_type": "code",
        "outputId": "0fbdd66a-6319-4af0-8437-a5546270ffeb",
        "colab": {
          "base_uri": "https://localhost:8080/",
          "height": 34
        }
      },
      "source": [
        "ratings.shape"
      ],
      "execution_count": 0,
      "outputs": [
        {
          "output_type": "execute_result",
          "data": {
            "text/plain": [
              "(20000263, 4)"
            ]
          },
          "metadata": {
            "tags": []
          },
          "execution_count": 8
        }
      ]
    },
    {
      "cell_type": "code",
      "metadata": {
        "id": "OhTnJRhizxkI",
        "colab_type": "code",
        "colab": {}
      },
      "source": [
        "tags = pd.read_csv('tags.csv', low_memory=False)"
      ],
      "execution_count": 0,
      "outputs": []
    },
    {
      "cell_type": "code",
      "metadata": {
        "id": "kq5vfYdO2rkC",
        "colab_type": "code",
        "colab": {}
      },
      "source": [
        "del tags['timestamp']"
      ],
      "execution_count": 0,
      "outputs": []
    },
    {
      "cell_type": "code",
      "metadata": {
        "colab_type": "code",
        "outputId": "e4049d78-00c8-427d-e661-5305e66da69e",
        "id": "KKYj3svd0nCG",
        "colab": {
          "base_uri": "https://localhost:8080/",
          "height": 359
        }
      },
      "source": [
        "tags.head(10)"
      ],
      "execution_count": 0,
      "outputs": [
        {
          "output_type": "execute_result",
          "data": {
            "text/html": [
              "<div>\n",
              "<style scoped>\n",
              "    .dataframe tbody tr th:only-of-type {\n",
              "        vertical-align: middle;\n",
              "    }\n",
              "\n",
              "    .dataframe tbody tr th {\n",
              "        vertical-align: top;\n",
              "    }\n",
              "\n",
              "    .dataframe thead th {\n",
              "        text-align: right;\n",
              "    }\n",
              "</style>\n",
              "<table border=\"1\" class=\"dataframe\">\n",
              "  <thead>\n",
              "    <tr style=\"text-align: right;\">\n",
              "      <th></th>\n",
              "      <th>userId</th>\n",
              "      <th>movieId</th>\n",
              "      <th>tag</th>\n",
              "    </tr>\n",
              "  </thead>\n",
              "  <tbody>\n",
              "    <tr>\n",
              "      <th>0</th>\n",
              "      <td>18</td>\n",
              "      <td>4141</td>\n",
              "      <td>Mark Waters</td>\n",
              "    </tr>\n",
              "    <tr>\n",
              "      <th>1</th>\n",
              "      <td>65</td>\n",
              "      <td>208</td>\n",
              "      <td>dark hero</td>\n",
              "    </tr>\n",
              "    <tr>\n",
              "      <th>2</th>\n",
              "      <td>65</td>\n",
              "      <td>353</td>\n",
              "      <td>dark hero</td>\n",
              "    </tr>\n",
              "    <tr>\n",
              "      <th>3</th>\n",
              "      <td>65</td>\n",
              "      <td>521</td>\n",
              "      <td>noir thriller</td>\n",
              "    </tr>\n",
              "    <tr>\n",
              "      <th>4</th>\n",
              "      <td>65</td>\n",
              "      <td>592</td>\n",
              "      <td>dark hero</td>\n",
              "    </tr>\n",
              "    <tr>\n",
              "      <th>5</th>\n",
              "      <td>65</td>\n",
              "      <td>668</td>\n",
              "      <td>bollywood</td>\n",
              "    </tr>\n",
              "    <tr>\n",
              "      <th>6</th>\n",
              "      <td>65</td>\n",
              "      <td>898</td>\n",
              "      <td>screwball comedy</td>\n",
              "    </tr>\n",
              "    <tr>\n",
              "      <th>7</th>\n",
              "      <td>65</td>\n",
              "      <td>1248</td>\n",
              "      <td>noir thriller</td>\n",
              "    </tr>\n",
              "    <tr>\n",
              "      <th>8</th>\n",
              "      <td>65</td>\n",
              "      <td>1391</td>\n",
              "      <td>mars</td>\n",
              "    </tr>\n",
              "    <tr>\n",
              "      <th>9</th>\n",
              "      <td>65</td>\n",
              "      <td>1617</td>\n",
              "      <td>neo-noir</td>\n",
              "    </tr>\n",
              "  </tbody>\n",
              "</table>\n",
              "</div>"
            ],
            "text/plain": [
              "   userId  movieId               tag\n",
              "0      18     4141       Mark Waters\n",
              "1      65      208         dark hero\n",
              "2      65      353         dark hero\n",
              "3      65      521     noir thriller\n",
              "4      65      592         dark hero\n",
              "5      65      668         bollywood\n",
              "6      65      898  screwball comedy\n",
              "7      65     1248     noir thriller\n",
              "8      65     1391              mars\n",
              "9      65     1617          neo-noir"
            ]
          },
          "metadata": {
            "tags": []
          },
          "execution_count": 11
        }
      ]
    },
    {
      "cell_type": "code",
      "metadata": {
        "id": "Usv9l7py3Q-P",
        "colab_type": "code",
        "colab": {}
      },
      "source": [
        "tags = tags.sort_values(by =['movieId', 'userId'])"
      ],
      "execution_count": 0,
      "outputs": []
    },
    {
      "cell_type": "code",
      "metadata": {
        "colab_type": "code",
        "outputId": "23b463f1-c9a3-412e-8356-8488f7d2b14b",
        "id": "BFA40Fxz3dNB",
        "colab": {
          "base_uri": "https://localhost:8080/",
          "height": 359
        }
      },
      "source": [
        "tags.head(10)"
      ],
      "execution_count": 0,
      "outputs": [
        {
          "output_type": "execute_result",
          "data": {
            "text/html": [
              "<div>\n",
              "<style scoped>\n",
              "    .dataframe tbody tr th:only-of-type {\n",
              "        vertical-align: middle;\n",
              "    }\n",
              "\n",
              "    .dataframe tbody tr th {\n",
              "        vertical-align: top;\n",
              "    }\n",
              "\n",
              "    .dataframe thead th {\n",
              "        text-align: right;\n",
              "    }\n",
              "</style>\n",
              "<table border=\"1\" class=\"dataframe\">\n",
              "  <thead>\n",
              "    <tr style=\"text-align: right;\">\n",
              "      <th></th>\n",
              "      <th>userId</th>\n",
              "      <th>movieId</th>\n",
              "      <th>tag</th>\n",
              "    </tr>\n",
              "  </thead>\n",
              "  <tbody>\n",
              "    <tr>\n",
              "      <th>3676</th>\n",
              "      <td>1644</td>\n",
              "      <td>1</td>\n",
              "      <td>Watched</td>\n",
              "    </tr>\n",
              "    <tr>\n",
              "      <th>4509</th>\n",
              "      <td>1741</td>\n",
              "      <td>1</td>\n",
              "      <td>computer animation</td>\n",
              "    </tr>\n",
              "    <tr>\n",
              "      <th>4510</th>\n",
              "      <td>1741</td>\n",
              "      <td>1</td>\n",
              "      <td>Disney animated feature</td>\n",
              "    </tr>\n",
              "    <tr>\n",
              "      <th>4511</th>\n",
              "      <td>1741</td>\n",
              "      <td>1</td>\n",
              "      <td>Pixar animation</td>\n",
              "    </tr>\n",
              "    <tr>\n",
              "      <th>4512</th>\n",
              "      <td>1741</td>\n",
              "      <td>1</td>\n",
              "      <td>TÃ©a Leoni does not star in this movie</td>\n",
              "    </tr>\n",
              "    <tr>\n",
              "      <th>12169</th>\n",
              "      <td>2299</td>\n",
              "      <td>1</td>\n",
              "      <td>Pixar</td>\n",
              "    </tr>\n",
              "    <tr>\n",
              "      <th>15772</th>\n",
              "      <td>3596</td>\n",
              "      <td>1</td>\n",
              "      <td>animation</td>\n",
              "    </tr>\n",
              "    <tr>\n",
              "      <th>15773</th>\n",
              "      <td>3596</td>\n",
              "      <td>1</td>\n",
              "      <td>family</td>\n",
              "    </tr>\n",
              "    <tr>\n",
              "      <th>15774</th>\n",
              "      <td>3596</td>\n",
              "      <td>1</td>\n",
              "      <td>Tom Hanks</td>\n",
              "    </tr>\n",
              "    <tr>\n",
              "      <th>25502</th>\n",
              "      <td>6233</td>\n",
              "      <td>1</td>\n",
              "      <td>Pixar</td>\n",
              "    </tr>\n",
              "  </tbody>\n",
              "</table>\n",
              "</div>"
            ],
            "text/plain": [
              "       userId  movieId                                     tag\n",
              "3676     1644        1                                 Watched\n",
              "4509     1741        1                      computer animation\n",
              "4510     1741        1                 Disney animated feature\n",
              "4511     1741        1                         Pixar animation\n",
              "4512     1741        1  TÃ©a Leoni does not star in this movie\n",
              "12169    2299        1                                   Pixar\n",
              "15772    3596        1                               animation\n",
              "15773    3596        1                                  family\n",
              "15774    3596        1                               Tom Hanks\n",
              "25502    6233        1                                   Pixar"
            ]
          },
          "metadata": {
            "tags": []
          },
          "execution_count": 13
        }
      ]
    },
    {
      "cell_type": "code",
      "metadata": {
        "colab_type": "code",
        "outputId": "678b5b24-f168-457d-ed8a-66ff185c8f16",
        "id": "cgB1CZps9w-l",
        "colab": {
          "base_uri": "https://localhost:8080/",
          "height": 34
        }
      },
      "source": [
        "tags.shape"
      ],
      "execution_count": 0,
      "outputs": [
        {
          "output_type": "execute_result",
          "data": {
            "text/plain": [
              "(465564, 3)"
            ]
          },
          "metadata": {
            "tags": []
          },
          "execution_count": 14
        }
      ]
    },
    {
      "cell_type": "code",
      "metadata": {
        "id": "eloukq5G0b0A",
        "colab_type": "code",
        "colab": {}
      },
      "source": [
        "movies = pd.read_csv('movies.csv', low_memory=False)"
      ],
      "execution_count": 0,
      "outputs": []
    },
    {
      "cell_type": "code",
      "metadata": {
        "colab_type": "code",
        "outputId": "fa986ef1-7880-4ee6-f5b1-d0753ad33e67",
        "id": "0VTR1GWg0oCl",
        "colab": {
          "base_uri": "https://localhost:8080/",
          "height": 359
        }
      },
      "source": [
        "movies.head(10)"
      ],
      "execution_count": 0,
      "outputs": [
        {
          "output_type": "execute_result",
          "data": {
            "text/html": [
              "<div>\n",
              "<style scoped>\n",
              "    .dataframe tbody tr th:only-of-type {\n",
              "        vertical-align: middle;\n",
              "    }\n",
              "\n",
              "    .dataframe tbody tr th {\n",
              "        vertical-align: top;\n",
              "    }\n",
              "\n",
              "    .dataframe thead th {\n",
              "        text-align: right;\n",
              "    }\n",
              "</style>\n",
              "<table border=\"1\" class=\"dataframe\">\n",
              "  <thead>\n",
              "    <tr style=\"text-align: right;\">\n",
              "      <th></th>\n",
              "      <th>movieId</th>\n",
              "      <th>title</th>\n",
              "      <th>genres</th>\n",
              "    </tr>\n",
              "  </thead>\n",
              "  <tbody>\n",
              "    <tr>\n",
              "      <th>0</th>\n",
              "      <td>1</td>\n",
              "      <td>Toy Story (1995)</td>\n",
              "      <td>Adventure|Animation|Children|Comedy|Fantasy</td>\n",
              "    </tr>\n",
              "    <tr>\n",
              "      <th>1</th>\n",
              "      <td>2</td>\n",
              "      <td>Jumanji (1995)</td>\n",
              "      <td>Adventure|Children|Fantasy</td>\n",
              "    </tr>\n",
              "    <tr>\n",
              "      <th>2</th>\n",
              "      <td>3</td>\n",
              "      <td>Grumpier Old Men (1995)</td>\n",
              "      <td>Comedy|Romance</td>\n",
              "    </tr>\n",
              "    <tr>\n",
              "      <th>3</th>\n",
              "      <td>4</td>\n",
              "      <td>Waiting to Exhale (1995)</td>\n",
              "      <td>Comedy|Drama|Romance</td>\n",
              "    </tr>\n",
              "    <tr>\n",
              "      <th>4</th>\n",
              "      <td>5</td>\n",
              "      <td>Father of the Bride Part II (1995)</td>\n",
              "      <td>Comedy</td>\n",
              "    </tr>\n",
              "    <tr>\n",
              "      <th>5</th>\n",
              "      <td>6</td>\n",
              "      <td>Heat (1995)</td>\n",
              "      <td>Action|Crime|Thriller</td>\n",
              "    </tr>\n",
              "    <tr>\n",
              "      <th>6</th>\n",
              "      <td>7</td>\n",
              "      <td>Sabrina (1995)</td>\n",
              "      <td>Comedy|Romance</td>\n",
              "    </tr>\n",
              "    <tr>\n",
              "      <th>7</th>\n",
              "      <td>8</td>\n",
              "      <td>Tom and Huck (1995)</td>\n",
              "      <td>Adventure|Children</td>\n",
              "    </tr>\n",
              "    <tr>\n",
              "      <th>8</th>\n",
              "      <td>9</td>\n",
              "      <td>Sudden Death (1995)</td>\n",
              "      <td>Action</td>\n",
              "    </tr>\n",
              "    <tr>\n",
              "      <th>9</th>\n",
              "      <td>10</td>\n",
              "      <td>GoldenEye (1995)</td>\n",
              "      <td>Action|Adventure|Thriller</td>\n",
              "    </tr>\n",
              "  </tbody>\n",
              "</table>\n",
              "</div>"
            ],
            "text/plain": [
              "   movieId  ...                                       genres\n",
              "0        1  ...  Adventure|Animation|Children|Comedy|Fantasy\n",
              "1        2  ...                   Adventure|Children|Fantasy\n",
              "2        3  ...                               Comedy|Romance\n",
              "3        4  ...                         Comedy|Drama|Romance\n",
              "4        5  ...                                       Comedy\n",
              "5        6  ...                        Action|Crime|Thriller\n",
              "6        7  ...                               Comedy|Romance\n",
              "7        8  ...                           Adventure|Children\n",
              "8        9  ...                                       Action\n",
              "9       10  ...                    Action|Adventure|Thriller\n",
              "\n",
              "[10 rows x 3 columns]"
            ]
          },
          "metadata": {
            "tags": []
          },
          "execution_count": 16
        }
      ]
    },
    {
      "cell_type": "code",
      "metadata": {
        "colab_type": "code",
        "outputId": "06feb792-34b9-4c2f-8a09-38c3b33799cf",
        "id": "vuEE-RYJ91ks",
        "colab": {
          "base_uri": "https://localhost:8080/",
          "height": 34
        }
      },
      "source": [
        "movies.shape"
      ],
      "execution_count": 0,
      "outputs": [
        {
          "output_type": "execute_result",
          "data": {
            "text/plain": [
              "(27278, 3)"
            ]
          },
          "metadata": {
            "tags": []
          },
          "execution_count": 17
        }
      ]
    },
    {
      "cell_type": "code",
      "metadata": {
        "colab_type": "code",
        "id": "Ez6C8rUhtX-c",
        "colab": {}
      },
      "source": [
        "links = pd.read_csv('links.csv', low_memory=False)"
      ],
      "execution_count": 0,
      "outputs": []
    },
    {
      "cell_type": "code",
      "metadata": {
        "id": "Shv_Bj0CuDbm",
        "colab_type": "code",
        "outputId": "e9449cd4-57dc-49d9-d97a-7b3d18cfe778",
        "colab": {
          "base_uri": "https://localhost:8080/",
          "height": 359
        }
      },
      "source": [
        "links.head(10)"
      ],
      "execution_count": 0,
      "outputs": [
        {
          "output_type": "execute_result",
          "data": {
            "text/html": [
              "<div>\n",
              "<style scoped>\n",
              "    .dataframe tbody tr th:only-of-type {\n",
              "        vertical-align: middle;\n",
              "    }\n",
              "\n",
              "    .dataframe tbody tr th {\n",
              "        vertical-align: top;\n",
              "    }\n",
              "\n",
              "    .dataframe thead th {\n",
              "        text-align: right;\n",
              "    }\n",
              "</style>\n",
              "<table border=\"1\" class=\"dataframe\">\n",
              "  <thead>\n",
              "    <tr style=\"text-align: right;\">\n",
              "      <th></th>\n",
              "      <th>movieId</th>\n",
              "      <th>imdbId</th>\n",
              "      <th>tmdbId</th>\n",
              "    </tr>\n",
              "  </thead>\n",
              "  <tbody>\n",
              "    <tr>\n",
              "      <th>0</th>\n",
              "      <td>1</td>\n",
              "      <td>114709</td>\n",
              "      <td>862.0</td>\n",
              "    </tr>\n",
              "    <tr>\n",
              "      <th>1</th>\n",
              "      <td>2</td>\n",
              "      <td>113497</td>\n",
              "      <td>8844.0</td>\n",
              "    </tr>\n",
              "    <tr>\n",
              "      <th>2</th>\n",
              "      <td>3</td>\n",
              "      <td>113228</td>\n",
              "      <td>15602.0</td>\n",
              "    </tr>\n",
              "    <tr>\n",
              "      <th>3</th>\n",
              "      <td>4</td>\n",
              "      <td>114885</td>\n",
              "      <td>31357.0</td>\n",
              "    </tr>\n",
              "    <tr>\n",
              "      <th>4</th>\n",
              "      <td>5</td>\n",
              "      <td>113041</td>\n",
              "      <td>11862.0</td>\n",
              "    </tr>\n",
              "    <tr>\n",
              "      <th>5</th>\n",
              "      <td>6</td>\n",
              "      <td>113277</td>\n",
              "      <td>949.0</td>\n",
              "    </tr>\n",
              "    <tr>\n",
              "      <th>6</th>\n",
              "      <td>7</td>\n",
              "      <td>114319</td>\n",
              "      <td>11860.0</td>\n",
              "    </tr>\n",
              "    <tr>\n",
              "      <th>7</th>\n",
              "      <td>8</td>\n",
              "      <td>112302</td>\n",
              "      <td>45325.0</td>\n",
              "    </tr>\n",
              "    <tr>\n",
              "      <th>8</th>\n",
              "      <td>9</td>\n",
              "      <td>114576</td>\n",
              "      <td>9091.0</td>\n",
              "    </tr>\n",
              "    <tr>\n",
              "      <th>9</th>\n",
              "      <td>10</td>\n",
              "      <td>113189</td>\n",
              "      <td>710.0</td>\n",
              "    </tr>\n",
              "  </tbody>\n",
              "</table>\n",
              "</div>"
            ],
            "text/plain": [
              "   movieId  imdbId   tmdbId\n",
              "0        1  114709    862.0\n",
              "1        2  113497   8844.0\n",
              "2        3  113228  15602.0\n",
              "3        4  114885  31357.0\n",
              "4        5  113041  11862.0\n",
              "5        6  113277    949.0\n",
              "6        7  114319  11860.0\n",
              "7        8  112302  45325.0\n",
              "8        9  114576   9091.0\n",
              "9       10  113189    710.0"
            ]
          },
          "metadata": {
            "tags": []
          },
          "execution_count": 8
        }
      ]
    },
    {
      "cell_type": "code",
      "metadata": {
        "colab_type": "code",
        "id": "m9IFZdxCtY1x",
        "colab": {}
      },
      "source": [
        "gscores = pd.read_csv('genome-scores.csv', low_memory=False)"
      ],
      "execution_count": 0,
      "outputs": []
    },
    {
      "cell_type": "code",
      "metadata": {
        "id": "jkLT8VxGuGRZ",
        "colab_type": "code",
        "outputId": "5b060af4-d737-4c5d-d17b-7fb4b6b20cbb",
        "colab": {
          "base_uri": "https://localhost:8080/",
          "height": 359
        }
      },
      "source": [
        "gscores.head(10)"
      ],
      "execution_count": 0,
      "outputs": [
        {
          "output_type": "execute_result",
          "data": {
            "text/html": [
              "<div>\n",
              "<style scoped>\n",
              "    .dataframe tbody tr th:only-of-type {\n",
              "        vertical-align: middle;\n",
              "    }\n",
              "\n",
              "    .dataframe tbody tr th {\n",
              "        vertical-align: top;\n",
              "    }\n",
              "\n",
              "    .dataframe thead th {\n",
              "        text-align: right;\n",
              "    }\n",
              "</style>\n",
              "<table border=\"1\" class=\"dataframe\">\n",
              "  <thead>\n",
              "    <tr style=\"text-align: right;\">\n",
              "      <th></th>\n",
              "      <th>movieId</th>\n",
              "      <th>tagId</th>\n",
              "      <th>relevance</th>\n",
              "    </tr>\n",
              "  </thead>\n",
              "  <tbody>\n",
              "    <tr>\n",
              "      <th>0</th>\n",
              "      <td>1</td>\n",
              "      <td>1</td>\n",
              "      <td>0.02500</td>\n",
              "    </tr>\n",
              "    <tr>\n",
              "      <th>1</th>\n",
              "      <td>1</td>\n",
              "      <td>2</td>\n",
              "      <td>0.02500</td>\n",
              "    </tr>\n",
              "    <tr>\n",
              "      <th>2</th>\n",
              "      <td>1</td>\n",
              "      <td>3</td>\n",
              "      <td>0.05775</td>\n",
              "    </tr>\n",
              "    <tr>\n",
              "      <th>3</th>\n",
              "      <td>1</td>\n",
              "      <td>4</td>\n",
              "      <td>0.09675</td>\n",
              "    </tr>\n",
              "    <tr>\n",
              "      <th>4</th>\n",
              "      <td>1</td>\n",
              "      <td>5</td>\n",
              "      <td>0.14675</td>\n",
              "    </tr>\n",
              "    <tr>\n",
              "      <th>5</th>\n",
              "      <td>1</td>\n",
              "      <td>6</td>\n",
              "      <td>0.21700</td>\n",
              "    </tr>\n",
              "    <tr>\n",
              "      <th>6</th>\n",
              "      <td>1</td>\n",
              "      <td>7</td>\n",
              "      <td>0.06700</td>\n",
              "    </tr>\n",
              "    <tr>\n",
              "      <th>7</th>\n",
              "      <td>1</td>\n",
              "      <td>8</td>\n",
              "      <td>0.26275</td>\n",
              "    </tr>\n",
              "    <tr>\n",
              "      <th>8</th>\n",
              "      <td>1</td>\n",
              "      <td>9</td>\n",
              "      <td>0.26200</td>\n",
              "    </tr>\n",
              "    <tr>\n",
              "      <th>9</th>\n",
              "      <td>1</td>\n",
              "      <td>10</td>\n",
              "      <td>0.03200</td>\n",
              "    </tr>\n",
              "  </tbody>\n",
              "</table>\n",
              "</div>"
            ],
            "text/plain": [
              "   movieId  tagId  relevance\n",
              "0        1      1    0.02500\n",
              "1        1      2    0.02500\n",
              "2        1      3    0.05775\n",
              "3        1      4    0.09675\n",
              "4        1      5    0.14675\n",
              "5        1      6    0.21700\n",
              "6        1      7    0.06700\n",
              "7        1      8    0.26275\n",
              "8        1      9    0.26200\n",
              "9        1     10    0.03200"
            ]
          },
          "metadata": {
            "tags": []
          },
          "execution_count": 9
        }
      ]
    },
    {
      "cell_type": "code",
      "metadata": {
        "colab_type": "code",
        "id": "Piv2X59otYfa",
        "colab": {}
      },
      "source": [
        "gtags = pd.read_csv('genome-tags.csv', low_memory=False)"
      ],
      "execution_count": 0,
      "outputs": []
    },
    {
      "cell_type": "code",
      "metadata": {
        "id": "me8yo8q4uKBY",
        "colab_type": "code",
        "outputId": "61845f0d-8cb9-4d1f-ead0-30602f18e999",
        "colab": {
          "base_uri": "https://localhost:8080/",
          "height": 359
        }
      },
      "source": [
        "gtags.head(10)"
      ],
      "execution_count": 0,
      "outputs": [
        {
          "output_type": "execute_result",
          "data": {
            "text/html": [
              "<div>\n",
              "<style scoped>\n",
              "    .dataframe tbody tr th:only-of-type {\n",
              "        vertical-align: middle;\n",
              "    }\n",
              "\n",
              "    .dataframe tbody tr th {\n",
              "        vertical-align: top;\n",
              "    }\n",
              "\n",
              "    .dataframe thead th {\n",
              "        text-align: right;\n",
              "    }\n",
              "</style>\n",
              "<table border=\"1\" class=\"dataframe\">\n",
              "  <thead>\n",
              "    <tr style=\"text-align: right;\">\n",
              "      <th></th>\n",
              "      <th>tagId</th>\n",
              "      <th>tag</th>\n",
              "    </tr>\n",
              "  </thead>\n",
              "  <tbody>\n",
              "    <tr>\n",
              "      <th>0</th>\n",
              "      <td>1</td>\n",
              "      <td>007</td>\n",
              "    </tr>\n",
              "    <tr>\n",
              "      <th>1</th>\n",
              "      <td>2</td>\n",
              "      <td>007 (series)</td>\n",
              "    </tr>\n",
              "    <tr>\n",
              "      <th>2</th>\n",
              "      <td>3</td>\n",
              "      <td>18th century</td>\n",
              "    </tr>\n",
              "    <tr>\n",
              "      <th>3</th>\n",
              "      <td>4</td>\n",
              "      <td>1920s</td>\n",
              "    </tr>\n",
              "    <tr>\n",
              "      <th>4</th>\n",
              "      <td>5</td>\n",
              "      <td>1930s</td>\n",
              "    </tr>\n",
              "    <tr>\n",
              "      <th>5</th>\n",
              "      <td>6</td>\n",
              "      <td>1950s</td>\n",
              "    </tr>\n",
              "    <tr>\n",
              "      <th>6</th>\n",
              "      <td>7</td>\n",
              "      <td>1960s</td>\n",
              "    </tr>\n",
              "    <tr>\n",
              "      <th>7</th>\n",
              "      <td>8</td>\n",
              "      <td>1970s</td>\n",
              "    </tr>\n",
              "    <tr>\n",
              "      <th>8</th>\n",
              "      <td>9</td>\n",
              "      <td>1980s</td>\n",
              "    </tr>\n",
              "    <tr>\n",
              "      <th>9</th>\n",
              "      <td>10</td>\n",
              "      <td>19th century</td>\n",
              "    </tr>\n",
              "  </tbody>\n",
              "</table>\n",
              "</div>"
            ],
            "text/plain": [
              "   tagId           tag\n",
              "0      1           007\n",
              "1      2  007 (series)\n",
              "2      3  18th century\n",
              "3      4         1920s\n",
              "4      5         1930s\n",
              "5      6         1950s\n",
              "6      7         1960s\n",
              "7      8         1970s\n",
              "8      9         1980s\n",
              "9     10  19th century"
            ]
          },
          "metadata": {
            "tags": []
          },
          "execution_count": 10
        }
      ]
    },
    {
      "cell_type": "markdown",
      "metadata": {
        "colab_type": "text",
        "id": "R8xKBNzj9oIK"
      },
      "source": [
        "# 4. Merge Datasets"
      ]
    },
    {
      "cell_type": "code",
      "metadata": {
        "id": "tGuHzsj51QfO",
        "colab_type": "code",
        "colab": {}
      },
      "source": [
        "movies['movieId'] = movies['movieId'].astype('int')\n",
        "tags['movieId'] = tags['movieId'].astype('int')\n",
        "ratings['movieId'] = ratings['movieId'].astype('int')\n",
        "tags['userId'] = tags['userId'].astype('int')\n",
        "ratings['userId'] = ratings['userId'].astype('int')"
      ],
      "execution_count": 0,
      "outputs": []
    },
    {
      "cell_type": "code",
      "metadata": {
        "id": "0iyowhbs1q4r",
        "colab_type": "code",
        "colab": {}
      },
      "source": [
        "data = []\n",
        "data = ratings.merge(movies, on='movieId')"
      ],
      "execution_count": 0,
      "outputs": []
    },
    {
      "cell_type": "code",
      "metadata": {
        "id": "wFeBsApG6szY",
        "colab_type": "code",
        "outputId": "ce791447-f5fd-4e9e-bdfc-27f42db2b5e6",
        "colab": {
          "base_uri": "https://localhost:8080/",
          "height": 34
        }
      },
      "source": [
        "data.shape"
      ],
      "execution_count": 0,
      "outputs": [
        {
          "output_type": "execute_result",
          "data": {
            "text/plain": [
              "(20000263, 6)"
            ]
          },
          "metadata": {
            "tags": []
          },
          "execution_count": 11
        }
      ]
    },
    {
      "cell_type": "code",
      "metadata": {
        "id": "tyFu_F142B-V",
        "colab_type": "code",
        "outputId": "92880bc7-fdd0-46e4-f822-46add6f42a44",
        "colab": {
          "base_uri": "https://localhost:8080/",
          "height": 359
        }
      },
      "source": [
        "data.head(10)"
      ],
      "execution_count": 0,
      "outputs": [
        {
          "output_type": "execute_result",
          "data": {
            "text/html": [
              "<div>\n",
              "<style scoped>\n",
              "    .dataframe tbody tr th:only-of-type {\n",
              "        vertical-align: middle;\n",
              "    }\n",
              "\n",
              "    .dataframe tbody tr th {\n",
              "        vertical-align: top;\n",
              "    }\n",
              "\n",
              "    .dataframe thead th {\n",
              "        text-align: right;\n",
              "    }\n",
              "</style>\n",
              "<table border=\"1\" class=\"dataframe\">\n",
              "  <thead>\n",
              "    <tr style=\"text-align: right;\">\n",
              "      <th></th>\n",
              "      <th>userId</th>\n",
              "      <th>movieId</th>\n",
              "      <th>rating</th>\n",
              "      <th>timestamp</th>\n",
              "      <th>title</th>\n",
              "      <th>genres</th>\n",
              "    </tr>\n",
              "  </thead>\n",
              "  <tbody>\n",
              "    <tr>\n",
              "      <th>0</th>\n",
              "      <td>1</td>\n",
              "      <td>2</td>\n",
              "      <td>3.5</td>\n",
              "      <td>1112486027</td>\n",
              "      <td>Jumanji (1995)</td>\n",
              "      <td>Adventure|Children|Fantasy</td>\n",
              "    </tr>\n",
              "    <tr>\n",
              "      <th>1</th>\n",
              "      <td>5</td>\n",
              "      <td>2</td>\n",
              "      <td>3.0</td>\n",
              "      <td>851527569</td>\n",
              "      <td>Jumanji (1995)</td>\n",
              "      <td>Adventure|Children|Fantasy</td>\n",
              "    </tr>\n",
              "    <tr>\n",
              "      <th>2</th>\n",
              "      <td>13</td>\n",
              "      <td>2</td>\n",
              "      <td>3.0</td>\n",
              "      <td>849082742</td>\n",
              "      <td>Jumanji (1995)</td>\n",
              "      <td>Adventure|Children|Fantasy</td>\n",
              "    </tr>\n",
              "    <tr>\n",
              "      <th>3</th>\n",
              "      <td>29</td>\n",
              "      <td>2</td>\n",
              "      <td>3.0</td>\n",
              "      <td>835562174</td>\n",
              "      <td>Jumanji (1995)</td>\n",
              "      <td>Adventure|Children|Fantasy</td>\n",
              "    </tr>\n",
              "    <tr>\n",
              "      <th>4</th>\n",
              "      <td>34</td>\n",
              "      <td>2</td>\n",
              "      <td>3.0</td>\n",
              "      <td>846509384</td>\n",
              "      <td>Jumanji (1995)</td>\n",
              "      <td>Adventure|Children|Fantasy</td>\n",
              "    </tr>\n",
              "    <tr>\n",
              "      <th>5</th>\n",
              "      <td>54</td>\n",
              "      <td>2</td>\n",
              "      <td>3.0</td>\n",
              "      <td>974918176</td>\n",
              "      <td>Jumanji (1995)</td>\n",
              "      <td>Adventure|Children|Fantasy</td>\n",
              "    </tr>\n",
              "    <tr>\n",
              "      <th>6</th>\n",
              "      <td>88</td>\n",
              "      <td>2</td>\n",
              "      <td>1.0</td>\n",
              "      <td>1098277938</td>\n",
              "      <td>Jumanji (1995)</td>\n",
              "      <td>Adventure|Children|Fantasy</td>\n",
              "    </tr>\n",
              "    <tr>\n",
              "      <th>7</th>\n",
              "      <td>91</td>\n",
              "      <td>2</td>\n",
              "      <td>3.5</td>\n",
              "      <td>1112061358</td>\n",
              "      <td>Jumanji (1995)</td>\n",
              "      <td>Adventure|Children|Fantasy</td>\n",
              "    </tr>\n",
              "    <tr>\n",
              "      <th>8</th>\n",
              "      <td>116</td>\n",
              "      <td>2</td>\n",
              "      <td>2.0</td>\n",
              "      <td>1132728068</td>\n",
              "      <td>Jumanji (1995)</td>\n",
              "      <td>Adventure|Children|Fantasy</td>\n",
              "    </tr>\n",
              "    <tr>\n",
              "      <th>9</th>\n",
              "      <td>119</td>\n",
              "      <td>2</td>\n",
              "      <td>4.0</td>\n",
              "      <td>845110667</td>\n",
              "      <td>Jumanji (1995)</td>\n",
              "      <td>Adventure|Children|Fantasy</td>\n",
              "    </tr>\n",
              "  </tbody>\n",
              "</table>\n",
              "</div>"
            ],
            "text/plain": [
              "   userId  movieId  ...           title                      genres\n",
              "0       1        2  ...  Jumanji (1995)  Adventure|Children|Fantasy\n",
              "1       5        2  ...  Jumanji (1995)  Adventure|Children|Fantasy\n",
              "2      13        2  ...  Jumanji (1995)  Adventure|Children|Fantasy\n",
              "3      29        2  ...  Jumanji (1995)  Adventure|Children|Fantasy\n",
              "4      34        2  ...  Jumanji (1995)  Adventure|Children|Fantasy\n",
              "5      54        2  ...  Jumanji (1995)  Adventure|Children|Fantasy\n",
              "6      88        2  ...  Jumanji (1995)  Adventure|Children|Fantasy\n",
              "7      91        2  ...  Jumanji (1995)  Adventure|Children|Fantasy\n",
              "8     116        2  ...  Jumanji (1995)  Adventure|Children|Fantasy\n",
              "9     119        2  ...  Jumanji (1995)  Adventure|Children|Fantasy\n",
              "\n",
              "[10 rows x 6 columns]"
            ]
          },
          "metadata": {
            "tags": []
          },
          "execution_count": 12
        }
      ]
    },
    {
      "cell_type": "code",
      "metadata": {
        "id": "QS8CYdo54DMO",
        "colab_type": "code",
        "colab": {}
      },
      "source": [
        "data = data.combine_first(tags)"
      ],
      "execution_count": 0,
      "outputs": []
    },
    {
      "cell_type": "code",
      "metadata": {
        "id": "UuPvS0Dy4zj2",
        "colab_type": "code",
        "outputId": "d9f1a828-92d6-4a31-95ba-0e561f6f4206",
        "colab": {
          "base_uri": "https://localhost:8080/",
          "height": 359
        }
      },
      "source": [
        "data.head(10)"
      ],
      "execution_count": 0,
      "outputs": [
        {
          "output_type": "execute_result",
          "data": {
            "text/html": [
              "<div>\n",
              "<style scoped>\n",
              "    .dataframe tbody tr th:only-of-type {\n",
              "        vertical-align: middle;\n",
              "    }\n",
              "\n",
              "    .dataframe tbody tr th {\n",
              "        vertical-align: top;\n",
              "    }\n",
              "\n",
              "    .dataframe thead th {\n",
              "        text-align: right;\n",
              "    }\n",
              "</style>\n",
              "<table border=\"1\" class=\"dataframe\">\n",
              "  <thead>\n",
              "    <tr style=\"text-align: right;\">\n",
              "      <th></th>\n",
              "      <th>genres</th>\n",
              "      <th>movieId</th>\n",
              "      <th>rating</th>\n",
              "      <th>tag</th>\n",
              "      <th>timestamp</th>\n",
              "      <th>title</th>\n",
              "      <th>userId</th>\n",
              "    </tr>\n",
              "  </thead>\n",
              "  <tbody>\n",
              "    <tr>\n",
              "      <th>0</th>\n",
              "      <td>Adventure|Children|Fantasy</td>\n",
              "      <td>2</td>\n",
              "      <td>3.5</td>\n",
              "      <td>Mark Waters</td>\n",
              "      <td>1112486027</td>\n",
              "      <td>Jumanji (1995)</td>\n",
              "      <td>1</td>\n",
              "    </tr>\n",
              "    <tr>\n",
              "      <th>1</th>\n",
              "      <td>Adventure|Children|Fantasy</td>\n",
              "      <td>2</td>\n",
              "      <td>3.0</td>\n",
              "      <td>dark hero</td>\n",
              "      <td>851527569</td>\n",
              "      <td>Jumanji (1995)</td>\n",
              "      <td>5</td>\n",
              "    </tr>\n",
              "    <tr>\n",
              "      <th>2</th>\n",
              "      <td>Adventure|Children|Fantasy</td>\n",
              "      <td>2</td>\n",
              "      <td>3.0</td>\n",
              "      <td>dark hero</td>\n",
              "      <td>849082742</td>\n",
              "      <td>Jumanji (1995)</td>\n",
              "      <td>13</td>\n",
              "    </tr>\n",
              "    <tr>\n",
              "      <th>3</th>\n",
              "      <td>Adventure|Children|Fantasy</td>\n",
              "      <td>2</td>\n",
              "      <td>3.0</td>\n",
              "      <td>noir thriller</td>\n",
              "      <td>835562174</td>\n",
              "      <td>Jumanji (1995)</td>\n",
              "      <td>29</td>\n",
              "    </tr>\n",
              "    <tr>\n",
              "      <th>4</th>\n",
              "      <td>Adventure|Children|Fantasy</td>\n",
              "      <td>2</td>\n",
              "      <td>3.0</td>\n",
              "      <td>dark hero</td>\n",
              "      <td>846509384</td>\n",
              "      <td>Jumanji (1995)</td>\n",
              "      <td>34</td>\n",
              "    </tr>\n",
              "    <tr>\n",
              "      <th>5</th>\n",
              "      <td>Adventure|Children|Fantasy</td>\n",
              "      <td>2</td>\n",
              "      <td>3.0</td>\n",
              "      <td>bollywood</td>\n",
              "      <td>974918176</td>\n",
              "      <td>Jumanji (1995)</td>\n",
              "      <td>54</td>\n",
              "    </tr>\n",
              "    <tr>\n",
              "      <th>6</th>\n",
              "      <td>Adventure|Children|Fantasy</td>\n",
              "      <td>2</td>\n",
              "      <td>1.0</td>\n",
              "      <td>screwball comedy</td>\n",
              "      <td>1098277938</td>\n",
              "      <td>Jumanji (1995)</td>\n",
              "      <td>88</td>\n",
              "    </tr>\n",
              "    <tr>\n",
              "      <th>7</th>\n",
              "      <td>Adventure|Children|Fantasy</td>\n",
              "      <td>2</td>\n",
              "      <td>3.5</td>\n",
              "      <td>noir thriller</td>\n",
              "      <td>1112061358</td>\n",
              "      <td>Jumanji (1995)</td>\n",
              "      <td>91</td>\n",
              "    </tr>\n",
              "    <tr>\n",
              "      <th>8</th>\n",
              "      <td>Adventure|Children|Fantasy</td>\n",
              "      <td>2</td>\n",
              "      <td>2.0</td>\n",
              "      <td>mars</td>\n",
              "      <td>1132728068</td>\n",
              "      <td>Jumanji (1995)</td>\n",
              "      <td>116</td>\n",
              "    </tr>\n",
              "    <tr>\n",
              "      <th>9</th>\n",
              "      <td>Adventure|Children|Fantasy</td>\n",
              "      <td>2</td>\n",
              "      <td>4.0</td>\n",
              "      <td>neo-noir</td>\n",
              "      <td>845110667</td>\n",
              "      <td>Jumanji (1995)</td>\n",
              "      <td>119</td>\n",
              "    </tr>\n",
              "  </tbody>\n",
              "</table>\n",
              "</div>"
            ],
            "text/plain": [
              "                       genres  movieId  ...           title userId\n",
              "0  Adventure|Children|Fantasy        2  ...  Jumanji (1995)      1\n",
              "1  Adventure|Children|Fantasy        2  ...  Jumanji (1995)      5\n",
              "2  Adventure|Children|Fantasy        2  ...  Jumanji (1995)     13\n",
              "3  Adventure|Children|Fantasy        2  ...  Jumanji (1995)     29\n",
              "4  Adventure|Children|Fantasy        2  ...  Jumanji (1995)     34\n",
              "5  Adventure|Children|Fantasy        2  ...  Jumanji (1995)     54\n",
              "6  Adventure|Children|Fantasy        2  ...  Jumanji (1995)     88\n",
              "7  Adventure|Children|Fantasy        2  ...  Jumanji (1995)     91\n",
              "8  Adventure|Children|Fantasy        2  ...  Jumanji (1995)    116\n",
              "9  Adventure|Children|Fantasy        2  ...  Jumanji (1995)    119\n",
              "\n",
              "[10 rows x 7 columns]"
            ]
          },
          "metadata": {
            "tags": []
          },
          "execution_count": 14
        }
      ]
    },
    {
      "cell_type": "code",
      "metadata": {
        "id": "iwXAwWDy89Ga",
        "colab_type": "code",
        "colab": {}
      },
      "source": [
        "data = data[['userId', 'movieId', 'rating', 'title', 'genres', 'tag', 'timestamp']]"
      ],
      "execution_count": 0,
      "outputs": []
    },
    {
      "cell_type": "code",
      "metadata": {
        "colab_type": "code",
        "outputId": "fad42d4e-2600-490d-b3d0-edc70e4b7b80",
        "id": "E5bvedOa9YXv",
        "colab": {
          "base_uri": "https://localhost:8080/",
          "height": 359
        }
      },
      "source": [
        "data.head(10)"
      ],
      "execution_count": 14,
      "outputs": [
        {
          "output_type": "execute_result",
          "data": {
            "text/html": [
              "<div>\n",
              "<style scoped>\n",
              "    .dataframe tbody tr th:only-of-type {\n",
              "        vertical-align: middle;\n",
              "    }\n",
              "\n",
              "    .dataframe tbody tr th {\n",
              "        vertical-align: top;\n",
              "    }\n",
              "\n",
              "    .dataframe thead th {\n",
              "        text-align: right;\n",
              "    }\n",
              "</style>\n",
              "<table border=\"1\" class=\"dataframe\">\n",
              "  <thead>\n",
              "    <tr style=\"text-align: right;\">\n",
              "      <th></th>\n",
              "      <th>userId</th>\n",
              "      <th>movieId</th>\n",
              "      <th>rating</th>\n",
              "      <th>title</th>\n",
              "      <th>genres</th>\n",
              "      <th>tag</th>\n",
              "      <th>timestamp</th>\n",
              "    </tr>\n",
              "  </thead>\n",
              "  <tbody>\n",
              "    <tr>\n",
              "      <th>0</th>\n",
              "      <td>1</td>\n",
              "      <td>2</td>\n",
              "      <td>3.5</td>\n",
              "      <td>Jumanji (1995)</td>\n",
              "      <td>Adventure|Children|Fantasy</td>\n",
              "      <td>Mark Waters</td>\n",
              "      <td>1112486027</td>\n",
              "    </tr>\n",
              "    <tr>\n",
              "      <th>1</th>\n",
              "      <td>5</td>\n",
              "      <td>2</td>\n",
              "      <td>3.0</td>\n",
              "      <td>Jumanji (1995)</td>\n",
              "      <td>Adventure|Children|Fantasy</td>\n",
              "      <td>dark hero</td>\n",
              "      <td>851527569</td>\n",
              "    </tr>\n",
              "    <tr>\n",
              "      <th>2</th>\n",
              "      <td>13</td>\n",
              "      <td>2</td>\n",
              "      <td>3.0</td>\n",
              "      <td>Jumanji (1995)</td>\n",
              "      <td>Adventure|Children|Fantasy</td>\n",
              "      <td>dark hero</td>\n",
              "      <td>849082742</td>\n",
              "    </tr>\n",
              "    <tr>\n",
              "      <th>3</th>\n",
              "      <td>29</td>\n",
              "      <td>2</td>\n",
              "      <td>3.0</td>\n",
              "      <td>Jumanji (1995)</td>\n",
              "      <td>Adventure|Children|Fantasy</td>\n",
              "      <td>noir thriller</td>\n",
              "      <td>835562174</td>\n",
              "    </tr>\n",
              "    <tr>\n",
              "      <th>4</th>\n",
              "      <td>34</td>\n",
              "      <td>2</td>\n",
              "      <td>3.0</td>\n",
              "      <td>Jumanji (1995)</td>\n",
              "      <td>Adventure|Children|Fantasy</td>\n",
              "      <td>dark hero</td>\n",
              "      <td>846509384</td>\n",
              "    </tr>\n",
              "    <tr>\n",
              "      <th>5</th>\n",
              "      <td>54</td>\n",
              "      <td>2</td>\n",
              "      <td>3.0</td>\n",
              "      <td>Jumanji (1995)</td>\n",
              "      <td>Adventure|Children|Fantasy</td>\n",
              "      <td>bollywood</td>\n",
              "      <td>974918176</td>\n",
              "    </tr>\n",
              "    <tr>\n",
              "      <th>6</th>\n",
              "      <td>88</td>\n",
              "      <td>2</td>\n",
              "      <td>1.0</td>\n",
              "      <td>Jumanji (1995)</td>\n",
              "      <td>Adventure|Children|Fantasy</td>\n",
              "      <td>screwball comedy</td>\n",
              "      <td>1098277938</td>\n",
              "    </tr>\n",
              "    <tr>\n",
              "      <th>7</th>\n",
              "      <td>91</td>\n",
              "      <td>2</td>\n",
              "      <td>3.5</td>\n",
              "      <td>Jumanji (1995)</td>\n",
              "      <td>Adventure|Children|Fantasy</td>\n",
              "      <td>noir thriller</td>\n",
              "      <td>1112061358</td>\n",
              "    </tr>\n",
              "    <tr>\n",
              "      <th>8</th>\n",
              "      <td>116</td>\n",
              "      <td>2</td>\n",
              "      <td>2.0</td>\n",
              "      <td>Jumanji (1995)</td>\n",
              "      <td>Adventure|Children|Fantasy</td>\n",
              "      <td>mars</td>\n",
              "      <td>1132728068</td>\n",
              "    </tr>\n",
              "    <tr>\n",
              "      <th>9</th>\n",
              "      <td>119</td>\n",
              "      <td>2</td>\n",
              "      <td>4.0</td>\n",
              "      <td>Jumanji (1995)</td>\n",
              "      <td>Adventure|Children|Fantasy</td>\n",
              "      <td>neo-noir</td>\n",
              "      <td>845110667</td>\n",
              "    </tr>\n",
              "  </tbody>\n",
              "</table>\n",
              "</div>"
            ],
            "text/plain": [
              "   userId  movieId  ...               tag   timestamp\n",
              "0       1        2  ...       Mark Waters  1112486027\n",
              "1       5        2  ...         dark hero   851527569\n",
              "2      13        2  ...         dark hero   849082742\n",
              "3      29        2  ...     noir thriller   835562174\n",
              "4      34        2  ...         dark hero   846509384\n",
              "5      54        2  ...         bollywood   974918176\n",
              "6      88        2  ...  screwball comedy  1098277938\n",
              "7      91        2  ...     noir thriller  1112061358\n",
              "8     116        2  ...              mars  1132728068\n",
              "9     119        2  ...          neo-noir   845110667\n",
              "\n",
              "[10 rows x 7 columns]"
            ]
          },
          "metadata": {
            "tags": []
          },
          "execution_count": 14
        }
      ]
    },
    {
      "cell_type": "code",
      "metadata": {
        "id": "f6P-K1CQ6GXZ",
        "colab_type": "code",
        "outputId": "667ab8ed-c3a2-4e99-9c95-ca2cf939bfe0",
        "colab": {
          "base_uri": "https://localhost:8080/",
          "height": 34
        }
      },
      "source": [
        "data.shape"
      ],
      "execution_count": 0,
      "outputs": [
        {
          "output_type": "execute_result",
          "data": {
            "text/plain": [
              "(20000263, 7)"
            ]
          },
          "metadata": {
            "tags": []
          },
          "execution_count": 17
        }
      ]
    },
    {
      "cell_type": "code",
      "metadata": {
        "id": "bjxG9jDq9_Mf",
        "colab_type": "code",
        "outputId": "4bbabe17-ff4c-46f5-c819-517283e2629c",
        "colab": {
          "base_uri": "https://localhost:8080/",
          "height": 153
        }
      },
      "source": [
        "data.isnull().sum()"
      ],
      "execution_count": 0,
      "outputs": [
        {
          "output_type": "execute_result",
          "data": {
            "text/plain": [
              "userId              0\n",
              "movieId             0\n",
              "rating              0\n",
              "title               0\n",
              "genres              0\n",
              "tag          19534715\n",
              "timestamp           0\n",
              "dtype: int64"
            ]
          },
          "metadata": {
            "tags": []
          },
          "execution_count": 18
        }
      ]
    },
    {
      "cell_type": "code",
      "metadata": {
        "colab_type": "code",
        "id": "VTY6hZUO9EaQ",
        "colab": {}
      },
      "source": [
        "data.to_csv('data.csv', index=False)"
      ],
      "execution_count": 0,
      "outputs": []
    },
    {
      "cell_type": "code",
      "metadata": {
        "colab_type": "code",
        "outputId": "4f4de841-8143-40e2-85a6-d7efdac0d380",
        "id": "Kvwr1B2I9Eaa",
        "colab": {
          "base_uri": "https://localhost:8080/",
          "height": 359
        }
      },
      "source": [
        "data = pd.read_csv('data.csv', low_memory=False)\n",
        "data.head(10)"
      ],
      "execution_count": 0,
      "outputs": [
        {
          "output_type": "execute_result",
          "data": {
            "text/html": [
              "<div>\n",
              "<style scoped>\n",
              "    .dataframe tbody tr th:only-of-type {\n",
              "        vertical-align: middle;\n",
              "    }\n",
              "\n",
              "    .dataframe tbody tr th {\n",
              "        vertical-align: top;\n",
              "    }\n",
              "\n",
              "    .dataframe thead th {\n",
              "        text-align: right;\n",
              "    }\n",
              "</style>\n",
              "<table border=\"1\" class=\"dataframe\">\n",
              "  <thead>\n",
              "    <tr style=\"text-align: right;\">\n",
              "      <th></th>\n",
              "      <th>userId</th>\n",
              "      <th>movieId</th>\n",
              "      <th>rating</th>\n",
              "      <th>title</th>\n",
              "      <th>genres</th>\n",
              "      <th>tag</th>\n",
              "      <th>timestamp</th>\n",
              "    </tr>\n",
              "  </thead>\n",
              "  <tbody>\n",
              "    <tr>\n",
              "      <th>0</th>\n",
              "      <td>1</td>\n",
              "      <td>2</td>\n",
              "      <td>3.5</td>\n",
              "      <td>Jumanji (1995)</td>\n",
              "      <td>Adventure|Children|Fantasy</td>\n",
              "      <td>Mark Waters</td>\n",
              "      <td>1112486027</td>\n",
              "    </tr>\n",
              "    <tr>\n",
              "      <th>1</th>\n",
              "      <td>5</td>\n",
              "      <td>2</td>\n",
              "      <td>3.0</td>\n",
              "      <td>Jumanji (1995)</td>\n",
              "      <td>Adventure|Children|Fantasy</td>\n",
              "      <td>dark hero</td>\n",
              "      <td>851527569</td>\n",
              "    </tr>\n",
              "    <tr>\n",
              "      <th>2</th>\n",
              "      <td>13</td>\n",
              "      <td>2</td>\n",
              "      <td>3.0</td>\n",
              "      <td>Jumanji (1995)</td>\n",
              "      <td>Adventure|Children|Fantasy</td>\n",
              "      <td>dark hero</td>\n",
              "      <td>849082742</td>\n",
              "    </tr>\n",
              "    <tr>\n",
              "      <th>3</th>\n",
              "      <td>29</td>\n",
              "      <td>2</td>\n",
              "      <td>3.0</td>\n",
              "      <td>Jumanji (1995)</td>\n",
              "      <td>Adventure|Children|Fantasy</td>\n",
              "      <td>noir thriller</td>\n",
              "      <td>835562174</td>\n",
              "    </tr>\n",
              "    <tr>\n",
              "      <th>4</th>\n",
              "      <td>34</td>\n",
              "      <td>2</td>\n",
              "      <td>3.0</td>\n",
              "      <td>Jumanji (1995)</td>\n",
              "      <td>Adventure|Children|Fantasy</td>\n",
              "      <td>dark hero</td>\n",
              "      <td>846509384</td>\n",
              "    </tr>\n",
              "    <tr>\n",
              "      <th>5</th>\n",
              "      <td>54</td>\n",
              "      <td>2</td>\n",
              "      <td>3.0</td>\n",
              "      <td>Jumanji (1995)</td>\n",
              "      <td>Adventure|Children|Fantasy</td>\n",
              "      <td>bollywood</td>\n",
              "      <td>974918176</td>\n",
              "    </tr>\n",
              "    <tr>\n",
              "      <th>6</th>\n",
              "      <td>88</td>\n",
              "      <td>2</td>\n",
              "      <td>1.0</td>\n",
              "      <td>Jumanji (1995)</td>\n",
              "      <td>Adventure|Children|Fantasy</td>\n",
              "      <td>screwball comedy</td>\n",
              "      <td>1098277938</td>\n",
              "    </tr>\n",
              "    <tr>\n",
              "      <th>7</th>\n",
              "      <td>91</td>\n",
              "      <td>2</td>\n",
              "      <td>3.5</td>\n",
              "      <td>Jumanji (1995)</td>\n",
              "      <td>Adventure|Children|Fantasy</td>\n",
              "      <td>noir thriller</td>\n",
              "      <td>1112061358</td>\n",
              "    </tr>\n",
              "    <tr>\n",
              "      <th>8</th>\n",
              "      <td>116</td>\n",
              "      <td>2</td>\n",
              "      <td>2.0</td>\n",
              "      <td>Jumanji (1995)</td>\n",
              "      <td>Adventure|Children|Fantasy</td>\n",
              "      <td>mars</td>\n",
              "      <td>1132728068</td>\n",
              "    </tr>\n",
              "    <tr>\n",
              "      <th>9</th>\n",
              "      <td>119</td>\n",
              "      <td>2</td>\n",
              "      <td>4.0</td>\n",
              "      <td>Jumanji (1995)</td>\n",
              "      <td>Adventure|Children|Fantasy</td>\n",
              "      <td>neo-noir</td>\n",
              "      <td>845110667</td>\n",
              "    </tr>\n",
              "  </tbody>\n",
              "</table>\n",
              "</div>"
            ],
            "text/plain": [
              "   userId  movieId  ...               tag   timestamp\n",
              "0       1        2  ...       Mark Waters  1112486027\n",
              "1       5        2  ...         dark hero   851527569\n",
              "2      13        2  ...         dark hero   849082742\n",
              "3      29        2  ...     noir thriller   835562174\n",
              "4      34        2  ...         dark hero   846509384\n",
              "5      54        2  ...         bollywood   974918176\n",
              "6      88        2  ...  screwball comedy  1098277938\n",
              "7      91        2  ...     noir thriller  1112061358\n",
              "8     116        2  ...              mars  1132728068\n",
              "9     119        2  ...          neo-noir   845110667\n",
              "\n",
              "[10 rows x 7 columns]"
            ]
          },
          "metadata": {
            "tags": []
          },
          "execution_count": 5
        }
      ]
    },
    {
      "cell_type": "markdown",
      "metadata": {
        "id": "n06_sjp5uY1U",
        "colab_type": "text"
      },
      "source": [
        "#5. Data Exploration"
      ]
    },
    {
      "cell_type": "code",
      "metadata": {
        "colab_type": "code",
        "id": "znjWFUadDqiX",
        "colab": {}
      },
      "source": [
        "links = pd.read_csv('links.csv', low_memory=False)"
      ],
      "execution_count": 0,
      "outputs": []
    },
    {
      "cell_type": "code",
      "metadata": {
        "colab_type": "code",
        "id": "ce7jFNEz54Ns",
        "colab": {}
      },
      "source": [
        "data['movieId'] = data['movieId'].astype('int')\n",
        "links['movieId'] = links['movieId'].astype('int')"
      ],
      "execution_count": 0,
      "outputs": []
    },
    {
      "cell_type": "code",
      "metadata": {
        "colab_type": "code",
        "id": "xmj5j_e854N2",
        "colab": {}
      },
      "source": [
        "fulldata = []\n",
        "fulldata = data.merge(links, on='movieId')"
      ],
      "execution_count": 0,
      "outputs": []
    },
    {
      "cell_type": "code",
      "metadata": {
        "colab_type": "code",
        "outputId": "ca49528c-8021-47bd-944f-deaf8660b015",
        "id": "Kvwby_EM7I-Z",
        "colab": {
          "base_uri": "https://localhost:8080/",
          "height": 359
        }
      },
      "source": [
        "fulldata.head(10)"
      ],
      "execution_count": 0,
      "outputs": [
        {
          "output_type": "execute_result",
          "data": {
            "text/html": [
              "<div>\n",
              "<style scoped>\n",
              "    .dataframe tbody tr th:only-of-type {\n",
              "        vertical-align: middle;\n",
              "    }\n",
              "\n",
              "    .dataframe tbody tr th {\n",
              "        vertical-align: top;\n",
              "    }\n",
              "\n",
              "    .dataframe thead th {\n",
              "        text-align: right;\n",
              "    }\n",
              "</style>\n",
              "<table border=\"1\" class=\"dataframe\">\n",
              "  <thead>\n",
              "    <tr style=\"text-align: right;\">\n",
              "      <th></th>\n",
              "      <th>userId</th>\n",
              "      <th>movieId</th>\n",
              "      <th>rating</th>\n",
              "      <th>title</th>\n",
              "      <th>genres</th>\n",
              "      <th>tag</th>\n",
              "      <th>timestamp</th>\n",
              "      <th>imdbId</th>\n",
              "      <th>tmdbId</th>\n",
              "    </tr>\n",
              "  </thead>\n",
              "  <tbody>\n",
              "    <tr>\n",
              "      <th>0</th>\n",
              "      <td>1</td>\n",
              "      <td>2</td>\n",
              "      <td>3.5</td>\n",
              "      <td>Jumanji (1995)</td>\n",
              "      <td>Adventure|Children|Fantasy</td>\n",
              "      <td>Mark Waters</td>\n",
              "      <td>1112486027</td>\n",
              "      <td>113497</td>\n",
              "      <td>8844.0</td>\n",
              "    </tr>\n",
              "    <tr>\n",
              "      <th>1</th>\n",
              "      <td>5</td>\n",
              "      <td>2</td>\n",
              "      <td>3.0</td>\n",
              "      <td>Jumanji (1995)</td>\n",
              "      <td>Adventure|Children|Fantasy</td>\n",
              "      <td>dark hero</td>\n",
              "      <td>851527569</td>\n",
              "      <td>113497</td>\n",
              "      <td>8844.0</td>\n",
              "    </tr>\n",
              "    <tr>\n",
              "      <th>2</th>\n",
              "      <td>13</td>\n",
              "      <td>2</td>\n",
              "      <td>3.0</td>\n",
              "      <td>Jumanji (1995)</td>\n",
              "      <td>Adventure|Children|Fantasy</td>\n",
              "      <td>dark hero</td>\n",
              "      <td>849082742</td>\n",
              "      <td>113497</td>\n",
              "      <td>8844.0</td>\n",
              "    </tr>\n",
              "    <tr>\n",
              "      <th>3</th>\n",
              "      <td>29</td>\n",
              "      <td>2</td>\n",
              "      <td>3.0</td>\n",
              "      <td>Jumanji (1995)</td>\n",
              "      <td>Adventure|Children|Fantasy</td>\n",
              "      <td>noir thriller</td>\n",
              "      <td>835562174</td>\n",
              "      <td>113497</td>\n",
              "      <td>8844.0</td>\n",
              "    </tr>\n",
              "    <tr>\n",
              "      <th>4</th>\n",
              "      <td>34</td>\n",
              "      <td>2</td>\n",
              "      <td>3.0</td>\n",
              "      <td>Jumanji (1995)</td>\n",
              "      <td>Adventure|Children|Fantasy</td>\n",
              "      <td>dark hero</td>\n",
              "      <td>846509384</td>\n",
              "      <td>113497</td>\n",
              "      <td>8844.0</td>\n",
              "    </tr>\n",
              "    <tr>\n",
              "      <th>5</th>\n",
              "      <td>54</td>\n",
              "      <td>2</td>\n",
              "      <td>3.0</td>\n",
              "      <td>Jumanji (1995)</td>\n",
              "      <td>Adventure|Children|Fantasy</td>\n",
              "      <td>bollywood</td>\n",
              "      <td>974918176</td>\n",
              "      <td>113497</td>\n",
              "      <td>8844.0</td>\n",
              "    </tr>\n",
              "    <tr>\n",
              "      <th>6</th>\n",
              "      <td>88</td>\n",
              "      <td>2</td>\n",
              "      <td>1.0</td>\n",
              "      <td>Jumanji (1995)</td>\n",
              "      <td>Adventure|Children|Fantasy</td>\n",
              "      <td>screwball comedy</td>\n",
              "      <td>1098277938</td>\n",
              "      <td>113497</td>\n",
              "      <td>8844.0</td>\n",
              "    </tr>\n",
              "    <tr>\n",
              "      <th>7</th>\n",
              "      <td>91</td>\n",
              "      <td>2</td>\n",
              "      <td>3.5</td>\n",
              "      <td>Jumanji (1995)</td>\n",
              "      <td>Adventure|Children|Fantasy</td>\n",
              "      <td>noir thriller</td>\n",
              "      <td>1112061358</td>\n",
              "      <td>113497</td>\n",
              "      <td>8844.0</td>\n",
              "    </tr>\n",
              "    <tr>\n",
              "      <th>8</th>\n",
              "      <td>116</td>\n",
              "      <td>2</td>\n",
              "      <td>2.0</td>\n",
              "      <td>Jumanji (1995)</td>\n",
              "      <td>Adventure|Children|Fantasy</td>\n",
              "      <td>mars</td>\n",
              "      <td>1132728068</td>\n",
              "      <td>113497</td>\n",
              "      <td>8844.0</td>\n",
              "    </tr>\n",
              "    <tr>\n",
              "      <th>9</th>\n",
              "      <td>119</td>\n",
              "      <td>2</td>\n",
              "      <td>4.0</td>\n",
              "      <td>Jumanji (1995)</td>\n",
              "      <td>Adventure|Children|Fantasy</td>\n",
              "      <td>neo-noir</td>\n",
              "      <td>845110667</td>\n",
              "      <td>113497</td>\n",
              "      <td>8844.0</td>\n",
              "    </tr>\n",
              "  </tbody>\n",
              "</table>\n",
              "</div>"
            ],
            "text/plain": [
              "   userId  movieId  rating  ...   timestamp  imdbId  tmdbId\n",
              "0       1        2     3.5  ...  1112486027  113497  8844.0\n",
              "1       5        2     3.0  ...   851527569  113497  8844.0\n",
              "2      13        2     3.0  ...   849082742  113497  8844.0\n",
              "3      29        2     3.0  ...   835562174  113497  8844.0\n",
              "4      34        2     3.0  ...   846509384  113497  8844.0\n",
              "5      54        2     3.0  ...   974918176  113497  8844.0\n",
              "6      88        2     1.0  ...  1098277938  113497  8844.0\n",
              "7      91        2     3.5  ...  1112061358  113497  8844.0\n",
              "8     116        2     2.0  ...  1132728068  113497  8844.0\n",
              "9     119        2     4.0  ...   845110667  113497  8844.0\n",
              "\n",
              "[10 rows x 9 columns]"
            ]
          },
          "metadata": {
            "tags": []
          },
          "execution_count": 17
        }
      ]
    },
    {
      "cell_type": "code",
      "metadata": {
        "id": "FWDva-XPFw3L",
        "colab_type": "code",
        "colab": {}
      },
      "source": [
        "fulldata = []\n",
        "fulldata = gtags.merge(links, on='movieId')"
      ],
      "execution_count": 0,
      "outputs": []
    },
    {
      "cell_type": "code",
      "metadata": {
        "id": "ig1Cp7bOAwHV",
        "colab_type": "code",
        "outputId": "493f51f2-afb1-4dc9-8a23-43aa3cafc33e",
        "colab": {
          "base_uri": "https://localhost:8080/",
          "height": 359
        }
      },
      "source": [
        "fulldata.tail(10)"
      ],
      "execution_count": 0,
      "outputs": [
        {
          "output_type": "execute_result",
          "data": {
            "text/html": [
              "<div>\n",
              "<style scoped>\n",
              "    .dataframe tbody tr th:only-of-type {\n",
              "        vertical-align: middle;\n",
              "    }\n",
              "\n",
              "    .dataframe tbody tr th {\n",
              "        vertical-align: top;\n",
              "    }\n",
              "\n",
              "    .dataframe thead th {\n",
              "        text-align: right;\n",
              "    }\n",
              "</style>\n",
              "<table border=\"1\" class=\"dataframe\">\n",
              "  <thead>\n",
              "    <tr style=\"text-align: right;\">\n",
              "      <th></th>\n",
              "      <th>userId</th>\n",
              "      <th>movieId</th>\n",
              "      <th>rating</th>\n",
              "      <th>title</th>\n",
              "      <th>genres</th>\n",
              "      <th>tag</th>\n",
              "      <th>timestamp</th>\n",
              "      <th>imdbId</th>\n",
              "      <th>tmdbId</th>\n",
              "    </tr>\n",
              "  </thead>\n",
              "  <tbody>\n",
              "    <tr>\n",
              "      <th>20000253</th>\n",
              "      <td>138301</td>\n",
              "      <td>104307</td>\n",
              "      <td>4.0</td>\n",
              "      <td>Souper, Le (Supper, The) (1992)</td>\n",
              "      <td>Drama</td>\n",
              "      <td>NaN</td>\n",
              "      <td>1415227515</td>\n",
              "      <td>105448</td>\n",
              "      <td>65958.0</td>\n",
              "    </tr>\n",
              "    <tr>\n",
              "      <th>20000254</th>\n",
              "      <td>138301</td>\n",
              "      <td>106170</td>\n",
              "      <td>4.0</td>\n",
              "      <td>Patriots, The (Patriotes, Les) (1994)</td>\n",
              "      <td>Thriller</td>\n",
              "      <td>NaN</td>\n",
              "      <td>1383873162</td>\n",
              "      <td>110796</td>\n",
              "      <td>16242.0</td>\n",
              "    </tr>\n",
              "    <tr>\n",
              "      <th>20000255</th>\n",
              "      <td>138301</td>\n",
              "      <td>106401</td>\n",
              "      <td>3.0</td>\n",
              "      <td>Le convoyeur (2004)</td>\n",
              "      <td>Crime|Drama|Thriller</td>\n",
              "      <td>NaN</td>\n",
              "      <td>1394152234</td>\n",
              "      <td>347330</td>\n",
              "      <td>21776.0</td>\n",
              "    </tr>\n",
              "    <tr>\n",
              "      <th>20000256</th>\n",
              "      <td>138301</td>\n",
              "      <td>113539</td>\n",
              "      <td>4.0</td>\n",
              "      <td>First Man, The (Le Premier Homme) (2011)</td>\n",
              "      <td>Drama</td>\n",
              "      <td>NaN</td>\n",
              "      <td>1408674064</td>\n",
              "      <td>1349457</td>\n",
              "      <td>85547.0</td>\n",
              "    </tr>\n",
              "    <tr>\n",
              "      <th>20000257</th>\n",
              "      <td>138301</td>\n",
              "      <td>118856</td>\n",
              "      <td>4.0</td>\n",
              "      <td>Paris by Night (2012)</td>\n",
              "      <td>Crime|Drama</td>\n",
              "      <td>NaN</td>\n",
              "      <td>1418447976</td>\n",
              "      <td>2122518</td>\n",
              "      <td>106685.0</td>\n",
              "    </tr>\n",
              "    <tr>\n",
              "      <th>20000258</th>\n",
              "      <td>138301</td>\n",
              "      <td>121017</td>\n",
              "      <td>3.5</td>\n",
              "      <td>The Gentleman from Epsom (1962)</td>\n",
              "      <td>Comedy|Crime</td>\n",
              "      <td>NaN</td>\n",
              "      <td>1420558479</td>\n",
              "      <td>56014</td>\n",
              "      <td>44522.0</td>\n",
              "    </tr>\n",
              "    <tr>\n",
              "      <th>20000259</th>\n",
              "      <td>138301</td>\n",
              "      <td>121019</td>\n",
              "      <td>4.5</td>\n",
              "      <td>The Great Spy Chase (1964)</td>\n",
              "      <td>Action|Comedy|Thriller</td>\n",
              "      <td>NaN</td>\n",
              "      <td>1420558606</td>\n",
              "      <td>57870</td>\n",
              "      <td>31270.0</td>\n",
              "    </tr>\n",
              "    <tr>\n",
              "      <th>20000260</th>\n",
              "      <td>138301</td>\n",
              "      <td>121021</td>\n",
              "      <td>4.5</td>\n",
              "      <td>Taxi for Tobruk (1961)</td>\n",
              "      <td>Drama|War</td>\n",
              "      <td>NaN</td>\n",
              "      <td>1420558687</td>\n",
              "      <td>54425</td>\n",
              "      <td>33336.0</td>\n",
              "    </tr>\n",
              "    <tr>\n",
              "      <th>20000261</th>\n",
              "      <td>138406</td>\n",
              "      <td>110167</td>\n",
              "      <td>4.5</td>\n",
              "      <td>Judge and the Assassin, The (Juge et l'assassi...</td>\n",
              "      <td>Crime|Drama</td>\n",
              "      <td>NaN</td>\n",
              "      <td>1396184127</td>\n",
              "      <td>73219</td>\n",
              "      <td>38080.0</td>\n",
              "    </tr>\n",
              "    <tr>\n",
              "      <th>20000262</th>\n",
              "      <td>138406</td>\n",
              "      <td>110510</td>\n",
              "      <td>4.5</td>\n",
              "      <td>Série noire (1979)</td>\n",
              "      <td>Film-Noir</td>\n",
              "      <td>NaN</td>\n",
              "      <td>1397597539</td>\n",
              "      <td>79980</td>\n",
              "      <td>64349.0</td>\n",
              "    </tr>\n",
              "  </tbody>\n",
              "</table>\n",
              "</div>"
            ],
            "text/plain": [
              "          userId  movieId  rating  ...   timestamp   imdbId    tmdbId\n",
              "20000253  138301   104307     4.0  ...  1415227515   105448   65958.0\n",
              "20000254  138301   106170     4.0  ...  1383873162   110796   16242.0\n",
              "20000255  138301   106401     3.0  ...  1394152234   347330   21776.0\n",
              "20000256  138301   113539     4.0  ...  1408674064  1349457   85547.0\n",
              "20000257  138301   118856     4.0  ...  1418447976  2122518  106685.0\n",
              "20000258  138301   121017     3.5  ...  1420558479    56014   44522.0\n",
              "20000259  138301   121019     4.5  ...  1420558606    57870   31270.0\n",
              "20000260  138301   121021     4.5  ...  1420558687    54425   33336.0\n",
              "20000261  138406   110167     4.5  ...  1396184127    73219   38080.0\n",
              "20000262  138406   110510     4.5  ...  1397597539    79980   64349.0\n",
              "\n",
              "[10 rows x 9 columns]"
            ]
          },
          "metadata": {
            "tags": []
          },
          "execution_count": 9
        }
      ]
    },
    {
      "cell_type": "code",
      "metadata": {
        "id": "JR9ktfkSA0Qi",
        "colab_type": "code",
        "outputId": "cbd1ec5f-067a-44ee-da79-2304d8937867",
        "colab": {
          "base_uri": "https://localhost:8080/",
          "height": 34
        }
      },
      "source": [
        "fulldata.shape"
      ],
      "execution_count": 0,
      "outputs": [
        {
          "output_type": "execute_result",
          "data": {
            "text/plain": [
              "(20000263, 9)"
            ]
          },
          "metadata": {
            "tags": []
          },
          "execution_count": 10
        }
      ]
    },
    {
      "cell_type": "code",
      "metadata": {
        "id": "EjlxRzl7A46x",
        "colab_type": "code",
        "outputId": "370e739a-ead4-40b5-bec1-b912e5947b0c",
        "colab": {
          "base_uri": "https://localhost:8080/",
          "height": 297
        }
      },
      "source": [
        "fulldata.describe()"
      ],
      "execution_count": 0,
      "outputs": [
        {
          "output_type": "execute_result",
          "data": {
            "text/html": [
              "<div>\n",
              "<style scoped>\n",
              "    .dataframe tbody tr th:only-of-type {\n",
              "        vertical-align: middle;\n",
              "    }\n",
              "\n",
              "    .dataframe tbody tr th {\n",
              "        vertical-align: top;\n",
              "    }\n",
              "\n",
              "    .dataframe thead th {\n",
              "        text-align: right;\n",
              "    }\n",
              "</style>\n",
              "<table border=\"1\" class=\"dataframe\">\n",
              "  <thead>\n",
              "    <tr style=\"text-align: right;\">\n",
              "      <th></th>\n",
              "      <th>userId</th>\n",
              "      <th>movieId</th>\n",
              "      <th>rating</th>\n",
              "      <th>timestamp</th>\n",
              "      <th>imdbId</th>\n",
              "      <th>tmdbId</th>\n",
              "    </tr>\n",
              "  </thead>\n",
              "  <tbody>\n",
              "    <tr>\n",
              "      <th>count</th>\n",
              "      <td>2.000026e+07</td>\n",
              "      <td>2.000026e+07</td>\n",
              "      <td>2.000026e+07</td>\n",
              "      <td>2.000026e+07</td>\n",
              "      <td>2.000026e+07</td>\n",
              "      <td>1.998768e+07</td>\n",
              "    </tr>\n",
              "    <tr>\n",
              "      <th>mean</th>\n",
              "      <td>6.904587e+04</td>\n",
              "      <td>9.041567e+03</td>\n",
              "      <td>3.525529e+00</td>\n",
              "      <td>1.100918e+09</td>\n",
              "      <td>1.942851e+05</td>\n",
              "      <td>9.379593e+03</td>\n",
              "    </tr>\n",
              "    <tr>\n",
              "      <th>std</th>\n",
              "      <td>4.003863e+04</td>\n",
              "      <td>1.978948e+04</td>\n",
              "      <td>1.051989e+00</td>\n",
              "      <td>1.621694e+08</td>\n",
              "      <td>2.625824e+05</td>\n",
              "      <td>1.820505e+04</td>\n",
              "    </tr>\n",
              "    <tr>\n",
              "      <th>min</th>\n",
              "      <td>1.000000e+00</td>\n",
              "      <td>1.000000e+00</td>\n",
              "      <td>5.000000e-01</td>\n",
              "      <td>7.896520e+08</td>\n",
              "      <td>5.000000e+00</td>\n",
              "      <td>2.000000e+00</td>\n",
              "    </tr>\n",
              "    <tr>\n",
              "      <th>25%</th>\n",
              "      <td>3.439500e+04</td>\n",
              "      <td>9.020000e+02</td>\n",
              "      <td>3.000000e+00</td>\n",
              "      <td>9.667977e+08</td>\n",
              "      <td>9.472100e+04</td>\n",
              "      <td>6.640000e+02</td>\n",
              "    </tr>\n",
              "    <tr>\n",
              "      <th>50%</th>\n",
              "      <td>6.914100e+04</td>\n",
              "      <td>2.167000e+03</td>\n",
              "      <td>3.500000e+00</td>\n",
              "      <td>1.103556e+09</td>\n",
              "      <td>1.131610e+05</td>\n",
              "      <td>4.247000e+03</td>\n",
              "    </tr>\n",
              "    <tr>\n",
              "      <th>75%</th>\n",
              "      <td>1.036370e+05</td>\n",
              "      <td>4.770000e+03</td>\n",
              "      <td>4.000000e+00</td>\n",
              "      <td>1.225642e+09</td>\n",
              "      <td>1.672610e+05</td>\n",
              "      <td>1.080300e+04</td>\n",
              "    </tr>\n",
              "    <tr>\n",
              "      <th>max</th>\n",
              "      <td>1.384930e+05</td>\n",
              "      <td>1.312620e+05</td>\n",
              "      <td>5.000000e+00</td>\n",
              "      <td>1.427784e+09</td>\n",
              "      <td>4.530184e+06</td>\n",
              "      <td>4.207430e+05</td>\n",
              "    </tr>\n",
              "  </tbody>\n",
              "</table>\n",
              "</div>"
            ],
            "text/plain": [
              "             userId       movieId  ...        imdbId        tmdbId\n",
              "count  2.000026e+07  2.000026e+07  ...  2.000026e+07  1.998768e+07\n",
              "mean   6.904587e+04  9.041567e+03  ...  1.942851e+05  9.379593e+03\n",
              "std    4.003863e+04  1.978948e+04  ...  2.625824e+05  1.820505e+04\n",
              "min    1.000000e+00  1.000000e+00  ...  5.000000e+00  2.000000e+00\n",
              "25%    3.439500e+04  9.020000e+02  ...  9.472100e+04  6.640000e+02\n",
              "50%    6.914100e+04  2.167000e+03  ...  1.131610e+05  4.247000e+03\n",
              "75%    1.036370e+05  4.770000e+03  ...  1.672610e+05  1.080300e+04\n",
              "max    1.384930e+05  1.312620e+05  ...  4.530184e+06  4.207430e+05\n",
              "\n",
              "[8 rows x 6 columns]"
            ]
          },
          "metadata": {
            "tags": []
          },
          "execution_count": 12
        }
      ]
    },
    {
      "cell_type": "code",
      "metadata": {
        "id": "wfj6gF7mBPs2",
        "colab_type": "code",
        "outputId": "c49264cb-c5ef-47a3-aada-d86395cc795e",
        "colab": {
          "base_uri": "https://localhost:8080/",
          "height": 867
        }
      },
      "source": [
        "plt.figure(figsize=(15,15))\n",
        "g = sns.heatmap(fulldata.corr(),\n",
        "                annot=True,cmap=\"RdYlGn\")\n",
        "\n",
        "\n",
        "plt.show()"
      ],
      "execution_count": 0,
      "outputs": [
        {
          "output_type": "display_data",
          "data": {
            "image/png": "[encoded data removed]",
            "text/plain": [
              "<Figure size 1080x1080 with 2 Axes>"
            ]
          },
          "metadata": {
            "tags": []
          }
        }
      ]
    },
    {
      "cell_type": "code",
      "metadata": {
        "id": "R25towGuCCj5",
        "colab_type": "code",
        "outputId": "7c20aa72-a5b6-4f44-c32a-ca55baa711cc",
        "colab": {
          "base_uri": "https://localhost:8080/",
          "height": 747
        }
      },
      "source": [
        "sns.set()\n",
        "cols = ['userId', 'movieId', 'rating', 'timestamp']\n",
        "#, 'imdbId', 'tmdbId']\n",
        "sns.pairplot(fulldata[cols], height = 2.5)\n",
        "plt.show();"
      ],
      "execution_count": 0,
      "outputs": [
        {
          "output_type": "display_data",
          "data": {
            "image/png": "[encoded data removed]",
            "text/plain": [
              "<Figure size 720x720 with 20 Axes>"
            ]
          },
          "metadata": {
            "tags": []
          }
        }
      ]
    },
    {
      "cell_type": "markdown",
      "metadata": {
        "colab_type": "text",
        "id": "ZwSCfA1U-ZxX"
      },
      "source": [
        "# 6. Simple Recommender System"
      ]
    },
    {
      "cell_type": "markdown",
      "metadata": {
        "id": "raLlaNLpdFGz",
        "colab_type": "text"
      },
      "source": [
        "## 5.1 Dataset configuration"
      ]
    },
    {
      "cell_type": "code",
      "metadata": {
        "id": "bAePUJlfABWQ",
        "colab_type": "code",
        "colab": {}
      },
      "source": [
        "simpledata = data[['movieId', 'rating']]"
      ],
      "execution_count": 0,
      "outputs": []
    },
    {
      "cell_type": "code",
      "metadata": {
        "id": "WVSmjF7zCvfc",
        "colab_type": "code",
        "outputId": "64510bc4-1c85-4332-a6fd-2b0b8a8784e1",
        "colab": {
          "base_uri": "https://localhost:8080/",
          "height": 34
        }
      },
      "source": [
        "simpledata.shape"
      ],
      "execution_count": 0,
      "outputs": [
        {
          "output_type": "execute_result",
          "data": {
            "text/plain": [
              "(20000263, 2)"
            ]
          },
          "metadata": {
            "tags": []
          },
          "execution_count": 29
        }
      ]
    },
    {
      "cell_type": "code",
      "metadata": {
        "colab_type": "code",
        "outputId": "899b6e2e-3f95-4b43-dfad-6b590a1b5df5",
        "id": "vztKJPMa_tMB",
        "colab": {
          "base_uri": "https://localhost:8080/",
          "height": 359
        }
      },
      "source": [
        "simpledata.head(10)"
      ],
      "execution_count": 0,
      "outputs": [
        {
          "output_type": "execute_result",
          "data": {
            "text/html": [
              "<div>\n",
              "<style scoped>\n",
              "    .dataframe tbody tr th:only-of-type {\n",
              "        vertical-align: middle;\n",
              "    }\n",
              "\n",
              "    .dataframe tbody tr th {\n",
              "        vertical-align: top;\n",
              "    }\n",
              "\n",
              "    .dataframe thead th {\n",
              "        text-align: right;\n",
              "    }\n",
              "</style>\n",
              "<table border=\"1\" class=\"dataframe\">\n",
              "  <thead>\n",
              "    <tr style=\"text-align: right;\">\n",
              "      <th></th>\n",
              "      <th>movieId</th>\n",
              "      <th>rating</th>\n",
              "    </tr>\n",
              "  </thead>\n",
              "  <tbody>\n",
              "    <tr>\n",
              "      <th>0</th>\n",
              "      <td>2</td>\n",
              "      <td>3.5</td>\n",
              "    </tr>\n",
              "    <tr>\n",
              "      <th>1</th>\n",
              "      <td>2</td>\n",
              "      <td>3.0</td>\n",
              "    </tr>\n",
              "    <tr>\n",
              "      <th>2</th>\n",
              "      <td>2</td>\n",
              "      <td>3.0</td>\n",
              "    </tr>\n",
              "    <tr>\n",
              "      <th>3</th>\n",
              "      <td>2</td>\n",
              "      <td>3.0</td>\n",
              "    </tr>\n",
              "    <tr>\n",
              "      <th>4</th>\n",
              "      <td>2</td>\n",
              "      <td>3.0</td>\n",
              "    </tr>\n",
              "    <tr>\n",
              "      <th>5</th>\n",
              "      <td>2</td>\n",
              "      <td>3.0</td>\n",
              "    </tr>\n",
              "    <tr>\n",
              "      <th>6</th>\n",
              "      <td>2</td>\n",
              "      <td>1.0</td>\n",
              "    </tr>\n",
              "    <tr>\n",
              "      <th>7</th>\n",
              "      <td>2</td>\n",
              "      <td>3.5</td>\n",
              "    </tr>\n",
              "    <tr>\n",
              "      <th>8</th>\n",
              "      <td>2</td>\n",
              "      <td>2.0</td>\n",
              "    </tr>\n",
              "    <tr>\n",
              "      <th>9</th>\n",
              "      <td>2</td>\n",
              "      <td>4.0</td>\n",
              "    </tr>\n",
              "  </tbody>\n",
              "</table>\n",
              "</div>"
            ],
            "text/plain": [
              "   movieId  rating\n",
              "0        2     3.5\n",
              "1        2     3.0\n",
              "2        2     3.0\n",
              "3        2     3.0\n",
              "4        2     3.0\n",
              "5        2     3.0\n",
              "6        2     1.0\n",
              "7        2     3.5\n",
              "8        2     2.0\n",
              "9        2     4.0"
            ]
          },
          "metadata": {
            "tags": []
          },
          "execution_count": 30
        }
      ]
    },
    {
      "cell_type": "code",
      "metadata": {
        "id": "ntLB2bliNNGJ",
        "colab_type": "code",
        "colab": {}
      },
      "source": [
        "ratingnum = pd.DataFrame({'rating_num' : simpledata.groupby( [ \"movieId\"] ).size()}).reset_index()"
      ],
      "execution_count": 0,
      "outputs": []
    },
    {
      "cell_type": "code",
      "metadata": {
        "id": "KRvcehq4NuRO",
        "colab_type": "code",
        "outputId": "5ce19ee3-ec47-4a02-d0d0-6f8d4dd40cf4",
        "colab": {
          "base_uri": "https://localhost:8080/",
          "height": 359
        }
      },
      "source": [
        "ratingnum.head(10)"
      ],
      "execution_count": 17,
      "outputs": [
        {
          "output_type": "execute_result",
          "data": {
            "text/html": [
              "<div>\n",
              "<style scoped>\n",
              "    .dataframe tbody tr th:only-of-type {\n",
              "        vertical-align: middle;\n",
              "    }\n",
              "\n",
              "    .dataframe tbody tr th {\n",
              "        vertical-align: top;\n",
              "    }\n",
              "\n",
              "    .dataframe thead th {\n",
              "        text-align: right;\n",
              "    }\n",
              "</style>\n",
              "<table border=\"1\" class=\"dataframe\">\n",
              "  <thead>\n",
              "    <tr style=\"text-align: right;\">\n",
              "      <th></th>\n",
              "      <th>movieId</th>\n",
              "      <th>rating_num</th>\n",
              "    </tr>\n",
              "  </thead>\n",
              "  <tbody>\n",
              "    <tr>\n",
              "      <th>0</th>\n",
              "      <td>1</td>\n",
              "      <td>49695</td>\n",
              "    </tr>\n",
              "    <tr>\n",
              "      <th>1</th>\n",
              "      <td>2</td>\n",
              "      <td>22243</td>\n",
              "    </tr>\n",
              "    <tr>\n",
              "      <th>2</th>\n",
              "      <td>3</td>\n",
              "      <td>12735</td>\n",
              "    </tr>\n",
              "    <tr>\n",
              "      <th>3</th>\n",
              "      <td>4</td>\n",
              "      <td>2756</td>\n",
              "    </tr>\n",
              "    <tr>\n",
              "      <th>4</th>\n",
              "      <td>5</td>\n",
              "      <td>12161</td>\n",
              "    </tr>\n",
              "    <tr>\n",
              "      <th>5</th>\n",
              "      <td>6</td>\n",
              "      <td>23899</td>\n",
              "    </tr>\n",
              "    <tr>\n",
              "      <th>6</th>\n",
              "      <td>7</td>\n",
              "      <td>12961</td>\n",
              "    </tr>\n",
              "    <tr>\n",
              "      <th>7</th>\n",
              "      <td>8</td>\n",
              "      <td>1415</td>\n",
              "    </tr>\n",
              "    <tr>\n",
              "      <th>8</th>\n",
              "      <td>9</td>\n",
              "      <td>3960</td>\n",
              "    </tr>\n",
              "    <tr>\n",
              "      <th>9</th>\n",
              "      <td>10</td>\n",
              "      <td>29005</td>\n",
              "    </tr>\n",
              "  </tbody>\n",
              "</table>\n",
              "</div>"
            ],
            "text/plain": [
              "   movieId  rating_num\n",
              "0        1       49695\n",
              "1        2       22243\n",
              "2        3       12735\n",
              "3        4        2756\n",
              "4        5       12161\n",
              "5        6       23899\n",
              "6        7       12961\n",
              "7        8        1415\n",
              "8        9        3960\n",
              "9       10       29005"
            ]
          },
          "metadata": {
            "tags": []
          },
          "execution_count": 17
        }
      ]
    },
    {
      "cell_type": "code",
      "metadata": {
        "id": "G63Qjn26PenA",
        "colab_type": "code",
        "outputId": "90f124cb-1a03-4bb2-f773-a5454d83feda",
        "colab": {
          "base_uri": "https://localhost:8080/",
          "height": 34
        }
      },
      "source": [
        "ratingnum.shape"
      ],
      "execution_count": 0,
      "outputs": [
        {
          "output_type": "execute_result",
          "data": {
            "text/plain": [
              "(26744, 2)"
            ]
          },
          "metadata": {
            "tags": []
          },
          "execution_count": 33
        }
      ]
    },
    {
      "cell_type": "code",
      "metadata": {
        "id": "d6j3RiPmPOsu",
        "colab_type": "code",
        "colab": {}
      },
      "source": [
        "g1 = []\n",
        "g1 = simpledata.groupby( [ \"movieId\"] ).agg({'mean'})\n",
        "g1.head(10)"
      ],
      "execution_count": 0,
      "outputs": []
    },
    {
      "cell_type": "code",
      "metadata": {
        "id": "ME3xOZvHSH2O",
        "colab_type": "code",
        "outputId": "bc3a82d9-3626-4cdd-a18c-bab01d04d532",
        "colab": {
          "base_uri": "https://localhost:8080/",
          "height": 71
        }
      },
      "source": [
        "ratingnum = ratingnum.merge(g1, on='movieId')"
      ],
      "execution_count": 0,
      "outputs": [
        {
          "output_type": "stream",
          "text": [
            "/usr/local/lib/python3.6/dist-packages/pandas/core/reshape/merge.py:618: UserWarning: merging between different levels can give an unintended result (1 levels on the left, 2 on the right)\n",
            "  warnings.warn(msg, UserWarning)\n"
          ],
          "name": "stderr"
        }
      ]
    },
    {
      "cell_type": "code",
      "metadata": {
        "colab_type": "code",
        "outputId": "d6570aa3-d4a7-4a9b-b528-74a1e9840490",
        "id": "iwTBVbbzFpO0",
        "colab": {
          "base_uri": "https://localhost:8080/",
          "height": 359
        }
      },
      "source": [
        "ratingnum.head(10)"
      ],
      "execution_count": 0,
      "outputs": [
        {
          "output_type": "execute_result",
          "data": {
            "text/html": [
              "<div>\n",
              "<style scoped>\n",
              "    .dataframe tbody tr th:only-of-type {\n",
              "        vertical-align: middle;\n",
              "    }\n",
              "\n",
              "    .dataframe tbody tr th {\n",
              "        vertical-align: top;\n",
              "    }\n",
              "\n",
              "    .dataframe thead th {\n",
              "        text-align: right;\n",
              "    }\n",
              "</style>\n",
              "<table border=\"1\" class=\"dataframe\">\n",
              "  <thead>\n",
              "    <tr style=\"text-align: right;\">\n",
              "      <th></th>\n",
              "      <th>movieId</th>\n",
              "      <th>rating_num</th>\n",
              "      <th>(rating, mean)</th>\n",
              "    </tr>\n",
              "  </thead>\n",
              "  <tbody>\n",
              "    <tr>\n",
              "      <th>0</th>\n",
              "      <td>1</td>\n",
              "      <td>49695</td>\n",
              "      <td>3.921240</td>\n",
              "    </tr>\n",
              "    <tr>\n",
              "      <th>1</th>\n",
              "      <td>2</td>\n",
              "      <td>22243</td>\n",
              "      <td>3.211977</td>\n",
              "    </tr>\n",
              "    <tr>\n",
              "      <th>2</th>\n",
              "      <td>3</td>\n",
              "      <td>12735</td>\n",
              "      <td>3.151040</td>\n",
              "    </tr>\n",
              "    <tr>\n",
              "      <th>3</th>\n",
              "      <td>4</td>\n",
              "      <td>2756</td>\n",
              "      <td>2.861393</td>\n",
              "    </tr>\n",
              "    <tr>\n",
              "      <th>4</th>\n",
              "      <td>5</td>\n",
              "      <td>12161</td>\n",
              "      <td>3.064592</td>\n",
              "    </tr>\n",
              "    <tr>\n",
              "      <th>5</th>\n",
              "      <td>6</td>\n",
              "      <td>23899</td>\n",
              "      <td>3.834930</td>\n",
              "    </tr>\n",
              "    <tr>\n",
              "      <th>6</th>\n",
              "      <td>7</td>\n",
              "      <td>12961</td>\n",
              "      <td>3.366484</td>\n",
              "    </tr>\n",
              "    <tr>\n",
              "      <th>7</th>\n",
              "      <td>8</td>\n",
              "      <td>1415</td>\n",
              "      <td>3.142049</td>\n",
              "    </tr>\n",
              "    <tr>\n",
              "      <th>8</th>\n",
              "      <td>9</td>\n",
              "      <td>3960</td>\n",
              "      <td>3.004924</td>\n",
              "    </tr>\n",
              "    <tr>\n",
              "      <th>9</th>\n",
              "      <td>10</td>\n",
              "      <td>29005</td>\n",
              "      <td>3.430029</td>\n",
              "    </tr>\n",
              "  </tbody>\n",
              "</table>\n",
              "</div>"
            ],
            "text/plain": [
              "   movieId  rating_num  (rating, mean)\n",
              "0        1       49695        3.921240\n",
              "1        2       22243        3.211977\n",
              "2        3       12735        3.151040\n",
              "3        4        2756        2.861393\n",
              "4        5       12161        3.064592\n",
              "5        6       23899        3.834930\n",
              "6        7       12961        3.366484\n",
              "7        8        1415        3.142049\n",
              "8        9        3960        3.004924\n",
              "9       10       29005        3.430029"
            ]
          },
          "metadata": {
            "tags": []
          },
          "execution_count": 74
        }
      ]
    },
    {
      "cell_type": "code",
      "metadata": {
        "id": "3-svTiKKRdQE",
        "colab_type": "code",
        "outputId": "f26b7f49-f132-47b2-e048-f617f2a154ea",
        "colab": {
          "base_uri": "https://localhost:8080/",
          "height": 359
        }
      },
      "source": [
        "simpledata = ratingnum\n",
        "simpledata.head(10)"
      ],
      "execution_count": 0,
      "outputs": [
        {
          "output_type": "execute_result",
          "data": {
            "text/html": [
              "<div>\n",
              "<style scoped>\n",
              "    .dataframe tbody tr th:only-of-type {\n",
              "        vertical-align: middle;\n",
              "    }\n",
              "\n",
              "    .dataframe tbody tr th {\n",
              "        vertical-align: top;\n",
              "    }\n",
              "\n",
              "    .dataframe thead th {\n",
              "        text-align: right;\n",
              "    }\n",
              "</style>\n",
              "<table border=\"1\" class=\"dataframe\">\n",
              "  <thead>\n",
              "    <tr style=\"text-align: right;\">\n",
              "      <th></th>\n",
              "      <th>movieId</th>\n",
              "      <th>rating_num</th>\n",
              "      <th>(rating, mean)</th>\n",
              "    </tr>\n",
              "  </thead>\n",
              "  <tbody>\n",
              "    <tr>\n",
              "      <th>0</th>\n",
              "      <td>1</td>\n",
              "      <td>49695</td>\n",
              "      <td>3.921240</td>\n",
              "    </tr>\n",
              "    <tr>\n",
              "      <th>1</th>\n",
              "      <td>2</td>\n",
              "      <td>22243</td>\n",
              "      <td>3.211977</td>\n",
              "    </tr>\n",
              "    <tr>\n",
              "      <th>2</th>\n",
              "      <td>3</td>\n",
              "      <td>12735</td>\n",
              "      <td>3.151040</td>\n",
              "    </tr>\n",
              "    <tr>\n",
              "      <th>3</th>\n",
              "      <td>4</td>\n",
              "      <td>2756</td>\n",
              "      <td>2.861393</td>\n",
              "    </tr>\n",
              "    <tr>\n",
              "      <th>4</th>\n",
              "      <td>5</td>\n",
              "      <td>12161</td>\n",
              "      <td>3.064592</td>\n",
              "    </tr>\n",
              "    <tr>\n",
              "      <th>5</th>\n",
              "      <td>6</td>\n",
              "      <td>23899</td>\n",
              "      <td>3.834930</td>\n",
              "    </tr>\n",
              "    <tr>\n",
              "      <th>6</th>\n",
              "      <td>7</td>\n",
              "      <td>12961</td>\n",
              "      <td>3.366484</td>\n",
              "    </tr>\n",
              "    <tr>\n",
              "      <th>7</th>\n",
              "      <td>8</td>\n",
              "      <td>1415</td>\n",
              "      <td>3.142049</td>\n",
              "    </tr>\n",
              "    <tr>\n",
              "      <th>8</th>\n",
              "      <td>9</td>\n",
              "      <td>3960</td>\n",
              "      <td>3.004924</td>\n",
              "    </tr>\n",
              "    <tr>\n",
              "      <th>9</th>\n",
              "      <td>10</td>\n",
              "      <td>29005</td>\n",
              "      <td>3.430029</td>\n",
              "    </tr>\n",
              "  </tbody>\n",
              "</table>\n",
              "</div>"
            ],
            "text/plain": [
              "   movieId  rating_num  (rating, mean)\n",
              "0        1       49695        3.921240\n",
              "1        2       22243        3.211977\n",
              "2        3       12735        3.151040\n",
              "3        4        2756        2.861393\n",
              "4        5       12161        3.064592\n",
              "5        6       23899        3.834930\n",
              "6        7       12961        3.366484\n",
              "7        8        1415        3.142049\n",
              "8        9        3960        3.004924\n",
              "9       10       29005        3.430029"
            ]
          },
          "metadata": {
            "tags": []
          },
          "execution_count": 75
        }
      ]
    },
    {
      "cell_type": "code",
      "metadata": {
        "id": "RLv3EaFtYYuR",
        "colab_type": "code",
        "colab": {}
      },
      "source": [
        "simpledata.to_csv('simpledata.csv', index=False)"
      ],
      "execution_count": 0,
      "outputs": []
    },
    {
      "cell_type": "markdown",
      "metadata": {
        "colab_type": "text",
        "id": "Lv5nJY98dQHK"
      },
      "source": [
        "## 5.2 Weighted Rating"
      ]
    },
    {
      "cell_type": "markdown",
      "metadata": {
        "id": "VYylOlMeUyCr",
        "colab_type": "text"
      },
      "source": [
        "Taking these shortcomings into consideration, you must come up with a weighted rating that takes into account the average rating and the number of votes it has accumulated. Such a system will make sure that a movie with a 9 rating from 100,000 voters gets a (far) higher score than a movie with the same rating but a mere few hundred voters.\n",
        "\n",
        "WeightedRating(WR)=(v/(v+m)⋅R)+(m(v+m)⋅C)\n",
        "\n",
        "In the above equation,\n",
        "\n",
        "    v is the number of votes for the movie;\n",
        "\n",
        "    m is the minimum votes required to be listed in the chart;\n",
        "\n",
        "    R is the average rating of the movie;\n",
        "\n",
        "    C is the mean vote across the whole report.\n"
      ]
    },
    {
      "cell_type": "code",
      "metadata": {
        "id": "XwJAl9E5ZPVF",
        "colab_type": "code",
        "outputId": "848f66b1-f7fc-452f-ee95-262ddaf5409a",
        "colab": {
          "base_uri": "https://localhost:8080/",
          "height": 359
        }
      },
      "source": [
        "simpledata = pd.read_csv('simpledata.csv', low_memory=False)\n",
        "simpledata.head(10)"
      ],
      "execution_count": 18,
      "outputs": [
        {
          "output_type": "execute_result",
          "data": {
            "text/html": [
              "<div>\n",
              "<style scoped>\n",
              "    .dataframe tbody tr th:only-of-type {\n",
              "        vertical-align: middle;\n",
              "    }\n",
              "\n",
              "    .dataframe tbody tr th {\n",
              "        vertical-align: top;\n",
              "    }\n",
              "\n",
              "    .dataframe thead th {\n",
              "        text-align: right;\n",
              "    }\n",
              "</style>\n",
              "<table border=\"1\" class=\"dataframe\">\n",
              "  <thead>\n",
              "    <tr style=\"text-align: right;\">\n",
              "      <th></th>\n",
              "      <th>movieId</th>\n",
              "      <th>rating_num</th>\n",
              "      <th>rating_avg</th>\n",
              "    </tr>\n",
              "  </thead>\n",
              "  <tbody>\n",
              "    <tr>\n",
              "      <th>0</th>\n",
              "      <td>1</td>\n",
              "      <td>49695</td>\n",
              "      <td>3.921240</td>\n",
              "    </tr>\n",
              "    <tr>\n",
              "      <th>1</th>\n",
              "      <td>2</td>\n",
              "      <td>22243</td>\n",
              "      <td>3.211977</td>\n",
              "    </tr>\n",
              "    <tr>\n",
              "      <th>2</th>\n",
              "      <td>3</td>\n",
              "      <td>12735</td>\n",
              "      <td>3.151040</td>\n",
              "    </tr>\n",
              "    <tr>\n",
              "      <th>3</th>\n",
              "      <td>4</td>\n",
              "      <td>2756</td>\n",
              "      <td>2.861393</td>\n",
              "    </tr>\n",
              "    <tr>\n",
              "      <th>4</th>\n",
              "      <td>5</td>\n",
              "      <td>12161</td>\n",
              "      <td>3.064592</td>\n",
              "    </tr>\n",
              "    <tr>\n",
              "      <th>5</th>\n",
              "      <td>6</td>\n",
              "      <td>23899</td>\n",
              "      <td>3.834930</td>\n",
              "    </tr>\n",
              "    <tr>\n",
              "      <th>6</th>\n",
              "      <td>7</td>\n",
              "      <td>12961</td>\n",
              "      <td>3.366484</td>\n",
              "    </tr>\n",
              "    <tr>\n",
              "      <th>7</th>\n",
              "      <td>8</td>\n",
              "      <td>1415</td>\n",
              "      <td>3.142049</td>\n",
              "    </tr>\n",
              "    <tr>\n",
              "      <th>8</th>\n",
              "      <td>9</td>\n",
              "      <td>3960</td>\n",
              "      <td>3.004924</td>\n",
              "    </tr>\n",
              "    <tr>\n",
              "      <th>9</th>\n",
              "      <td>10</td>\n",
              "      <td>29005</td>\n",
              "      <td>3.430029</td>\n",
              "    </tr>\n",
              "  </tbody>\n",
              "</table>\n",
              "</div>"
            ],
            "text/plain": [
              "   movieId  rating_num  rating_avg\n",
              "0        1       49695    3.921240\n",
              "1        2       22243    3.211977\n",
              "2        3       12735    3.151040\n",
              "3        4        2756    2.861393\n",
              "4        5       12161    3.064592\n",
              "5        6       23899    3.834930\n",
              "6        7       12961    3.366484\n",
              "7        8        1415    3.142049\n",
              "8        9        3960    3.004924\n",
              "9       10       29005    3.430029"
            ]
          },
          "metadata": {
            "tags": []
          },
          "execution_count": 18
        }
      ]
    },
    {
      "cell_type": "code",
      "metadata": {
        "id": "iFWokfqNUjaG",
        "colab_type": "code",
        "outputId": "2f7cf1ae-5520-4373-bd9f-89ee9f61d1fc",
        "colab": {
          "base_uri": "https://localhost:8080/",
          "height": 34
        }
      },
      "source": [
        "# Calculate mean of vote average column\n",
        "C = simpledata['rating_avg'].mean()\n",
        "print(C)"
      ],
      "execution_count": 19,
      "outputs": [
        {
          "output_type": "stream",
          "text": [
            "3.13319999012483\n"
          ],
          "name": "stdout"
        }
      ]
    },
    {
      "cell_type": "code",
      "metadata": {
        "id": "n_92m_VCZ3c-",
        "colab_type": "code",
        "outputId": "f169f5ab-3cee-46c6-a4b1-b2670a77f57d",
        "colab": {
          "base_uri": "https://localhost:8080/",
          "height": 34
        }
      },
      "source": [
        "#Minimum votes required to be listed in the chart\n",
        "m = simpledata['rating_num'].quantile(0.90)\n",
        "print(m)"
      ],
      "execution_count": 20,
      "outputs": [
        {
          "output_type": "stream",
          "text": [
            "1305.7000000000007\n"
          ],
          "name": "stdout"
        }
      ]
    },
    {
      "cell_type": "code",
      "metadata": {
        "id": "gVATsGwlaE9d",
        "colab_type": "code",
        "outputId": "b7e9b202-9605-4a83-8981-0f056bd85ecf",
        "colab": {
          "base_uri": "https://localhost:8080/",
          "height": 34
        }
      },
      "source": [
        "#Filter out all qualified movies into a new DataFrame\n",
        "q_movies = simpledata.copy().loc[simpledata['rating_num'] >= m]\n",
        "q_movies.shape"
      ],
      "execution_count": 21,
      "outputs": [
        {
          "output_type": "execute_result",
          "data": {
            "text/plain": [
              "(2675, 3)"
            ]
          },
          "metadata": {
            "tags": []
          },
          "execution_count": 21
        }
      ]
    },
    {
      "cell_type": "code",
      "metadata": {
        "id": "wadIC78faOYu",
        "colab_type": "code",
        "outputId": "93ed5af0-c8bb-4e86-dcbc-de68ec2b31f3",
        "colab": {
          "base_uri": "https://localhost:8080/",
          "height": 34
        }
      },
      "source": [
        "simpledata.shape"
      ],
      "execution_count": 22,
      "outputs": [
        {
          "output_type": "execute_result",
          "data": {
            "text/plain": [
              "(26744, 3)"
            ]
          },
          "metadata": {
            "tags": []
          },
          "execution_count": 22
        }
      ]
    },
    {
      "cell_type": "code",
      "metadata": {
        "id": "1cF0D8SpaqYI",
        "colab_type": "code",
        "colab": {}
      },
      "source": [
        "# Function that computes the weighted rating of each movie\n",
        "def weighted_rating(x, m=m, C=C):\n",
        "    v = x['rating_num']\n",
        "    R = x['rating_avg']\n",
        "    # Calculation based on the IMDB formula\n",
        "    return (v/(v+m) * R) + (m/(m+v) * C)"
      ],
      "execution_count": 0,
      "outputs": []
    },
    {
      "cell_type": "code",
      "metadata": {
        "id": "izfQPzyLauid",
        "colab_type": "code",
        "colab": {}
      },
      "source": [
        "# Define a new feature 'score' and calculate its value with `weighted_rating()`\n",
        "q_movies['score'] = q_movies.apply(weighted_rating, axis=1)"
      ],
      "execution_count": 0,
      "outputs": []
    },
    {
      "cell_type": "markdown",
      "metadata": {
        "id": "XV83xzQ_bdYB",
        "colab_type": "text"
      },
      "source": [
        "## 5.3 Simple Recommender Result"
      ]
    },
    {
      "cell_type": "code",
      "metadata": {
        "id": "cgLMS45tbgp1",
        "colab_type": "code",
        "colab": {}
      },
      "source": [
        "q_movies = q_movies.merge(movies, on='movieId')"
      ],
      "execution_count": 0,
      "outputs": []
    },
    {
      "cell_type": "code",
      "metadata": {
        "id": "y3pHjrmUa8np",
        "colab_type": "code",
        "outputId": "e024777b-3590-446e-d7f2-bf5f41409acd",
        "colab": {
          "base_uri": "https://localhost:8080/",
          "height": 788
        }
      },
      "source": [
        "#Sort movies based on score calculated above\n",
        "q_movies = q_movies.sort_values('score', ascending=False)\n",
        "\n",
        "#Print the top 20 movies\n",
        "q_movies[['movieId', 'title', 'rating_num', 'rating_avg', 'score']].head(20)"
      ],
      "execution_count": 0,
      "outputs": [
        {
          "output_type": "execute_result",
          "data": {
            "text/html": [
              "<div>\n",
              "<style scoped>\n",
              "    .dataframe tbody tr th:only-of-type {\n",
              "        vertical-align: middle;\n",
              "    }\n",
              "\n",
              "    .dataframe tbody tr th {\n",
              "        vertical-align: top;\n",
              "    }\n",
              "\n",
              "    .dataframe thead th {\n",
              "        text-align: right;\n",
              "    }\n",
              "</style>\n",
              "<table border=\"1\" class=\"dataframe\">\n",
              "  <thead>\n",
              "    <tr style=\"text-align: right;\">\n",
              "      <th></th>\n",
              "      <th>movieId</th>\n",
              "      <th>title</th>\n",
              "      <th>rating_num</th>\n",
              "      <th>rating_avg</th>\n",
              "      <th>score</th>\n",
              "    </tr>\n",
              "  </thead>\n",
              "  <tbody>\n",
              "    <tr>\n",
              "      <th>195</th>\n",
              "      <td>318</td>\n",
              "      <td>Shawshank Redemption, The (1994)</td>\n",
              "      <td>63366</td>\n",
              "      <td>4.446991</td>\n",
              "      <td>4.420466</td>\n",
              "    </tr>\n",
              "    <tr>\n",
              "      <th>439</th>\n",
              "      <td>858</td>\n",
              "      <td>Godfather, The (1972)</td>\n",
              "      <td>41355</td>\n",
              "      <td>4.364732</td>\n",
              "      <td>4.327039</td>\n",
              "    </tr>\n",
              "    <tr>\n",
              "      <th>43</th>\n",
              "      <td>50</td>\n",
              "      <td>Usual Suspects, The (1995)</td>\n",
              "      <td>47006</td>\n",
              "      <td>4.334372</td>\n",
              "      <td>4.301909</td>\n",
              "    </tr>\n",
              "    <tr>\n",
              "      <th>313</th>\n",
              "      <td>527</td>\n",
              "      <td>Schindler's List (1993)</td>\n",
              "      <td>50054</td>\n",
              "      <td>4.310175</td>\n",
              "      <td>4.280253</td>\n",
              "    </tr>\n",
              "    <tr>\n",
              "      <th>630</th>\n",
              "      <td>1221</td>\n",
              "      <td>Godfather: Part II, The (1974)</td>\n",
              "      <td>27398</td>\n",
              "      <td>4.275641</td>\n",
              "      <td>4.223672</td>\n",
              "    </tr>\n",
              "    <tr>\n",
              "      <th>604</th>\n",
              "      <td>1193</td>\n",
              "      <td>One Flew Over the Cuckoo's Nest (1975)</td>\n",
              "      <td>29932</td>\n",
              "      <td>4.248079</td>\n",
              "      <td>4.201478</td>\n",
              "    </tr>\n",
              "    <tr>\n",
              "      <th>460</th>\n",
              "      <td>912</td>\n",
              "      <td>Casablanca (1942)</td>\n",
              "      <td>24349</td>\n",
              "      <td>4.258327</td>\n",
              "      <td>4.201063</td>\n",
              "    </tr>\n",
              "    <tr>\n",
              "      <th>1415</th>\n",
              "      <td>2959</td>\n",
              "      <td>Fight Club (1999)</td>\n",
              "      <td>40106</td>\n",
              "      <td>4.227123</td>\n",
              "      <td>4.192632</td>\n",
              "    </tr>\n",
              "    <tr>\n",
              "      <th>453</th>\n",
              "      <td>904</td>\n",
              "      <td>Rear Window (1954)</td>\n",
              "      <td>17449</td>\n",
              "      <td>4.271334</td>\n",
              "      <td>4.192097</td>\n",
              "    </tr>\n",
              "    <tr>\n",
              "      <th>401</th>\n",
              "      <td>750</td>\n",
              "      <td>Dr. Strangelove or: How I Learned to Stop Worr...</td>\n",
              "      <td>23220</td>\n",
              "      <td>4.247287</td>\n",
              "      <td>4.187975</td>\n",
              "    </tr>\n",
              "    <tr>\n",
              "      <th>608</th>\n",
              "      <td>1198</td>\n",
              "      <td>Raiders of the Lost Ark (Indiana Jones and the...</td>\n",
              "      <td>43295</td>\n",
              "      <td>4.219009</td>\n",
              "      <td>4.187222</td>\n",
              "    </tr>\n",
              "    <tr>\n",
              "      <th>161</th>\n",
              "      <td>260</td>\n",
              "      <td>Star Wars: Episode IV - A New Hope (1977)</td>\n",
              "      <td>54502</td>\n",
              "      <td>4.190672</td>\n",
              "      <td>4.165931</td>\n",
              "    </tr>\n",
              "    <tr>\n",
              "      <th>1260</th>\n",
              "      <td>2571</td>\n",
              "      <td>Matrix, The (1999)</td>\n",
              "      <td>51334</td>\n",
              "      <td>4.187186</td>\n",
              "      <td>4.161042</td>\n",
              "    </tr>\n",
              "    <tr>\n",
              "      <th>989</th>\n",
              "      <td>2019</td>\n",
              "      <td>Seven Samurai (Shichinin no samurai) (1954)</td>\n",
              "      <td>11611</td>\n",
              "      <td>4.274180</td>\n",
              "      <td>4.158842</td>\n",
              "    </tr>\n",
              "    <tr>\n",
              "      <th>606</th>\n",
              "      <td>1196</td>\n",
              "      <td>Star Wars: Episode V - The Empire Strikes Back...</td>\n",
              "      <td>45313</td>\n",
              "      <td>4.188202</td>\n",
              "      <td>4.158653</td>\n",
              "    </tr>\n",
              "    <tr>\n",
              "      <th>349</th>\n",
              "      <td>593</td>\n",
              "      <td>Silence of the Lambs, The (1991)</td>\n",
              "      <td>63299</td>\n",
              "      <td>4.177057</td>\n",
              "      <td>4.155960</td>\n",
              "    </tr>\n",
              "    <tr>\n",
              "      <th>2526</th>\n",
              "      <td>58559</td>\n",
              "      <td>Dark Knight, The (2008)</td>\n",
              "      <td>20438</td>\n",
              "      <td>4.220129</td>\n",
              "      <td>4.154860</td>\n",
              "    </tr>\n",
              "    <tr>\n",
              "      <th>181</th>\n",
              "      <td>296</td>\n",
              "      <td>Pulp Fiction (1994)</td>\n",
              "      <td>67310</td>\n",
              "      <td>4.174231</td>\n",
              "      <td>4.154421</td>\n",
              "    </tr>\n",
              "    <tr>\n",
              "      <th>456</th>\n",
              "      <td>908</td>\n",
              "      <td>North by Northwest (1959)</td>\n",
              "      <td>15627</td>\n",
              "      <td>4.233538</td>\n",
              "      <td>4.148690</td>\n",
              "    </tr>\n",
              "    <tr>\n",
              "      <th>1948</th>\n",
              "      <td>4973</td>\n",
              "      <td>Amelie (Fabuleux destin d'Amélie Poulain, Le) ...</td>\n",
              "      <td>24349</td>\n",
              "      <td>4.197072</td>\n",
              "      <td>4.142926</td>\n",
              "    </tr>\n",
              "  </tbody>\n",
              "</table>\n",
              "</div>"
            ],
            "text/plain": [
              "      movieId  ...     score\n",
              "195       318  ...  4.420466\n",
              "439       858  ...  4.327039\n",
              "43         50  ...  4.301909\n",
              "313       527  ...  4.280253\n",
              "630      1221  ...  4.223672\n",
              "604      1193  ...  4.201478\n",
              "460       912  ...  4.201063\n",
              "1415     2959  ...  4.192632\n",
              "453       904  ...  4.192097\n",
              "401       750  ...  4.187975\n",
              "608      1198  ...  4.187222\n",
              "161       260  ...  4.165931\n",
              "1260     2571  ...  4.161042\n",
              "989      2019  ...  4.158842\n",
              "606      1196  ...  4.158653\n",
              "349       593  ...  4.155960\n",
              "2526    58559  ...  4.154860\n",
              "181       296  ...  4.154421\n",
              "456       908  ...  4.148690\n",
              "1948     4973  ...  4.142926\n",
              "\n",
              "[20 rows x 5 columns]"
            ]
          },
          "metadata": {
            "tags": []
          },
          "execution_count": 45
        }
      ]
    },
    {
      "cell_type": "code",
      "metadata": {
        "id": "2oHKUIQYW0iD",
        "colab_type": "code",
        "colab": {}
      },
      "source": [
        "def evaluate_RMSE(rating_avg, score):\n",
        "  import math\n",
        "  from sklearn.metrics import mean_squared_error\n",
        "\n",
        "  RMSE = math.sqrt(mean_squared_error(score, rating_avg))\n",
        "  print(f'Root Mean Square Error -->{RMSE}')"
      ],
      "execution_count": 0,
      "outputs": []
    },
    {
      "cell_type": "code",
      "metadata": {
        "id": "MrHz18cPYsAj",
        "colab_type": "code",
        "outputId": "98e80072-5c9f-45c1-abde-5ad2d4019e24",
        "colab": {
          "base_uri": "https://localhost:8080/",
          "height": 34
        }
      },
      "source": [
        "evaluate_RMSE(q_movies['rating_avg'], q_movies['score'])"
      ],
      "execution_count": 0,
      "outputs": [
        {
          "output_type": "stream",
          "text": [
            "Root Mean Square Error -->0.1640892271439859\n"
          ],
          "name": "stdout"
        }
      ]
    },
    {
      "cell_type": "code",
      "metadata": {
        "id": "NyjomiylaISl",
        "colab_type": "code",
        "colab": {}
      },
      "source": [
        "def evaluate_recall(rating_avg, score):\n",
        "  import math\n",
        "  from sklearn.metrics import recall_score\n",
        "\n",
        "  real_label = []\n",
        "  pred_label = []\n",
        "  for rating in rating_avg:\n",
        "    if rating > 3 : \n",
        "      real_label.append(1)\n",
        "    else:\n",
        "      real_label.append(0)\n",
        "  \n",
        "  for rating in score:\n",
        "    if rating > 3 : \n",
        "      pred_label.append(1)\n",
        "    else:\n",
        "      pred_label.append(0) \n",
        "  \n",
        "  recall = recall_score(real_label, pred_label)\n",
        "  print(f'Recall -->{recall}')"
      ],
      "execution_count": 0,
      "outputs": []
    },
    {
      "cell_type": "code",
      "metadata": {
        "id": "hPkBw507aWzJ",
        "colab_type": "code",
        "colab": {
          "base_uri": "https://localhost:8080/",
          "height": 34
        },
        "outputId": "1c368c26-bb5d-425d-9d5f-534b6c18971b"
      },
      "source": [
        "evaluate_recall(q_movies['rating_avg'], q_movies['score'])"
      ],
      "execution_count": 26,
      "outputs": [
        {
          "output_type": "stream",
          "text": [
            "Recall -->1.0\n"
          ],
          "name": "stdout"
        }
      ]
    },
    {
      "cell_type": "markdown",
      "metadata": {
        "colab_type": "text",
        "id": "dGmskKSRczm3"
      },
      "source": [
        "# 7. Content based Recommender System"
      ]
    },
    {
      "cell_type": "markdown",
      "metadata": {
        "colab_type": "text",
        "id": "lsQR08iPxJP-"
      },
      "source": [
        "## 7.1 Dataset configuration"
      ]
    },
    {
      "cell_type": "markdown",
      "metadata": {
        "colab_type": "text",
        "id": "f3K7UAGaAk4S"
      },
      "source": [
        "### 7.1.1 Content Data"
      ]
    },
    {
      "cell_type": "code",
      "metadata": {
        "id": "oxKelXBxeAbG",
        "colab_type": "code",
        "outputId": "f3cdd89e-7275-4fcc-c23f-8d27a5463124",
        "colab": {
          "base_uri": "https://localhost:8080/",
          "height": 204
        }
      },
      "source": [
        "data.head()"
      ],
      "execution_count": 0,
      "outputs": [
        {
          "output_type": "execute_result",
          "data": {
            "text/html": [
              "<div>\n",
              "<style scoped>\n",
              "    .dataframe tbody tr th:only-of-type {\n",
              "        vertical-align: middle;\n",
              "    }\n",
              "\n",
              "    .dataframe tbody tr th {\n",
              "        vertical-align: top;\n",
              "    }\n",
              "\n",
              "    .dataframe thead th {\n",
              "        text-align: right;\n",
              "    }\n",
              "</style>\n",
              "<table border=\"1\" class=\"dataframe\">\n",
              "  <thead>\n",
              "    <tr style=\"text-align: right;\">\n",
              "      <th></th>\n",
              "      <th>userId</th>\n",
              "      <th>movieId</th>\n",
              "      <th>rating</th>\n",
              "      <th>title</th>\n",
              "      <th>genres</th>\n",
              "      <th>tag</th>\n",
              "      <th>timestamp</th>\n",
              "    </tr>\n",
              "  </thead>\n",
              "  <tbody>\n",
              "    <tr>\n",
              "      <th>0</th>\n",
              "      <td>1</td>\n",
              "      <td>2</td>\n",
              "      <td>3.5</td>\n",
              "      <td>Jumanji (1995)</td>\n",
              "      <td>Adventure|Children|Fantasy</td>\n",
              "      <td>Mark Waters</td>\n",
              "      <td>1112486027</td>\n",
              "    </tr>\n",
              "    <tr>\n",
              "      <th>1</th>\n",
              "      <td>5</td>\n",
              "      <td>2</td>\n",
              "      <td>3.0</td>\n",
              "      <td>Jumanji (1995)</td>\n",
              "      <td>Adventure|Children|Fantasy</td>\n",
              "      <td>dark hero</td>\n",
              "      <td>851527569</td>\n",
              "    </tr>\n",
              "    <tr>\n",
              "      <th>2</th>\n",
              "      <td>13</td>\n",
              "      <td>2</td>\n",
              "      <td>3.0</td>\n",
              "      <td>Jumanji (1995)</td>\n",
              "      <td>Adventure|Children|Fantasy</td>\n",
              "      <td>dark hero</td>\n",
              "      <td>849082742</td>\n",
              "    </tr>\n",
              "    <tr>\n",
              "      <th>3</th>\n",
              "      <td>29</td>\n",
              "      <td>2</td>\n",
              "      <td>3.0</td>\n",
              "      <td>Jumanji (1995)</td>\n",
              "      <td>Adventure|Children|Fantasy</td>\n",
              "      <td>noir thriller</td>\n",
              "      <td>835562174</td>\n",
              "    </tr>\n",
              "    <tr>\n",
              "      <th>4</th>\n",
              "      <td>34</td>\n",
              "      <td>2</td>\n",
              "      <td>3.0</td>\n",
              "      <td>Jumanji (1995)</td>\n",
              "      <td>Adventure|Children|Fantasy</td>\n",
              "      <td>dark hero</td>\n",
              "      <td>846509384</td>\n",
              "    </tr>\n",
              "  </tbody>\n",
              "</table>\n",
              "</div>"
            ],
            "text/plain": [
              "   userId  movieId  ...            tag   timestamp\n",
              "0       1        2  ...    Mark Waters  1112486027\n",
              "1       5        2  ...      dark hero   851527569\n",
              "2      13        2  ...      dark hero   849082742\n",
              "3      29        2  ...  noir thriller   835562174\n",
              "4      34        2  ...      dark hero   846509384\n",
              "\n",
              "[5 rows x 7 columns]"
            ]
          },
          "metadata": {
            "tags": []
          },
          "execution_count": 28
        }
      ]
    },
    {
      "cell_type": "code",
      "metadata": {
        "id": "D86PK70Ngrm5",
        "colab_type": "code",
        "outputId": "6aa02df9-c3ee-4036-a7d0-9b1e87e8d182",
        "colab": {
          "base_uri": "https://localhost:8080/",
          "height": 204
        }
      },
      "source": [
        "contentdata = data[['movieId', 'title', 'genres']]\n",
        "contentdata.head()"
      ],
      "execution_count": 0,
      "outputs": [
        {
          "output_type": "execute_result",
          "data": {
            "text/html": [
              "<div>\n",
              "<style scoped>\n",
              "    .dataframe tbody tr th:only-of-type {\n",
              "        vertical-align: middle;\n",
              "    }\n",
              "\n",
              "    .dataframe tbody tr th {\n",
              "        vertical-align: top;\n",
              "    }\n",
              "\n",
              "    .dataframe thead th {\n",
              "        text-align: right;\n",
              "    }\n",
              "</style>\n",
              "<table border=\"1\" class=\"dataframe\">\n",
              "  <thead>\n",
              "    <tr style=\"text-align: right;\">\n",
              "      <th></th>\n",
              "      <th>movieId</th>\n",
              "      <th>title</th>\n",
              "      <th>genres</th>\n",
              "    </tr>\n",
              "  </thead>\n",
              "  <tbody>\n",
              "    <tr>\n",
              "      <th>0</th>\n",
              "      <td>2</td>\n",
              "      <td>Jumanji (1995)</td>\n",
              "      <td>Adventure|Children|Fantasy</td>\n",
              "    </tr>\n",
              "    <tr>\n",
              "      <th>1</th>\n",
              "      <td>2</td>\n",
              "      <td>Jumanji (1995)</td>\n",
              "      <td>Adventure|Children|Fantasy</td>\n",
              "    </tr>\n",
              "    <tr>\n",
              "      <th>2</th>\n",
              "      <td>2</td>\n",
              "      <td>Jumanji (1995)</td>\n",
              "      <td>Adventure|Children|Fantasy</td>\n",
              "    </tr>\n",
              "    <tr>\n",
              "      <th>3</th>\n",
              "      <td>2</td>\n",
              "      <td>Jumanji (1995)</td>\n",
              "      <td>Adventure|Children|Fantasy</td>\n",
              "    </tr>\n",
              "    <tr>\n",
              "      <th>4</th>\n",
              "      <td>2</td>\n",
              "      <td>Jumanji (1995)</td>\n",
              "      <td>Adventure|Children|Fantasy</td>\n",
              "    </tr>\n",
              "  </tbody>\n",
              "</table>\n",
              "</div>"
            ],
            "text/plain": [
              "   movieId           title                      genres\n",
              "0        2  Jumanji (1995)  Adventure|Children|Fantasy\n",
              "1        2  Jumanji (1995)  Adventure|Children|Fantasy\n",
              "2        2  Jumanji (1995)  Adventure|Children|Fantasy\n",
              "3        2  Jumanji (1995)  Adventure|Children|Fantasy\n",
              "4        2  Jumanji (1995)  Adventure|Children|Fantasy"
            ]
          },
          "metadata": {
            "tags": []
          },
          "execution_count": 17
        }
      ]
    },
    {
      "cell_type": "code",
      "metadata": {
        "id": "G4Hfpp5qhMs7",
        "colab_type": "code",
        "outputId": "5596febb-b440-47c3-9605-233d49e6aeb7",
        "colab": {
          "base_uri": "https://localhost:8080/",
          "height": 34
        }
      },
      "source": [
        "contentdata.shape"
      ],
      "execution_count": 0,
      "outputs": [
        {
          "output_type": "execute_result",
          "data": {
            "text/plain": [
              "(20000263, 3)"
            ]
          },
          "metadata": {
            "tags": []
          },
          "execution_count": 30
        }
      ]
    },
    {
      "cell_type": "code",
      "metadata": {
        "id": "enMFnzFhnFzf",
        "colab_type": "code",
        "outputId": "2224f556-8b1c-430c-c542-8c3e7e1702f6",
        "colab": {
          "base_uri": "https://localhost:8080/",
          "height": 204
        }
      },
      "source": [
        "contentdata = contentdata.drop_duplicates()\n",
        "contentdata.sort_values(by=['movieId'])\n",
        "contentdata.head()"
      ],
      "execution_count": 0,
      "outputs": [
        {
          "output_type": "execute_result",
          "data": {
            "text/html": [
              "<div>\n",
              "<style scoped>\n",
              "    .dataframe tbody tr th:only-of-type {\n",
              "        vertical-align: middle;\n",
              "    }\n",
              "\n",
              "    .dataframe tbody tr th {\n",
              "        vertical-align: top;\n",
              "    }\n",
              "\n",
              "    .dataframe thead th {\n",
              "        text-align: right;\n",
              "    }\n",
              "</style>\n",
              "<table border=\"1\" class=\"dataframe\">\n",
              "  <thead>\n",
              "    <tr style=\"text-align: right;\">\n",
              "      <th></th>\n",
              "      <th>movieId</th>\n",
              "      <th>title</th>\n",
              "      <th>genres</th>\n",
              "    </tr>\n",
              "  </thead>\n",
              "  <tbody>\n",
              "    <tr>\n",
              "      <th>0</th>\n",
              "      <td>2</td>\n",
              "      <td>Jumanji (1995)</td>\n",
              "      <td>Adventure|Children|Fantasy</td>\n",
              "    </tr>\n",
              "    <tr>\n",
              "      <th>22243</th>\n",
              "      <td>29</td>\n",
              "      <td>City of Lost Children, The (Cité des enfants p...</td>\n",
              "      <td>Adventure|Drama|Fantasy|Mystery|Sci-Fi</td>\n",
              "    </tr>\n",
              "    <tr>\n",
              "      <th>30763</th>\n",
              "      <td>32</td>\n",
              "      <td>Twelve Monkeys (a.k.a. 12 Monkeys) (1995)</td>\n",
              "      <td>Mystery|Sci-Fi|Thriller</td>\n",
              "    </tr>\n",
              "    <tr>\n",
              "      <th>75743</th>\n",
              "      <td>47</td>\n",
              "      <td>Seven (a.k.a. Se7en) (1995)</td>\n",
              "      <td>Mystery|Thriller</td>\n",
              "    </tr>\n",
              "    <tr>\n",
              "      <th>118992</th>\n",
              "      <td>50</td>\n",
              "      <td>Usual Suspects, The (1995)</td>\n",
              "      <td>Crime|Mystery|Thriller</td>\n",
              "    </tr>\n",
              "  </tbody>\n",
              "</table>\n",
              "</div>"
            ],
            "text/plain": [
              "        movieId  ...                                  genres\n",
              "0             2  ...              Adventure|Children|Fantasy\n",
              "22243        29  ...  Adventure|Drama|Fantasy|Mystery|Sci-Fi\n",
              "30763        32  ...                 Mystery|Sci-Fi|Thriller\n",
              "75743        47  ...                        Mystery|Thriller\n",
              "118992       50  ...                  Crime|Mystery|Thriller\n",
              "\n",
              "[5 rows x 3 columns]"
            ]
          },
          "metadata": {
            "tags": []
          },
          "execution_count": 18
        }
      ]
    },
    {
      "cell_type": "code",
      "metadata": {
        "colab_type": "code",
        "outputId": "db3ebd3d-013f-40e6-99b7-1b9b69cb865a",
        "id": "xym90-QYnJ61",
        "colab": {
          "base_uri": "https://localhost:8080/",
          "height": 34
        }
      },
      "source": [
        "contentdata.shape"
      ],
      "execution_count": 0,
      "outputs": [
        {
          "output_type": "execute_result",
          "data": {
            "text/plain": [
              "(26744, 3)"
            ]
          },
          "metadata": {
            "tags": []
          },
          "execution_count": 15
        }
      ]
    },
    {
      "cell_type": "code",
      "metadata": {
        "id": "oFajnUBAr073",
        "colab_type": "code",
        "colab": {}
      },
      "source": [
        "def clean_data(x):\n",
        "    if isinstance(x, list):\n",
        "        return [str.lower(i.replace(\" \", \" \")) for i in x]\n",
        "    else:\n",
        "        #Check if director exists. If not, return empty string\n",
        "        if isinstance(x, str):\n",
        "            return str.lower(x.replace(\" \", \" \"))\n",
        "        else:\n",
        "            return ''"
      ],
      "execution_count": 0,
      "outputs": []
    },
    {
      "cell_type": "code",
      "metadata": {
        "id": "cKIElcIHsKFv",
        "colab_type": "code",
        "colab": {}
      },
      "source": [
        "# Apply clean_data function to your features.\n",
        "features = ['genres']\n",
        "\n",
        "for feature in features:\n",
        "    contentdata[feature] = contentdata[feature].apply(clean_data)"
      ],
      "execution_count": 0,
      "outputs": []
    },
    {
      "cell_type": "code",
      "metadata": {
        "id": "3qftQII1quEI",
        "colab_type": "code",
        "outputId": "dabe4dff-4e83-4020-c7d6-0d2169bb5982",
        "colab": {
          "base_uri": "https://localhost:8080/",
          "height": 204
        }
      },
      "source": [
        "contentdata.head()"
      ],
      "execution_count": 0,
      "outputs": [
        {
          "output_type": "execute_result",
          "data": {
            "text/html": [
              "<div>\n",
              "<style scoped>\n",
              "    .dataframe tbody tr th:only-of-type {\n",
              "        vertical-align: middle;\n",
              "    }\n",
              "\n",
              "    .dataframe tbody tr th {\n",
              "        vertical-align: top;\n",
              "    }\n",
              "\n",
              "    .dataframe thead th {\n",
              "        text-align: right;\n",
              "    }\n",
              "</style>\n",
              "<table border=\"1\" class=\"dataframe\">\n",
              "  <thead>\n",
              "    <tr style=\"text-align: right;\">\n",
              "      <th></th>\n",
              "      <th>movieId</th>\n",
              "      <th>title</th>\n",
              "      <th>genres</th>\n",
              "    </tr>\n",
              "  </thead>\n",
              "  <tbody>\n",
              "    <tr>\n",
              "      <th>0</th>\n",
              "      <td>2</td>\n",
              "      <td>Jumanji (1995)</td>\n",
              "      <td>adventure|children|fantasy</td>\n",
              "    </tr>\n",
              "    <tr>\n",
              "      <th>22243</th>\n",
              "      <td>29</td>\n",
              "      <td>City of Lost Children, The (Cité des enfants p...</td>\n",
              "      <td>adventure|drama|fantasy|mystery|sci-fi</td>\n",
              "    </tr>\n",
              "    <tr>\n",
              "      <th>30763</th>\n",
              "      <td>32</td>\n",
              "      <td>Twelve Monkeys (a.k.a. 12 Monkeys) (1995)</td>\n",
              "      <td>mystery|sci-fi|thriller</td>\n",
              "    </tr>\n",
              "    <tr>\n",
              "      <th>75743</th>\n",
              "      <td>47</td>\n",
              "      <td>Seven (a.k.a. Se7en) (1995)</td>\n",
              "      <td>mystery|thriller</td>\n",
              "    </tr>\n",
              "    <tr>\n",
              "      <th>118992</th>\n",
              "      <td>50</td>\n",
              "      <td>Usual Suspects, The (1995)</td>\n",
              "      <td>crime|mystery|thriller</td>\n",
              "    </tr>\n",
              "  </tbody>\n",
              "</table>\n",
              "</div>"
            ],
            "text/plain": [
              "        movieId  ...                                  genres\n",
              "0             2  ...              adventure|children|fantasy\n",
              "22243        29  ...  adventure|drama|fantasy|mystery|sci-fi\n",
              "30763        32  ...                 mystery|sci-fi|thriller\n",
              "75743        47  ...                        mystery|thriller\n",
              "118992       50  ...                  crime|mystery|thriller\n",
              "\n",
              "[5 rows x 3 columns]"
            ]
          },
          "metadata": {
            "tags": []
          },
          "execution_count": 35
        }
      ]
    },
    {
      "cell_type": "code",
      "metadata": {
        "id": "ojl2PzAHuTcj",
        "colab_type": "code",
        "colab": {}
      },
      "source": [
        "contentdata.to_csv('contentdata.csv', index=False)"
      ],
      "execution_count": 0,
      "outputs": []
    },
    {
      "cell_type": "code",
      "metadata": {
        "id": "3pTOibzzvNKo",
        "colab_type": "code",
        "outputId": "af47ce8c-2e53-4c78-b71a-2a6be5f83aa6",
        "colab": {
          "base_uri": "https://localhost:8080/"
        }
      },
      "source": [
        "contentdata = pd.read_csv('contentdata.csv', low_memory=False)\n",
        "contentdata.head(10)"
      ],
      "execution_count": 0,
      "outputs": [
        {
          "output_type": "execute_result",
          "data": {
            "text/html": [
              "<div>\n",
              "<style scoped>\n",
              "    .dataframe tbody tr th:only-of-type {\n",
              "        vertical-align: middle;\n",
              "    }\n",
              "\n",
              "    .dataframe tbody tr th {\n",
              "        vertical-align: top;\n",
              "    }\n",
              "\n",
              "    .dataframe thead th {\n",
              "        text-align: right;\n",
              "    }\n",
              "</style>\n",
              "<table border=\"1\" class=\"dataframe\">\n",
              "  <thead>\n",
              "    <tr style=\"text-align: right;\">\n",
              "      <th></th>\n",
              "      <th>movieId</th>\n",
              "      <th>title</th>\n",
              "      <th>genres</th>\n",
              "    </tr>\n",
              "  </thead>\n",
              "  <tbody>\n",
              "    <tr>\n",
              "      <th>0</th>\n",
              "      <td>2</td>\n",
              "      <td>Jumanji (1995)</td>\n",
              "      <td>adventure children fantasy</td>\n",
              "    </tr>\n",
              "    <tr>\n",
              "      <th>1</th>\n",
              "      <td>29</td>\n",
              "      <td>City of Lost Children, The (Cité des enfants p...</td>\n",
              "      <td>adventure drama fantasy mystery sci-fi</td>\n",
              "    </tr>\n",
              "    <tr>\n",
              "      <th>2</th>\n",
              "      <td>32</td>\n",
              "      <td>Twelve Monkeys (a.k.a. 12 Monkeys) (1995)</td>\n",
              "      <td>mystery sci-fi thriller</td>\n",
              "    </tr>\n",
              "    <tr>\n",
              "      <th>3</th>\n",
              "      <td>47</td>\n",
              "      <td>Seven (a.k.a. Se7en) (1995)</td>\n",
              "      <td>mystery thriller</td>\n",
              "    </tr>\n",
              "    <tr>\n",
              "      <th>4</th>\n",
              "      <td>50</td>\n",
              "      <td>Usual Suspects, The (1995)</td>\n",
              "      <td>crime mystery thriller</td>\n",
              "    </tr>\n",
              "    <tr>\n",
              "      <th>5</th>\n",
              "      <td>112</td>\n",
              "      <td>Rumble in the Bronx (Hont faan kui) (1995)</td>\n",
              "      <td>action adventure comedy crime</td>\n",
              "    </tr>\n",
              "    <tr>\n",
              "      <th>6</th>\n",
              "      <td>151</td>\n",
              "      <td>Rob Roy (1995)</td>\n",
              "      <td>action drama romance war</td>\n",
              "    </tr>\n",
              "    <tr>\n",
              "      <th>7</th>\n",
              "      <td>223</td>\n",
              "      <td>Clerks (1994)</td>\n",
              "      <td>comedy</td>\n",
              "    </tr>\n",
              "    <tr>\n",
              "      <th>8</th>\n",
              "      <td>253</td>\n",
              "      <td>Interview with the Vampire: The Vampire Chroni...</td>\n",
              "      <td>drama horror</td>\n",
              "    </tr>\n",
              "    <tr>\n",
              "      <th>9</th>\n",
              "      <td>260</td>\n",
              "      <td>Star Wars: Episode IV - A New Hope (1977)</td>\n",
              "      <td>action adventure sci-fi</td>\n",
              "    </tr>\n",
              "  </tbody>\n",
              "</table>\n",
              "</div>"
            ],
            "text/plain": [
              "   movieId  ...                                  genres\n",
              "0        2  ...              adventure children fantasy\n",
              "1       29  ...  adventure drama fantasy mystery sci-fi\n",
              "2       32  ...                 mystery sci-fi thriller\n",
              "3       47  ...                        mystery thriller\n",
              "4       50  ...                  crime mystery thriller\n",
              "5      112  ...           action adventure comedy crime\n",
              "6      151  ...                action drama romance war\n",
              "7      223  ...                                  comedy\n",
              "8      253  ...                            drama horror\n",
              "9      260  ...                 action adventure sci-fi\n",
              "\n",
              "[10 rows x 3 columns]"
            ]
          },
          "metadata": {
            "tags": []
          },
          "execution_count": 6
        }
      ]
    },
    {
      "cell_type": "markdown",
      "metadata": {
        "colab_type": "text",
        "id": "GHSZqGkMAsK-"
      },
      "source": [
        "### 7.1.2 Tags Data"
      ]
    },
    {
      "cell_type": "code",
      "metadata": {
        "id": "arUtifOHttnD",
        "colab_type": "code",
        "outputId": "31a7c862-0573-4f3e-b79f-60dd7f92fb66",
        "colab": {
          "base_uri": "https://localhost:8080/",
          "height": 204
        }
      },
      "source": [
        "tagsdata = data[['movieId', 'title', 'tag']]\n",
        "tagsdata.head()"
      ],
      "execution_count": 0,
      "outputs": [
        {
          "output_type": "execute_result",
          "data": {
            "text/html": [
              "<div>\n",
              "<style scoped>\n",
              "    .dataframe tbody tr th:only-of-type {\n",
              "        vertical-align: middle;\n",
              "    }\n",
              "\n",
              "    .dataframe tbody tr th {\n",
              "        vertical-align: top;\n",
              "    }\n",
              "\n",
              "    .dataframe thead th {\n",
              "        text-align: right;\n",
              "    }\n",
              "</style>\n",
              "<table border=\"1\" class=\"dataframe\">\n",
              "  <thead>\n",
              "    <tr style=\"text-align: right;\">\n",
              "      <th></th>\n",
              "      <th>movieId</th>\n",
              "      <th>title</th>\n",
              "      <th>tag</th>\n",
              "    </tr>\n",
              "  </thead>\n",
              "  <tbody>\n",
              "    <tr>\n",
              "      <th>0</th>\n",
              "      <td>2</td>\n",
              "      <td>Jumanji (1995)</td>\n",
              "      <td>Mark Waters</td>\n",
              "    </tr>\n",
              "    <tr>\n",
              "      <th>1</th>\n",
              "      <td>2</td>\n",
              "      <td>Jumanji (1995)</td>\n",
              "      <td>dark hero</td>\n",
              "    </tr>\n",
              "    <tr>\n",
              "      <th>2</th>\n",
              "      <td>2</td>\n",
              "      <td>Jumanji (1995)</td>\n",
              "      <td>dark hero</td>\n",
              "    </tr>\n",
              "    <tr>\n",
              "      <th>3</th>\n",
              "      <td>2</td>\n",
              "      <td>Jumanji (1995)</td>\n",
              "      <td>noir thriller</td>\n",
              "    </tr>\n",
              "    <tr>\n",
              "      <th>4</th>\n",
              "      <td>2</td>\n",
              "      <td>Jumanji (1995)</td>\n",
              "      <td>dark hero</td>\n",
              "    </tr>\n",
              "  </tbody>\n",
              "</table>\n",
              "</div>"
            ],
            "text/plain": [
              "   movieId           title            tag\n",
              "0        2  Jumanji (1995)    Mark Waters\n",
              "1        2  Jumanji (1995)      dark hero\n",
              "2        2  Jumanji (1995)      dark hero\n",
              "3        2  Jumanji (1995)  noir thriller\n",
              "4        2  Jumanji (1995)      dark hero"
            ]
          },
          "metadata": {
            "tags": []
          },
          "execution_count": 20
        }
      ]
    },
    {
      "cell_type": "code",
      "metadata": {
        "id": "bDL3GVBEt7Q0",
        "colab_type": "code",
        "colab": {}
      },
      "source": [
        "tagsdata = tagsdata.drop_duplicates()"
      ],
      "execution_count": 0,
      "outputs": []
    },
    {
      "cell_type": "code",
      "metadata": {
        "id": "BPNlGPzSuW3a",
        "colab_type": "code",
        "colab": {}
      },
      "source": [
        "del tagsdata['title']"
      ],
      "execution_count": 0,
      "outputs": []
    },
    {
      "cell_type": "code",
      "metadata": {
        "id": "bz5mrmsZuhBq",
        "colab_type": "code",
        "outputId": "9200a851-7aec-47c9-8726-1f9e1ecc3d95",
        "colab": {
          "base_uri": "https://localhost:8080/",
          "height": 204
        }
      },
      "source": [
        "tagsdata.head()"
      ],
      "execution_count": 0,
      "outputs": [
        {
          "output_type": "execute_result",
          "data": {
            "text/html": [
              "<div>\n",
              "<style scoped>\n",
              "    .dataframe tbody tr th:only-of-type {\n",
              "        vertical-align: middle;\n",
              "    }\n",
              "\n",
              "    .dataframe tbody tr th {\n",
              "        vertical-align: top;\n",
              "    }\n",
              "\n",
              "    .dataframe thead th {\n",
              "        text-align: right;\n",
              "    }\n",
              "</style>\n",
              "<table border=\"1\" class=\"dataframe\">\n",
              "  <thead>\n",
              "    <tr style=\"text-align: right;\">\n",
              "      <th></th>\n",
              "      <th>movieId</th>\n",
              "      <th>tag</th>\n",
              "    </tr>\n",
              "  </thead>\n",
              "  <tbody>\n",
              "    <tr>\n",
              "      <th>0</th>\n",
              "      <td>2</td>\n",
              "      <td>Mark Waters</td>\n",
              "    </tr>\n",
              "    <tr>\n",
              "      <th>1</th>\n",
              "      <td>2</td>\n",
              "      <td>dark hero</td>\n",
              "    </tr>\n",
              "    <tr>\n",
              "      <th>3</th>\n",
              "      <td>2</td>\n",
              "      <td>noir thriller</td>\n",
              "    </tr>\n",
              "    <tr>\n",
              "      <th>5</th>\n",
              "      <td>2</td>\n",
              "      <td>bollywood</td>\n",
              "    </tr>\n",
              "    <tr>\n",
              "      <th>6</th>\n",
              "      <td>2</td>\n",
              "      <td>screwball comedy</td>\n",
              "    </tr>\n",
              "  </tbody>\n",
              "</table>\n",
              "</div>"
            ],
            "text/plain": [
              "   movieId               tag\n",
              "0        2       Mark Waters\n",
              "1        2         dark hero\n",
              "3        2     noir thriller\n",
              "5        2         bollywood\n",
              "6        2  screwball comedy"
            ]
          },
          "metadata": {
            "tags": []
          },
          "execution_count": 23
        }
      ]
    },
    {
      "cell_type": "code",
      "metadata": {
        "id": "4_WTurz7xAyu",
        "colab_type": "code",
        "outputId": "5b097eb6-cfd6-45bf-9985-e8498cd96b16",
        "colab": {
          "base_uri": "https://localhost:8080/"
        }
      },
      "source": [
        "tagsdata.shape"
      ],
      "execution_count": 0,
      "outputs": [
        {
          "output_type": "execute_result",
          "data": {
            "text/plain": [
              "(124677, 2)"
            ]
          },
          "metadata": {
            "tags": []
          },
          "execution_count": 16
        }
      ]
    },
    {
      "cell_type": "code",
      "metadata": {
        "id": "6bfpWc0fv3fs",
        "colab_type": "code",
        "colab": {}
      },
      "source": [
        "tagsdata['movieId'] = tagsdata['movieId'].astype('str')\n",
        "tagsdata['tag'] = tagsdata['tag'].astype('str')"
      ],
      "execution_count": 0,
      "outputs": []
    },
    {
      "cell_type": "code",
      "metadata": {
        "id": "-nV7HmYhwb17",
        "colab_type": "code",
        "colab": {}
      },
      "source": [
        "tagsdata['tag'] = tagsdata[['movieId','tag']].groupby(['movieId'])['tag'].transform(lambda x: ' '.join(x))\n",
        "tagsdata = tagsdata[['movieId','tag']].drop_duplicates()"
      ],
      "execution_count": 0,
      "outputs": []
    },
    {
      "cell_type": "code",
      "metadata": {
        "id": "ap83Oa08y0Vb",
        "colab_type": "code",
        "outputId": "de747a39-88de-4c26-9338-508efa5a72f5",
        "colab": {
          "base_uri": "https://localhost:8080/"
        }
      },
      "source": [
        "tagsdata.head(10)"
      ],
      "execution_count": 0,
      "outputs": [
        {
          "output_type": "execute_result",
          "data": {
            "text/html": [
              "<div>\n",
              "<style scoped>\n",
              "    .dataframe tbody tr th:only-of-type {\n",
              "        vertical-align: middle;\n",
              "    }\n",
              "\n",
              "    .dataframe tbody tr th {\n",
              "        vertical-align: top;\n",
              "    }\n",
              "\n",
              "    .dataframe thead th {\n",
              "        text-align: right;\n",
              "    }\n",
              "</style>\n",
              "<table border=\"1\" class=\"dataframe\">\n",
              "  <thead>\n",
              "    <tr style=\"text-align: right;\">\n",
              "      <th></th>\n",
              "      <th>movieId</th>\n",
              "      <th>tag</th>\n",
              "    </tr>\n",
              "  </thead>\n",
              "  <tbody>\n",
              "    <tr>\n",
              "      <th>0</th>\n",
              "      <td>2</td>\n",
              "      <td>Mark Waters dark hero noir thriller bollywood ...</td>\n",
              "    </tr>\n",
              "    <tr>\n",
              "      <th>22243</th>\n",
              "      <td>29</td>\n",
              "      <td>Roman Polanski Biopic Tim Burton based on true...</td>\n",
              "    </tr>\n",
              "    <tr>\n",
              "      <th>30763</th>\n",
              "      <td>32</td>\n",
              "      <td>sequel adapted from:book based on a book chees...</td>\n",
              "    </tr>\n",
              "    <tr>\n",
              "      <th>75743</th>\n",
              "      <td>47</td>\n",
              "      <td>psychology dark stylized visually appealing no...</td>\n",
              "    </tr>\n",
              "    <tr>\n",
              "      <th>118992</th>\n",
              "      <td>50</td>\n",
              "      <td>tedious gangsters London organized crime unpre...</td>\n",
              "    </tr>\n",
              "    <tr>\n",
              "      <th>165998</th>\n",
              "      <td>112</td>\n",
              "      <td>Albert Dupontel Action break-up Catherine Zeta...</td>\n",
              "    </tr>\n",
              "    <tr>\n",
              "      <th>177888</th>\n",
              "      <td>151</td>\n",
              "      <td>call center comedy culture clash culture shock...</td>\n",
              "    </tr>\n",
              "    <tr>\n",
              "      <th>190504</th>\n",
              "      <td>223</td>\n",
              "      <td>Tom Cruise classic disturbing horror John Carp...</td>\n",
              "    </tr>\n",
              "    <tr>\n",
              "      <th>214199</th>\n",
              "      <td>253</td>\n",
              "      <td>bittersweet great acting Paul Newman Robert Re...</td>\n",
              "    </tr>\n",
              "    <tr>\n",
              "      <th>241767</th>\n",
              "      <td>260</td>\n",
              "      <td>Masahiro Hosoda Juan José Campanella Wesley Ru...</td>\n",
              "    </tr>\n",
              "  </tbody>\n",
              "</table>\n",
              "</div>"
            ],
            "text/plain": [
              "       movieId                                                tag\n",
              "0            2  Mark Waters dark hero noir thriller bollywood ...\n",
              "22243       29  Roman Polanski Biopic Tim Burton based on true...\n",
              "30763       32  sequel adapted from:book based on a book chees...\n",
              "75743       47  psychology dark stylized visually appealing no...\n",
              "118992      50  tedious gangsters London organized crime unpre...\n",
              "165998     112  Albert Dupontel Action break-up Catherine Zeta...\n",
              "177888     151  call center comedy culture clash culture shock...\n",
              "190504     223  Tom Cruise classic disturbing horror John Carp...\n",
              "214199     253  bittersweet great acting Paul Newman Robert Re...\n",
              "241767     260  Masahiro Hosoda Juan José Campanella Wesley Ru..."
            ]
          },
          "metadata": {
            "tags": []
          },
          "execution_count": 19
        }
      ]
    },
    {
      "cell_type": "code",
      "metadata": {
        "id": "0REI-C-wy32V",
        "colab_type": "code",
        "outputId": "9e947432-67c4-48eb-a723-4a6d09261b9d",
        "colab": {
          "base_uri": "https://localhost:8080/",
          "height": 34
        }
      },
      "source": [
        "tagsdata.shape"
      ],
      "execution_count": 0,
      "outputs": [
        {
          "output_type": "execute_result",
          "data": {
            "text/plain": [
              "(26744, 2)"
            ]
          },
          "metadata": {
            "tags": []
          },
          "execution_count": 27
        }
      ]
    },
    {
      "cell_type": "code",
      "metadata": {
        "id": "BJ4Nh1MJzKG8",
        "colab_type": "code",
        "colab": {}
      },
      "source": [
        "tagsdata[\"tag\"] = tagsdata[\"tag\"].str.lower()"
      ],
      "execution_count": 0,
      "outputs": []
    },
    {
      "cell_type": "code",
      "metadata": {
        "colab_type": "code",
        "outputId": "12eff083-04ee-462c-93dd-d83ee13ad639",
        "id": "BtEgyKWgzTG6",
        "colab": {
          "base_uri": "https://localhost:8080/",
          "height": 359
        }
      },
      "source": [
        "tagsdata.head(10)"
      ],
      "execution_count": 0,
      "outputs": [
        {
          "output_type": "execute_result",
          "data": {
            "text/html": [
              "<div>\n",
              "<style scoped>\n",
              "    .dataframe tbody tr th:only-of-type {\n",
              "        vertical-align: middle;\n",
              "    }\n",
              "\n",
              "    .dataframe tbody tr th {\n",
              "        vertical-align: top;\n",
              "    }\n",
              "\n",
              "    .dataframe thead th {\n",
              "        text-align: right;\n",
              "    }\n",
              "</style>\n",
              "<table border=\"1\" class=\"dataframe\">\n",
              "  <thead>\n",
              "    <tr style=\"text-align: right;\">\n",
              "      <th></th>\n",
              "      <th>movieId</th>\n",
              "      <th>tag</th>\n",
              "    </tr>\n",
              "  </thead>\n",
              "  <tbody>\n",
              "    <tr>\n",
              "      <th>0</th>\n",
              "      <td>2</td>\n",
              "      <td>mark waters dark hero noir thriller bollywood ...</td>\n",
              "    </tr>\n",
              "    <tr>\n",
              "      <th>22243</th>\n",
              "      <td>29</td>\n",
              "      <td>roman polanski biopic tim burton based on true...</td>\n",
              "    </tr>\n",
              "    <tr>\n",
              "      <th>30763</th>\n",
              "      <td>32</td>\n",
              "      <td>sequel adapted from:book based on a book chees...</td>\n",
              "    </tr>\n",
              "    <tr>\n",
              "      <th>75743</th>\n",
              "      <td>47</td>\n",
              "      <td>psychology dark stylized visually appealing no...</td>\n",
              "    </tr>\n",
              "    <tr>\n",
              "      <th>118992</th>\n",
              "      <td>50</td>\n",
              "      <td>tedious gangsters london organized crime unpre...</td>\n",
              "    </tr>\n",
              "    <tr>\n",
              "      <th>165998</th>\n",
              "      <td>112</td>\n",
              "      <td>albert dupontel action break-up catherine zeta...</td>\n",
              "    </tr>\n",
              "    <tr>\n",
              "      <th>177888</th>\n",
              "      <td>151</td>\n",
              "      <td>call center comedy culture clash culture shock...</td>\n",
              "    </tr>\n",
              "    <tr>\n",
              "      <th>190504</th>\n",
              "      <td>223</td>\n",
              "      <td>tom cruise classic disturbing horror john carp...</td>\n",
              "    </tr>\n",
              "    <tr>\n",
              "      <th>214199</th>\n",
              "      <td>253</td>\n",
              "      <td>bittersweet great acting paul newman robert re...</td>\n",
              "    </tr>\n",
              "    <tr>\n",
              "      <th>241767</th>\n",
              "      <td>260</td>\n",
              "      <td>masahiro hosoda juan josé campanella wesley ru...</td>\n",
              "    </tr>\n",
              "  </tbody>\n",
              "</table>\n",
              "</div>"
            ],
            "text/plain": [
              "       movieId                                                tag\n",
              "0            2  mark waters dark hero noir thriller bollywood ...\n",
              "22243       29  roman polanski biopic tim burton based on true...\n",
              "30763       32  sequel adapted from:book based on a book chees...\n",
              "75743       47  psychology dark stylized visually appealing no...\n",
              "118992      50  tedious gangsters london organized crime unpre...\n",
              "165998     112  albert dupontel action break-up catherine zeta...\n",
              "177888     151  call center comedy culture clash culture shock...\n",
              "190504     223  tom cruise classic disturbing horror john carp...\n",
              "214199     253  bittersweet great acting paul newman robert re...\n",
              "241767     260  masahiro hosoda juan josé campanella wesley ru..."
            ]
          },
          "metadata": {
            "tags": []
          },
          "execution_count": 27
        }
      ]
    },
    {
      "cell_type": "code",
      "metadata": {
        "colab_type": "code",
        "id": "7YCDe7KK7bQb",
        "colab": {}
      },
      "source": [
        "tagsdata.to_csv('tagsdata.csv', index=False)"
      ],
      "execution_count": 0,
      "outputs": []
    },
    {
      "cell_type": "code",
      "metadata": {
        "colab_type": "code",
        "outputId": "dc00efe0-8be5-402b-f2f2-ec55ce565594",
        "id": "iyEshoCx7bQs",
        "colab": {
          "base_uri": "https://localhost:8080/",
          "height": 359
        }
      },
      "source": [
        "tagsdata = pd.read_csv('tagsdata.csv', low_memory=False)\n",
        "tagsdata.head(10)"
      ],
      "execution_count": 0,
      "outputs": [
        {
          "output_type": "execute_result",
          "data": {
            "text/html": [
              "<div>\n",
              "<style scoped>\n",
              "    .dataframe tbody tr th:only-of-type {\n",
              "        vertical-align: middle;\n",
              "    }\n",
              "\n",
              "    .dataframe tbody tr th {\n",
              "        vertical-align: top;\n",
              "    }\n",
              "\n",
              "    .dataframe thead th {\n",
              "        text-align: right;\n",
              "    }\n",
              "</style>\n",
              "<table border=\"1\" class=\"dataframe\">\n",
              "  <thead>\n",
              "    <tr style=\"text-align: right;\">\n",
              "      <th></th>\n",
              "      <th>movieId</th>\n",
              "      <th>tag</th>\n",
              "    </tr>\n",
              "  </thead>\n",
              "  <tbody>\n",
              "    <tr>\n",
              "      <th>0</th>\n",
              "      <td>2</td>\n",
              "      <td>mark waters dark hero noir thriller bollywood ...</td>\n",
              "    </tr>\n",
              "    <tr>\n",
              "      <th>1</th>\n",
              "      <td>29</td>\n",
              "      <td>roman polanski biopic tim burton based on true...</td>\n",
              "    </tr>\n",
              "    <tr>\n",
              "      <th>2</th>\n",
              "      <td>32</td>\n",
              "      <td>sequel adapted from:book based on a book chees...</td>\n",
              "    </tr>\n",
              "    <tr>\n",
              "      <th>3</th>\n",
              "      <td>47</td>\n",
              "      <td>psychology dark stylized visually appealing no...</td>\n",
              "    </tr>\n",
              "    <tr>\n",
              "      <th>4</th>\n",
              "      <td>50</td>\n",
              "      <td>tedious gangsters london organized crime unpre...</td>\n",
              "    </tr>\n",
              "    <tr>\n",
              "      <th>5</th>\n",
              "      <td>112</td>\n",
              "      <td>albert dupontel action break-up catherine zeta...</td>\n",
              "    </tr>\n",
              "    <tr>\n",
              "      <th>6</th>\n",
              "      <td>151</td>\n",
              "      <td>call center comedy culture clash culture shock...</td>\n",
              "    </tr>\n",
              "    <tr>\n",
              "      <th>7</th>\n",
              "      <td>223</td>\n",
              "      <td>tom cruise classic disturbing horror john carp...</td>\n",
              "    </tr>\n",
              "    <tr>\n",
              "      <th>8</th>\n",
              "      <td>253</td>\n",
              "      <td>bittersweet great acting paul newman robert re...</td>\n",
              "    </tr>\n",
              "    <tr>\n",
              "      <th>9</th>\n",
              "      <td>260</td>\n",
              "      <td>masahiro hosoda juan josé campanella wesley ru...</td>\n",
              "    </tr>\n",
              "  </tbody>\n",
              "</table>\n",
              "</div>"
            ],
            "text/plain": [
              "   movieId                                                tag\n",
              "0        2  mark waters dark hero noir thriller bollywood ...\n",
              "1       29  roman polanski biopic tim burton based on true...\n",
              "2       32  sequel adapted from:book based on a book chees...\n",
              "3       47  psychology dark stylized visually appealing no...\n",
              "4       50  tedious gangsters london organized crime unpre...\n",
              "5      112  albert dupontel action break-up catherine zeta...\n",
              "6      151  call center comedy culture clash culture shock...\n",
              "7      223  tom cruise classic disturbing horror john carp...\n",
              "8      253  bittersweet great acting paul newman robert re...\n",
              "9      260  masahiro hosoda juan josé campanella wesley ru..."
            ]
          },
          "metadata": {
            "tags": []
          },
          "execution_count": 7
        }
      ]
    },
    {
      "cell_type": "markdown",
      "metadata": {
        "colab_type": "text",
        "id": "TeFCeREcAxvX"
      },
      "source": [
        "### 7.1.3 Soup Data"
      ]
    },
    {
      "cell_type": "code",
      "metadata": {
        "colab_type": "code",
        "outputId": "c2fdc537-919d-4195-99fc-f46f9d03a42c",
        "id": "FBa7xfnAuoS_",
        "colab": {
          "base_uri": "https://localhost:8080/"
        }
      },
      "source": [
        "contentdata.head(10)"
      ],
      "execution_count": 0,
      "outputs": [
        {
          "output_type": "execute_result",
          "data": {
            "text/html": [
              "<div>\n",
              "<style scoped>\n",
              "    .dataframe tbody tr th:only-of-type {\n",
              "        vertical-align: middle;\n",
              "    }\n",
              "\n",
              "    .dataframe tbody tr th {\n",
              "        vertical-align: top;\n",
              "    }\n",
              "\n",
              "    .dataframe thead th {\n",
              "        text-align: right;\n",
              "    }\n",
              "</style>\n",
              "<table border=\"1\" class=\"dataframe\">\n",
              "  <thead>\n",
              "    <tr style=\"text-align: right;\">\n",
              "      <th></th>\n",
              "      <th>movieId</th>\n",
              "      <th>title</th>\n",
              "      <th>genres</th>\n",
              "    </tr>\n",
              "  </thead>\n",
              "  <tbody>\n",
              "    <tr>\n",
              "      <th>0</th>\n",
              "      <td>2</td>\n",
              "      <td>Jumanji (1995)</td>\n",
              "      <td>adventure children fantasy</td>\n",
              "    </tr>\n",
              "    <tr>\n",
              "      <th>1</th>\n",
              "      <td>29</td>\n",
              "      <td>City of Lost Children, The (Cité des enfants p...</td>\n",
              "      <td>adventure drama fantasy mystery sci-fi</td>\n",
              "    </tr>\n",
              "    <tr>\n",
              "      <th>2</th>\n",
              "      <td>32</td>\n",
              "      <td>Twelve Monkeys (a.k.a. 12 Monkeys) (1995)</td>\n",
              "      <td>mystery sci-fi thriller</td>\n",
              "    </tr>\n",
              "    <tr>\n",
              "      <th>3</th>\n",
              "      <td>47</td>\n",
              "      <td>Seven (a.k.a. Se7en) (1995)</td>\n",
              "      <td>mystery thriller</td>\n",
              "    </tr>\n",
              "    <tr>\n",
              "      <th>4</th>\n",
              "      <td>50</td>\n",
              "      <td>Usual Suspects, The (1995)</td>\n",
              "      <td>crime mystery thriller</td>\n",
              "    </tr>\n",
              "    <tr>\n",
              "      <th>5</th>\n",
              "      <td>112</td>\n",
              "      <td>Rumble in the Bronx (Hont faan kui) (1995)</td>\n",
              "      <td>action adventure comedy crime</td>\n",
              "    </tr>\n",
              "    <tr>\n",
              "      <th>6</th>\n",
              "      <td>151</td>\n",
              "      <td>Rob Roy (1995)</td>\n",
              "      <td>action drama romance war</td>\n",
              "    </tr>\n",
              "    <tr>\n",
              "      <th>7</th>\n",
              "      <td>223</td>\n",
              "      <td>Clerks (1994)</td>\n",
              "      <td>comedy</td>\n",
              "    </tr>\n",
              "    <tr>\n",
              "      <th>8</th>\n",
              "      <td>253</td>\n",
              "      <td>Interview with the Vampire: The Vampire Chroni...</td>\n",
              "      <td>drama horror</td>\n",
              "    </tr>\n",
              "    <tr>\n",
              "      <th>9</th>\n",
              "      <td>260</td>\n",
              "      <td>Star Wars: Episode IV - A New Hope (1977)</td>\n",
              "      <td>action adventure sci-fi</td>\n",
              "    </tr>\n",
              "  </tbody>\n",
              "</table>\n",
              "</div>"
            ],
            "text/plain": [
              "   movieId  ...                                  genres\n",
              "0        2  ...              adventure children fantasy\n",
              "1       29  ...  adventure drama fantasy mystery sci-fi\n",
              "2       32  ...                 mystery sci-fi thriller\n",
              "3       47  ...                        mystery thriller\n",
              "4       50  ...                  crime mystery thriller\n",
              "5      112  ...           action adventure comedy crime\n",
              "6      151  ...                action drama romance war\n",
              "7      223  ...                                  comedy\n",
              "8      253  ...                            drama horror\n",
              "9      260  ...                 action adventure sci-fi\n",
              "\n",
              "[10 rows x 3 columns]"
            ]
          },
          "metadata": {
            "tags": []
          },
          "execution_count": 24
        }
      ]
    },
    {
      "cell_type": "code",
      "metadata": {
        "colab_type": "code",
        "outputId": "263fa093-da37-4d73-df9c-06c7bf2d7093",
        "id": "VFJY7oFZA3mE",
        "colab": {
          "base_uri": "https://localhost:8080/"
        }
      },
      "source": [
        "tagsdata.head(10)"
      ],
      "execution_count": 0,
      "outputs": [
        {
          "output_type": "execute_result",
          "data": {
            "text/html": [
              "<div>\n",
              "<style scoped>\n",
              "    .dataframe tbody tr th:only-of-type {\n",
              "        vertical-align: middle;\n",
              "    }\n",
              "\n",
              "    .dataframe tbody tr th {\n",
              "        vertical-align: top;\n",
              "    }\n",
              "\n",
              "    .dataframe thead th {\n",
              "        text-align: right;\n",
              "    }\n",
              "</style>\n",
              "<table border=\"1\" class=\"dataframe\">\n",
              "  <thead>\n",
              "    <tr style=\"text-align: right;\">\n",
              "      <th></th>\n",
              "      <th>movieId</th>\n",
              "      <th>tag</th>\n",
              "    </tr>\n",
              "  </thead>\n",
              "  <tbody>\n",
              "    <tr>\n",
              "      <th>0</th>\n",
              "      <td>2</td>\n",
              "      <td>mark waters dark hero noir thriller bollywood ...</td>\n",
              "    </tr>\n",
              "    <tr>\n",
              "      <th>1</th>\n",
              "      <td>29</td>\n",
              "      <td>roman polanski biopic tim burton based on true...</td>\n",
              "    </tr>\n",
              "    <tr>\n",
              "      <th>2</th>\n",
              "      <td>32</td>\n",
              "      <td>sequel adapted from:book based on a book chees...</td>\n",
              "    </tr>\n",
              "    <tr>\n",
              "      <th>3</th>\n",
              "      <td>47</td>\n",
              "      <td>psychology dark stylized visually appealing no...</td>\n",
              "    </tr>\n",
              "    <tr>\n",
              "      <th>4</th>\n",
              "      <td>50</td>\n",
              "      <td>tedious gangsters london organized crime unpre...</td>\n",
              "    </tr>\n",
              "    <tr>\n",
              "      <th>5</th>\n",
              "      <td>112</td>\n",
              "      <td>albert dupontel action break-up catherine zeta...</td>\n",
              "    </tr>\n",
              "    <tr>\n",
              "      <th>6</th>\n",
              "      <td>151</td>\n",
              "      <td>call center comedy culture clash culture shock...</td>\n",
              "    </tr>\n",
              "    <tr>\n",
              "      <th>7</th>\n",
              "      <td>223</td>\n",
              "      <td>tom cruise classic disturbing horror john carp...</td>\n",
              "    </tr>\n",
              "    <tr>\n",
              "      <th>8</th>\n",
              "      <td>253</td>\n",
              "      <td>bittersweet great acting paul newman robert re...</td>\n",
              "    </tr>\n",
              "    <tr>\n",
              "      <th>9</th>\n",
              "      <td>260</td>\n",
              "      <td>masahiro hosoda juan josé campanella wesley ru...</td>\n",
              "    </tr>\n",
              "  </tbody>\n",
              "</table>\n",
              "</div>"
            ],
            "text/plain": [
              "   movieId                                                tag\n",
              "0        2  mark waters dark hero noir thriller bollywood ...\n",
              "1       29  roman polanski biopic tim burton based on true...\n",
              "2       32  sequel adapted from:book based on a book chees...\n",
              "3       47  psychology dark stylized visually appealing no...\n",
              "4       50  tedious gangsters london organized crime unpre...\n",
              "5      112  albert dupontel action break-up catherine zeta...\n",
              "6      151  call center comedy culture clash culture shock...\n",
              "7      223  tom cruise classic disturbing horror john carp...\n",
              "8      253  bittersweet great acting paul newman robert re...\n",
              "9      260  masahiro hosoda juan josé campanella wesley ru..."
            ]
          },
          "metadata": {
            "tags": []
          },
          "execution_count": 21
        }
      ]
    },
    {
      "cell_type": "code",
      "metadata": {
        "id": "6lWMerupz_mD",
        "colab_type": "code",
        "colab": {}
      },
      "source": [
        "contentdata['movieId'] = contentdata['movieId'].astype('int')\n",
        "tagsdata['movieId'] = tagsdata['movieId'].astype('int')"
      ],
      "execution_count": 0,
      "outputs": []
    },
    {
      "cell_type": "code",
      "metadata": {
        "id": "OTnPtm5y0NKs",
        "colab_type": "code",
        "outputId": "c931f185-e48e-4cca-9212-54d32231150b",
        "colab": {
          "base_uri": "https://localhost:8080/",
          "height": 359
        }
      },
      "source": [
        "soupdata =[]\n",
        "soupdata = contentdata.merge(tagsdata, on='movieId')\n",
        "soupdata.head(10)"
      ],
      "execution_count": 0,
      "outputs": [
        {
          "output_type": "execute_result",
          "data": {
            "text/html": [
              "<div>\n",
              "<style scoped>\n",
              "    .dataframe tbody tr th:only-of-type {\n",
              "        vertical-align: middle;\n",
              "    }\n",
              "\n",
              "    .dataframe tbody tr th {\n",
              "        vertical-align: top;\n",
              "    }\n",
              "\n",
              "    .dataframe thead th {\n",
              "        text-align: right;\n",
              "    }\n",
              "</style>\n",
              "<table border=\"1\" class=\"dataframe\">\n",
              "  <thead>\n",
              "    <tr style=\"text-align: right;\">\n",
              "      <th></th>\n",
              "      <th>index</th>\n",
              "      <th>movieId</th>\n",
              "      <th>title</th>\n",
              "      <th>genres</th>\n",
              "      <th>tag</th>\n",
              "    </tr>\n",
              "  </thead>\n",
              "  <tbody>\n",
              "    <tr>\n",
              "      <th>0</th>\n",
              "      <td>0</td>\n",
              "      <td>2</td>\n",
              "      <td>Jumanji (1995)</td>\n",
              "      <td>adventure children fantasy</td>\n",
              "      <td>mark waters dark hero noir thriller bollywood ...</td>\n",
              "    </tr>\n",
              "    <tr>\n",
              "      <th>1</th>\n",
              "      <td>1</td>\n",
              "      <td>29</td>\n",
              "      <td>City of Lost Children, The (Cité des enfants p...</td>\n",
              "      <td>adventure drama fantasy mystery sci-fi</td>\n",
              "      <td>roman polanski biopic tim burton based on true...</td>\n",
              "    </tr>\n",
              "    <tr>\n",
              "      <th>2</th>\n",
              "      <td>2</td>\n",
              "      <td>32</td>\n",
              "      <td>Twelve Monkeys (a.k.a. 12 Monkeys) (1995)</td>\n",
              "      <td>mystery sci-fi thriller</td>\n",
              "      <td>sequel adapted from:book based on a book chees...</td>\n",
              "    </tr>\n",
              "    <tr>\n",
              "      <th>3</th>\n",
              "      <td>3</td>\n",
              "      <td>47</td>\n",
              "      <td>Seven (a.k.a. Se7en) (1995)</td>\n",
              "      <td>mystery thriller</td>\n",
              "      <td>psychology dark stylized visually appealing no...</td>\n",
              "    </tr>\n",
              "    <tr>\n",
              "      <th>4</th>\n",
              "      <td>4</td>\n",
              "      <td>50</td>\n",
              "      <td>Usual Suspects, The (1995)</td>\n",
              "      <td>crime mystery thriller</td>\n",
              "      <td>tedious gangsters london organized crime unpre...</td>\n",
              "    </tr>\n",
              "    <tr>\n",
              "      <th>5</th>\n",
              "      <td>5</td>\n",
              "      <td>112</td>\n",
              "      <td>Rumble in the Bronx (Hont faan kui) (1995)</td>\n",
              "      <td>action adventure comedy crime</td>\n",
              "      <td>albert dupontel action break-up catherine zeta...</td>\n",
              "    </tr>\n",
              "    <tr>\n",
              "      <th>6</th>\n",
              "      <td>6</td>\n",
              "      <td>151</td>\n",
              "      <td>Rob Roy (1995)</td>\n",
              "      <td>action drama romance war</td>\n",
              "      <td>call center comedy culture clash culture shock...</td>\n",
              "    </tr>\n",
              "    <tr>\n",
              "      <th>7</th>\n",
              "      <td>7</td>\n",
              "      <td>223</td>\n",
              "      <td>Clerks (1994)</td>\n",
              "      <td>comedy</td>\n",
              "      <td>tom cruise classic disturbing horror john carp...</td>\n",
              "    </tr>\n",
              "    <tr>\n",
              "      <th>8</th>\n",
              "      <td>8</td>\n",
              "      <td>253</td>\n",
              "      <td>Interview with the Vampire: The Vampire Chroni...</td>\n",
              "      <td>drama horror</td>\n",
              "      <td>bittersweet great acting paul newman robert re...</td>\n",
              "    </tr>\n",
              "    <tr>\n",
              "      <th>9</th>\n",
              "      <td>9</td>\n",
              "      <td>260</td>\n",
              "      <td>Star Wars: Episode IV - A New Hope (1977)</td>\n",
              "      <td>action adventure sci-fi</td>\n",
              "      <td>masahiro hosoda juan josé campanella wesley ru...</td>\n",
              "    </tr>\n",
              "  </tbody>\n",
              "</table>\n",
              "</div>"
            ],
            "text/plain": [
              "   index  ...                                                tag\n",
              "0      0  ...  mark waters dark hero noir thriller bollywood ...\n",
              "1      1  ...  roman polanski biopic tim burton based on true...\n",
              "2      2  ...  sequel adapted from:book based on a book chees...\n",
              "3      3  ...  psychology dark stylized visually appealing no...\n",
              "4      4  ...  tedious gangsters london organized crime unpre...\n",
              "5      5  ...  albert dupontel action break-up catherine zeta...\n",
              "6      6  ...  call center comedy culture clash culture shock...\n",
              "7      7  ...  tom cruise classic disturbing horror john carp...\n",
              "8      8  ...  bittersweet great acting paul newman robert re...\n",
              "9      9  ...  masahiro hosoda juan josé campanella wesley ru...\n",
              "\n",
              "[10 rows x 5 columns]"
            ]
          },
          "metadata": {
            "tags": []
          },
          "execution_count": 73
        }
      ]
    },
    {
      "cell_type": "code",
      "metadata": {
        "colab_type": "code",
        "id": "yTIl76Fl2UtO",
        "colab": {}
      },
      "source": [
        "soupdata.to_csv('soupdata.csv', index=False)"
      ],
      "execution_count": 0,
      "outputs": []
    },
    {
      "cell_type": "code",
      "metadata": {
        "colab_type": "code",
        "outputId": "a9bf248c-3bf0-4d3a-aedf-0d25e2467a56",
        "id": "3MTji8Nm2UtZ",
        "colab": {
          "base_uri": "https://localhost:8080/",
          "height": 444
        }
      },
      "source": [
        "soupdata = pd.read_csv('soupdata.csv', low_memory=False)\n",
        "soupdata.head(10)"
      ],
      "execution_count": 0,
      "outputs": [
        {
          "output_type": "execute_result",
          "data": {
            "text/html": [
              "<div>\n",
              "<style scoped>\n",
              "    .dataframe tbody tr th:only-of-type {\n",
              "        vertical-align: middle;\n",
              "    }\n",
              "\n",
              "    .dataframe tbody tr th {\n",
              "        vertical-align: top;\n",
              "    }\n",
              "\n",
              "    .dataframe thead th {\n",
              "        text-align: right;\n",
              "    }\n",
              "</style>\n",
              "<table border=\"1\" class=\"dataframe\">\n",
              "  <thead>\n",
              "    <tr style=\"text-align: right;\">\n",
              "      <th></th>\n",
              "      <th>movieId</th>\n",
              "      <th>title</th>\n",
              "      <th>genres</th>\n",
              "      <th>tag</th>\n",
              "    </tr>\n",
              "  </thead>\n",
              "  <tbody>\n",
              "    <tr>\n",
              "      <th>0</th>\n",
              "      <td>2</td>\n",
              "      <td>Jumanji (1995)</td>\n",
              "      <td>adventure children fantasy</td>\n",
              "      <td>mark waters dark hero noir thriller bollywood ...</td>\n",
              "    </tr>\n",
              "    <tr>\n",
              "      <th>1</th>\n",
              "      <td>29</td>\n",
              "      <td>City of Lost Children, The (Cité des enfants p...</td>\n",
              "      <td>adventure drama fantasy mystery sci-fi</td>\n",
              "      <td>roman polanski biopic tim burton based on true...</td>\n",
              "    </tr>\n",
              "    <tr>\n",
              "      <th>2</th>\n",
              "      <td>32</td>\n",
              "      <td>Twelve Monkeys (a.k.a. 12 Monkeys) (1995)</td>\n",
              "      <td>mystery sci-fi thriller</td>\n",
              "      <td>sequel adapted from:book based on a book chees...</td>\n",
              "    </tr>\n",
              "    <tr>\n",
              "      <th>3</th>\n",
              "      <td>47</td>\n",
              "      <td>Seven (a.k.a. Se7en) (1995)</td>\n",
              "      <td>mystery thriller</td>\n",
              "      <td>psychology dark stylized visually appealing no...</td>\n",
              "    </tr>\n",
              "    <tr>\n",
              "      <th>4</th>\n",
              "      <td>50</td>\n",
              "      <td>Usual Suspects, The (1995)</td>\n",
              "      <td>crime mystery thriller</td>\n",
              "      <td>tedious gangsters london organized crime unpre...</td>\n",
              "    </tr>\n",
              "    <tr>\n",
              "      <th>5</th>\n",
              "      <td>112</td>\n",
              "      <td>Rumble in the Bronx (Hont faan kui) (1995)</td>\n",
              "      <td>action adventure comedy crime</td>\n",
              "      <td>albert dupontel action break-up catherine zeta...</td>\n",
              "    </tr>\n",
              "    <tr>\n",
              "      <th>6</th>\n",
              "      <td>151</td>\n",
              "      <td>Rob Roy (1995)</td>\n",
              "      <td>action drama romance war</td>\n",
              "      <td>call center comedy culture clash culture shock...</td>\n",
              "    </tr>\n",
              "    <tr>\n",
              "      <th>7</th>\n",
              "      <td>223</td>\n",
              "      <td>Clerks (1994)</td>\n",
              "      <td>comedy</td>\n",
              "      <td>tom cruise classic disturbing horror john carp...</td>\n",
              "    </tr>\n",
              "    <tr>\n",
              "      <th>8</th>\n",
              "      <td>253</td>\n",
              "      <td>Interview with the Vampire: The Vampire Chroni...</td>\n",
              "      <td>drama horror</td>\n",
              "      <td>bittersweet great acting paul newman robert re...</td>\n",
              "    </tr>\n",
              "    <tr>\n",
              "      <th>9</th>\n",
              "      <td>260</td>\n",
              "      <td>Star Wars: Episode IV - A New Hope (1977)</td>\n",
              "      <td>action adventure sci-fi</td>\n",
              "      <td>masahiro hosoda juan josé campanella wesley ru...</td>\n",
              "    </tr>\n",
              "  </tbody>\n",
              "</table>\n",
              "</div>"
            ],
            "text/plain": [
              "   movieId  ...                                                tag\n",
              "0        2  ...  mark waters dark hero noir thriller bollywood ...\n",
              "1       29  ...  roman polanski biopic tim burton based on true...\n",
              "2       32  ...  sequel adapted from:book based on a book chees...\n",
              "3       47  ...  psychology dark stylized visually appealing no...\n",
              "4       50  ...  tedious gangsters london organized crime unpre...\n",
              "5      112  ...  albert dupontel action break-up catherine zeta...\n",
              "6      151  ...  call center comedy culture clash culture shock...\n",
              "7      223  ...  tom cruise classic disturbing horror john carp...\n",
              "8      253  ...  bittersweet great acting paul newman robert re...\n",
              "9      260  ...  masahiro hosoda juan josé campanella wesley ru...\n",
              "\n",
              "[10 rows x 4 columns]"
            ]
          },
          "metadata": {
            "tags": []
          },
          "execution_count": 6
        }
      ]
    },
    {
      "cell_type": "markdown",
      "metadata": {
        "colab_type": "text",
        "id": "pulrJ-JQAAez"
      },
      "source": [
        "##7.2 Cosine Similarity using content data (Genres)"
      ]
    },
    {
      "cell_type": "markdown",
      "metadata": {
        "colab_type": "text",
        "id": "Fgh7IsErAAe2"
      },
      "source": [
        "The create_soup function will simply join all the required columns by a space. This is the final preprocessing step, and the output of this function will be fed into the word vector model."
      ]
    },
    {
      "cell_type": "code",
      "metadata": {
        "colab_type": "code",
        "outputId": "87d15f37-2fb8-4ab1-f3c4-09da2a3aef6a",
        "id": "zBzkeVMAAAfI",
        "colab": {
          "base_uri": "https://localhost:8080/",
          "height": 393
        }
      },
      "source": [
        "contentdata.head(10)"
      ],
      "execution_count": 0,
      "outputs": [
        {
          "output_type": "execute_result",
          "data": {
            "text/html": [
              "<div>\n",
              "<style scoped>\n",
              "    .dataframe tbody tr th:only-of-type {\n",
              "        vertical-align: middle;\n",
              "    }\n",
              "\n",
              "    .dataframe tbody tr th {\n",
              "        vertical-align: top;\n",
              "    }\n",
              "\n",
              "    .dataframe thead th {\n",
              "        text-align: right;\n",
              "    }\n",
              "</style>\n",
              "<table border=\"1\" class=\"dataframe\">\n",
              "  <thead>\n",
              "    <tr style=\"text-align: right;\">\n",
              "      <th></th>\n",
              "      <th>movieId</th>\n",
              "      <th>title</th>\n",
              "      <th>genres</th>\n",
              "    </tr>\n",
              "  </thead>\n",
              "  <tbody>\n",
              "    <tr>\n",
              "      <th>0</th>\n",
              "      <td>2</td>\n",
              "      <td>Jumanji (1995)</td>\n",
              "      <td>adventure children fantasy</td>\n",
              "    </tr>\n",
              "    <tr>\n",
              "      <th>1</th>\n",
              "      <td>29</td>\n",
              "      <td>City of Lost Children, The (Cité des enfants p...</td>\n",
              "      <td>adventure drama fantasy mystery sci-fi</td>\n",
              "    </tr>\n",
              "    <tr>\n",
              "      <th>2</th>\n",
              "      <td>32</td>\n",
              "      <td>Twelve Monkeys (a.k.a. 12 Monkeys) (1995)</td>\n",
              "      <td>mystery sci-fi thriller</td>\n",
              "    </tr>\n",
              "    <tr>\n",
              "      <th>3</th>\n",
              "      <td>47</td>\n",
              "      <td>Seven (a.k.a. Se7en) (1995)</td>\n",
              "      <td>mystery thriller</td>\n",
              "    </tr>\n",
              "    <tr>\n",
              "      <th>4</th>\n",
              "      <td>50</td>\n",
              "      <td>Usual Suspects, The (1995)</td>\n",
              "      <td>crime mystery thriller</td>\n",
              "    </tr>\n",
              "    <tr>\n",
              "      <th>5</th>\n",
              "      <td>112</td>\n",
              "      <td>Rumble in the Bronx (Hont faan kui) (1995)</td>\n",
              "      <td>action adventure comedy crime</td>\n",
              "    </tr>\n",
              "    <tr>\n",
              "      <th>6</th>\n",
              "      <td>151</td>\n",
              "      <td>Rob Roy (1995)</td>\n",
              "      <td>action drama romance war</td>\n",
              "    </tr>\n",
              "    <tr>\n",
              "      <th>7</th>\n",
              "      <td>223</td>\n",
              "      <td>Clerks (1994)</td>\n",
              "      <td>comedy</td>\n",
              "    </tr>\n",
              "    <tr>\n",
              "      <th>8</th>\n",
              "      <td>253</td>\n",
              "      <td>Interview with the Vampire: The Vampire Chroni...</td>\n",
              "      <td>drama horror</td>\n",
              "    </tr>\n",
              "    <tr>\n",
              "      <th>9</th>\n",
              "      <td>260</td>\n",
              "      <td>Star Wars: Episode IV - A New Hope (1977)</td>\n",
              "      <td>action adventure sci-fi</td>\n",
              "    </tr>\n",
              "  </tbody>\n",
              "</table>\n",
              "</div>"
            ],
            "text/plain": [
              "   movieId  ...                                  genres\n",
              "0        2  ...              adventure children fantasy\n",
              "1       29  ...  adventure drama fantasy mystery sci-fi\n",
              "2       32  ...                 mystery sci-fi thriller\n",
              "3       47  ...                        mystery thriller\n",
              "4       50  ...                  crime mystery thriller\n",
              "5      112  ...           action adventure comedy crime\n",
              "6      151  ...                action drama romance war\n",
              "7      223  ...                                  comedy\n",
              "8      253  ...                            drama horror\n",
              "9      260  ...                 action adventure sci-fi\n",
              "\n",
              "[10 rows x 3 columns]"
            ]
          },
          "metadata": {
            "tags": []
          },
          "execution_count": 35
        }
      ]
    },
    {
      "cell_type": "code",
      "metadata": {
        "colab_type": "code",
        "id": "MkffbUchAAfR",
        "colab": {}
      },
      "source": [
        "from sklearn.feature_extraction.text import CountVectorizer\n",
        "\n",
        "count = CountVectorizer(stop_words='english')\n",
        "count_matrix = count.fit_transform(contentdata['genres'])"
      ],
      "execution_count": 0,
      "outputs": []
    },
    {
      "cell_type": "code",
      "metadata": {
        "colab_type": "code",
        "outputId": "9604e75a-31f9-429e-a0e2-f22f541be49b",
        "id": "Uj7dp4qeAAfY",
        "colab": {
          "base_uri": "https://localhost:8080/",
          "height": 34
        }
      },
      "source": [
        "count_matrix.shape"
      ],
      "execution_count": 0,
      "outputs": [
        {
          "output_type": "execute_result",
          "data": {
            "text/plain": [
              "(26744, 22)"
            ]
          },
          "metadata": {
            "tags": []
          },
          "execution_count": 12
        }
      ]
    },
    {
      "cell_type": "code",
      "metadata": {
        "colab_type": "code",
        "id": "kFb4CHyJAAff",
        "colab": {}
      },
      "source": [
        "# Compute the Cosine Similarity matrix based on the count_matrix\n",
        "from sklearn.metrics.pairwise import cosine_similarity\n",
        "\n",
        "cosine_sim = cosine_similarity(count_matrix, count_matrix)"
      ],
      "execution_count": 0,
      "outputs": []
    },
    {
      "cell_type": "code",
      "metadata": {
        "colab_type": "code",
        "id": "OHth6kghAAfp",
        "colab": {}
      },
      "source": [
        "# Reset index of your main DataFrame and construct reverse mapping as before\n",
        "contentdata = contentdata.reset_index()\n",
        "indices = pd.Series(contentdata.index, index=contentdata['title'])"
      ],
      "execution_count": 0,
      "outputs": []
    },
    {
      "cell_type": "code",
      "metadata": {
        "colab_type": "code",
        "id": "y4bIFec7AAfw",
        "colab": {}
      },
      "source": [
        "# Function that takes in movie title as input and outputs most similar movies\n",
        "def get_recommendations(title, cosine_sim=cosine_sim):\n",
        "    # Get the index of the movie that matches the title\n",
        "    idx = indices[title]\n",
        "\n",
        "    # Get the pairwise similarity scores of all movies with that movie\n",
        "    sim_scores = list(enumerate(cosine_sim[idx]))\n",
        "\n",
        "    # Sort the movies based on the similarity scores\n",
        "    sim_scores = sorted(sim_scores, key=lambda x: x[1], reverse=True)\n",
        "\n",
        "    # Get the scores of the 10 most similar movies\n",
        "    sim_scores = sim_scores[1:11]\n",
        "\n",
        "    # Get the movie indices\n",
        "    movie_indices = [i[0] for i in sim_scores]\n",
        "\n",
        "    # Return the top 10 most similar movies\n",
        "    return contentdata['title'].iloc[movie_indices]"
      ],
      "execution_count": 0,
      "outputs": []
    },
    {
      "cell_type": "code",
      "metadata": {
        "colab_type": "code",
        "outputId": "1dabee5c-4443-47d2-99e3-626ef1e231c4",
        "id": "cSYTUqHJAAf-",
        "colab": {
          "base_uri": "https://localhost:8080/",
          "height": 204
        }
      },
      "source": [
        "get_recommendations('Jumanji (1995)', cosine_sim)"
      ],
      "execution_count": 0,
      "outputs": [
        {
          "output_type": "execute_result",
          "data": {
            "text/plain": [
              "21                        Escape to Witch Mountain (1975)\n",
              "126     Harry Potter and the Sorcerer's Stone (a.k.a. ...\n",
              "308                                   Return to Oz (1985)\n",
              "388                    Indian in the Cupboard, The (1995)\n",
              "929     Chronicles of Narnia: The Lion, the Witch and ...\n",
              "1099                        NeverEnding Story, The (1984)\n",
              "1185          Water Horse: Legend of the Deep, The (2007)\n",
              "1797                           Golden Compass, The (2007)\n",
              "1804     Chronicles of Narnia: Prince Caspian, The (2008)\n",
              "2294                        Santa Claus: The Movie (1985)\n",
              "Name: title, dtype: object"
            ]
          },
          "metadata": {
            "tags": []
          },
          "execution_count": 17
        }
      ]
    },
    {
      "cell_type": "code",
      "metadata": {
        "colab_type": "code",
        "outputId": "cca4d62e-7c29-4acb-ba7a-cc8c82649a2b",
        "id": "oGfWCvbzAAgF",
        "colab": {
          "base_uri": "https://localhost:8080/",
          "height": 204
        }
      },
      "source": [
        "get_recommendations('Star Wars: Episode IV - A New Hope (1977)', cosine_sim)"
      ],
      "execution_count": 0,
      "outputs": [
        {
          "output_type": "execute_result",
          "data": {
            "text/plain": [
              "30     Star Wars: Episode V - The Empire Strikes Back...\n",
              "82      Star Wars: Episode I - The Phantom Menace (1999)\n",
              "129                                  Flash Gordon (1980)\n",
              "136                             Time Machine, The (2002)\n",
              "186    Star Wars: Episode VI - Return of the Jedi (1983)\n",
              "216                 Road Warrior, The (Mad Max 2) (1981)\n",
              "226                             Time Machine, The (1960)\n",
              "233                                      Stargate (1994)\n",
              "236                                Demolition Man (1993)\n",
              "281           Star Trek III: The Search for Spock (1984)\n",
              "Name: title, dtype: object"
            ]
          },
          "metadata": {
            "tags": []
          },
          "execution_count": 32
        }
      ]
    },
    {
      "cell_type": "markdown",
      "metadata": {
        "id": "tL0QUhvExqU4",
        "colab_type": "text"
      },
      "source": [
        "##7.3 Cosine Similarity using soup data (Genres & Tags)"
      ]
    },
    {
      "cell_type": "markdown",
      "metadata": {
        "id": "e7dTLb1avrMH",
        "colab_type": "text"
      },
      "source": [
        "The create_soup function will simply join all the required columns by a space. This is the final preprocessing step, and the output of this function will be fed into the word vector model."
      ]
    },
    {
      "cell_type": "code",
      "metadata": {
        "id": "_69uYDXB0psb",
        "colab_type": "code",
        "colab": {}
      },
      "source": [
        "def create_soup(x):\n",
        "    return ''.join(x['genres']) + ' ' + ''.join(x['tag'])"
      ],
      "execution_count": 0,
      "outputs": []
    },
    {
      "cell_type": "code",
      "metadata": {
        "id": "q7eUtw8K1AnO",
        "colab_type": "code",
        "colab": {}
      },
      "source": [
        "# Create a new soup feature\n",
        "soupdata['soup'] = soupdata.apply(create_soup, axis=1)"
      ],
      "execution_count": 0,
      "outputs": []
    },
    {
      "cell_type": "code",
      "metadata": {
        "id": "ymE_VbKL1ICT",
        "colab_type": "code",
        "outputId": "9c4d0db9-6d24-4912-9387-dd21f2356e32",
        "colab": {
          "base_uri": "https://localhost:8080/",
          "height": 529
        }
      },
      "source": [
        "soupdata.head(10)"
      ],
      "execution_count": 0,
      "outputs": [
        {
          "output_type": "execute_result",
          "data": {
            "text/html": [
              "<div>\n",
              "<style scoped>\n",
              "    .dataframe tbody tr th:only-of-type {\n",
              "        vertical-align: middle;\n",
              "    }\n",
              "\n",
              "    .dataframe tbody tr th {\n",
              "        vertical-align: top;\n",
              "    }\n",
              "\n",
              "    .dataframe thead th {\n",
              "        text-align: right;\n",
              "    }\n",
              "</style>\n",
              "<table border=\"1\" class=\"dataframe\">\n",
              "  <thead>\n",
              "    <tr style=\"text-align: right;\">\n",
              "      <th></th>\n",
              "      <th>index</th>\n",
              "      <th>movieId</th>\n",
              "      <th>title</th>\n",
              "      <th>genres</th>\n",
              "      <th>tag</th>\n",
              "      <th>soup</th>\n",
              "    </tr>\n",
              "  </thead>\n",
              "  <tbody>\n",
              "    <tr>\n",
              "      <th>0</th>\n",
              "      <td>0</td>\n",
              "      <td>2</td>\n",
              "      <td>Jumanji (1995)</td>\n",
              "      <td>adventure children fantasy</td>\n",
              "      <td>mark waters dark hero noir thriller bollywood ...</td>\n",
              "      <td>adventure children fantasy mark waters dark he...</td>\n",
              "    </tr>\n",
              "    <tr>\n",
              "      <th>1</th>\n",
              "      <td>1</td>\n",
              "      <td>29</td>\n",
              "      <td>City of Lost Children, The (Cité des enfants p...</td>\n",
              "      <td>adventure drama fantasy mystery sci-fi</td>\n",
              "      <td>roman polanski biopic tim burton based on true...</td>\n",
              "      <td>adventure drama fantasy mystery sci-fi roman p...</td>\n",
              "    </tr>\n",
              "    <tr>\n",
              "      <th>2</th>\n",
              "      <td>2</td>\n",
              "      <td>32</td>\n",
              "      <td>Twelve Monkeys (a.k.a. 12 Monkeys) (1995)</td>\n",
              "      <td>mystery sci-fi thriller</td>\n",
              "      <td>sequel adapted from:book based on a book chees...</td>\n",
              "      <td>mystery sci-fi thriller sequel adapted from:bo...</td>\n",
              "    </tr>\n",
              "    <tr>\n",
              "      <th>3</th>\n",
              "      <td>3</td>\n",
              "      <td>47</td>\n",
              "      <td>Seven (a.k.a. Se7en) (1995)</td>\n",
              "      <td>mystery thriller</td>\n",
              "      <td>psychology dark stylized visually appealing no...</td>\n",
              "      <td>mystery thriller psychology dark stylized visu...</td>\n",
              "    </tr>\n",
              "    <tr>\n",
              "      <th>4</th>\n",
              "      <td>4</td>\n",
              "      <td>50</td>\n",
              "      <td>Usual Suspects, The (1995)</td>\n",
              "      <td>crime mystery thriller</td>\n",
              "      <td>tedious gangsters london organized crime unpre...</td>\n",
              "      <td>crime mystery thriller tedious gangsters londo...</td>\n",
              "    </tr>\n",
              "    <tr>\n",
              "      <th>5</th>\n",
              "      <td>5</td>\n",
              "      <td>112</td>\n",
              "      <td>Rumble in the Bronx (Hont faan kui) (1995)</td>\n",
              "      <td>action adventure comedy crime</td>\n",
              "      <td>albert dupontel action break-up catherine zeta...</td>\n",
              "      <td>action adventure comedy crime albert dupontel ...</td>\n",
              "    </tr>\n",
              "    <tr>\n",
              "      <th>6</th>\n",
              "      <td>6</td>\n",
              "      <td>151</td>\n",
              "      <td>Rob Roy (1995)</td>\n",
              "      <td>action drama romance war</td>\n",
              "      <td>call center comedy culture clash culture shock...</td>\n",
              "      <td>action drama romance war call center comedy cu...</td>\n",
              "    </tr>\n",
              "    <tr>\n",
              "      <th>7</th>\n",
              "      <td>7</td>\n",
              "      <td>223</td>\n",
              "      <td>Clerks (1994)</td>\n",
              "      <td>comedy</td>\n",
              "      <td>tom cruise classic disturbing horror john carp...</td>\n",
              "      <td>comedy tom cruise classic disturbing horror jo...</td>\n",
              "    </tr>\n",
              "    <tr>\n",
              "      <th>8</th>\n",
              "      <td>8</td>\n",
              "      <td>253</td>\n",
              "      <td>Interview with the Vampire: The Vampire Chroni...</td>\n",
              "      <td>drama horror</td>\n",
              "      <td>bittersweet great acting paul newman robert re...</td>\n",
              "      <td>drama horror bittersweet great acting paul new...</td>\n",
              "    </tr>\n",
              "    <tr>\n",
              "      <th>9</th>\n",
              "      <td>9</td>\n",
              "      <td>260</td>\n",
              "      <td>Star Wars: Episode IV - A New Hope (1977)</td>\n",
              "      <td>action adventure sci-fi</td>\n",
              "      <td>masahiro hosoda juan josé campanella wesley ru...</td>\n",
              "      <td>action adventure sci-fi masahiro hosoda juan j...</td>\n",
              "    </tr>\n",
              "  </tbody>\n",
              "</table>\n",
              "</div>"
            ],
            "text/plain": [
              "   index  ...                                               soup\n",
              "0      0  ...  adventure children fantasy mark waters dark he...\n",
              "1      1  ...  adventure drama fantasy mystery sci-fi roman p...\n",
              "2      2  ...  mystery sci-fi thriller sequel adapted from:bo...\n",
              "3      3  ...  mystery thriller psychology dark stylized visu...\n",
              "4      4  ...  crime mystery thriller tedious gangsters londo...\n",
              "5      5  ...  action adventure comedy crime albert dupontel ...\n",
              "6      6  ...  action drama romance war call center comedy cu...\n",
              "7      7  ...  comedy tom cruise classic disturbing horror jo...\n",
              "8      8  ...  drama horror bittersweet great acting paul new...\n",
              "9      9  ...  action adventure sci-fi masahiro hosoda juan j...\n",
              "\n",
              "[10 rows x 6 columns]"
            ]
          },
          "metadata": {
            "tags": []
          },
          "execution_count": 75
        }
      ]
    },
    {
      "cell_type": "code",
      "metadata": {
        "id": "6dIyM6EwUQ8r",
        "colab_type": "code",
        "outputId": "d6f08fd4-b8b5-4e02-9839-40704fe8eef9",
        "colab": {
          "base_uri": "https://localhost:8080/",
          "height": 34
        }
      },
      "source": [
        "soupdata.shape"
      ],
      "execution_count": 0,
      "outputs": [
        {
          "output_type": "execute_result",
          "data": {
            "text/plain": [
              "(26744, 5)"
            ]
          },
          "metadata": {
            "tags": []
          },
          "execution_count": 31
        }
      ]
    },
    {
      "cell_type": "code",
      "metadata": {
        "id": "xxSg21w0UaYy",
        "colab_type": "code",
        "outputId": "cc2c7075-f971-43d0-ceee-fbbf1bd44194",
        "colab": {
          "base_uri": "https://localhost:8080/",
          "height": 34
        }
      },
      "source": [
        "soupdata2 = soupdata[soupdata[\"movieId\"] < 8000]\n",
        "soupdata2.shape"
      ],
      "execution_count": 0,
      "outputs": [
        {
          "output_type": "execute_result",
          "data": {
            "text/plain": [
              "(7610, 5)"
            ]
          },
          "metadata": {
            "tags": []
          },
          "execution_count": 60
        }
      ]
    },
    {
      "cell_type": "code",
      "metadata": {
        "id": "z1Aa5C-2U0iT",
        "colab_type": "code",
        "outputId": "fd320755-ba9d-43a2-b278-88ab173d28fe",
        "colab": {
          "base_uri": "https://localhost:8080/",
          "height": 272
        }
      },
      "source": [
        "soupdata2.head()"
      ],
      "execution_count": 0,
      "outputs": [
        {
          "output_type": "execute_result",
          "data": {
            "text/html": [
              "<div>\n",
              "<style scoped>\n",
              "    .dataframe tbody tr th:only-of-type {\n",
              "        vertical-align: middle;\n",
              "    }\n",
              "\n",
              "    .dataframe tbody tr th {\n",
              "        vertical-align: top;\n",
              "    }\n",
              "\n",
              "    .dataframe thead th {\n",
              "        text-align: right;\n",
              "    }\n",
              "</style>\n",
              "<table border=\"1\" class=\"dataframe\">\n",
              "  <thead>\n",
              "    <tr style=\"text-align: right;\">\n",
              "      <th></th>\n",
              "      <th>movieId</th>\n",
              "      <th>title</th>\n",
              "      <th>genres</th>\n",
              "      <th>tag</th>\n",
              "      <th>soup</th>\n",
              "    </tr>\n",
              "  </thead>\n",
              "  <tbody>\n",
              "    <tr>\n",
              "      <th>0</th>\n",
              "      <td>2</td>\n",
              "      <td>Jumanji (1995)</td>\n",
              "      <td>adventure children fantasy</td>\n",
              "      <td>mark waters dark hero noir thriller bollywood ...</td>\n",
              "      <td>adventure children fantasy mark waters dark he...</td>\n",
              "    </tr>\n",
              "    <tr>\n",
              "      <th>1</th>\n",
              "      <td>29</td>\n",
              "      <td>City of Lost Children, The (Cité des enfants p...</td>\n",
              "      <td>adventure drama fantasy mystery sci-fi</td>\n",
              "      <td>roman polanski biopic tim burton based on true...</td>\n",
              "      <td>adventure drama fantasy mystery sci-fi roman p...</td>\n",
              "    </tr>\n",
              "    <tr>\n",
              "      <th>2</th>\n",
              "      <td>32</td>\n",
              "      <td>Twelve Monkeys (a.k.a. 12 Monkeys) (1995)</td>\n",
              "      <td>mystery sci-fi thriller</td>\n",
              "      <td>sequel adapted from:book based on a book chees...</td>\n",
              "      <td>mystery sci-fi thriller sequel adapted from:bo...</td>\n",
              "    </tr>\n",
              "    <tr>\n",
              "      <th>3</th>\n",
              "      <td>47</td>\n",
              "      <td>Seven (a.k.a. Se7en) (1995)</td>\n",
              "      <td>mystery thriller</td>\n",
              "      <td>psychology dark stylized visually appealing no...</td>\n",
              "      <td>mystery thriller psychology dark stylized visu...</td>\n",
              "    </tr>\n",
              "    <tr>\n",
              "      <th>4</th>\n",
              "      <td>50</td>\n",
              "      <td>Usual Suspects, The (1995)</td>\n",
              "      <td>crime mystery thriller</td>\n",
              "      <td>tedious gangsters london organized crime unpre...</td>\n",
              "      <td>crime mystery thriller tedious gangsters londo...</td>\n",
              "    </tr>\n",
              "  </tbody>\n",
              "</table>\n",
              "</div>"
            ],
            "text/plain": [
              "   movieId  ...                                               soup\n",
              "0        2  ...  adventure children fantasy mark waters dark he...\n",
              "1       29  ...  adventure drama fantasy mystery sci-fi roman p...\n",
              "2       32  ...  mystery sci-fi thriller sequel adapted from:bo...\n",
              "3       47  ...  mystery thriller psychology dark stylized visu...\n",
              "4       50  ...  crime mystery thriller tedious gangsters londo...\n",
              "\n",
              "[5 rows x 5 columns]"
            ]
          },
          "metadata": {
            "tags": []
          },
          "execution_count": 61
        }
      ]
    },
    {
      "cell_type": "code",
      "metadata": {
        "id": "hU_OwBAUwWHj",
        "colab_type": "code",
        "colab": {}
      },
      "source": [
        "from sklearn.feature_extraction.text import CountVectorizer\n",
        "\n",
        "count = CountVectorizer(stop_words='english')\n",
        "count_matrix = count.fit_transform(soupdata2['soup'])"
      ],
      "execution_count": 0,
      "outputs": []
    },
    {
      "cell_type": "code",
      "metadata": {
        "id": "rZfPnMo5wbxk",
        "colab_type": "code",
        "outputId": "06e54a15-84cf-4afa-d6b5-44fcf3a8a8a8",
        "colab": {
          "base_uri": "https://localhost:8080/",
          "height": 34
        }
      },
      "source": [
        "count_matrix.shape"
      ],
      "execution_count": 0,
      "outputs": [
        {
          "output_type": "execute_result",
          "data": {
            "text/plain": [
              "(7610, 23863)"
            ]
          },
          "metadata": {
            "tags": []
          },
          "execution_count": 77
        }
      ]
    },
    {
      "cell_type": "code",
      "metadata": {
        "id": "obMH-y3Ie_V6",
        "colab_type": "code",
        "outputId": "487b373d-ebf8-497f-c965-13c0e43b4596",
        "colab": {
          "base_uri": "https://localhost:8080/",
          "height": 884
        }
      },
      "source": [
        "print(count_matrix)"
      ],
      "execution_count": 0,
      "outputs": [
        {
          "output_type": "stream",
          "text": [
            "  (0, 1)\t3\n",
            "  (0, 7)\t1\n",
            "  (0, 11)\t5\n",
            "  (0, 12)\t7\n",
            "  (0, 15)\t2\n",
            "  (0, 17)\t1\n",
            "  (0, 24)\t4\n",
            "  (0, 28)\t1\n",
            "  (0, 32)\t1\n",
            "  (0, 38)\t1\n",
            "  (0, 41)\t1\n",
            "  (0, 46)\t1\n",
            "  (0, 52)\t1\n",
            "  (0, 59)\t1\n",
            "  (0, 60)\t1\n",
            "  (0, 63)\t1\n",
            "  (0, 64)\t1\n",
            "  (0, 65)\t1\n",
            "  (0, 66)\t1\n",
            "  (0, 67)\t1\n",
            "  (0, 70)\t1\n",
            "  (0, 72)\t1\n",
            "  (0, 73)\t1\n",
            "  (0, 75)\t1\n",
            "  (0, 76)\t3\n",
            "  :\t:\n",
            "  (7598, 14708)\t1\n",
            "  (7598, 21381)\t1\n",
            "  (7599, 6052)\t1\n",
            "  (7599, 14708)\t1\n",
            "  (7600, 6052)\t1\n",
            "  (7600, 14708)\t1\n",
            "  (7601, 14573)\t1\n",
            "  (7601, 14708)\t1\n",
            "  (7602, 6052)\t1\n",
            "  (7602, 14708)\t1\n",
            "  (7603, 4270)\t1\n",
            "  (7603, 14708)\t1\n",
            "  (7604, 4270)\t1\n",
            "  (7604, 14708)\t1\n",
            "  (7605, 6052)\t1\n",
            "  (7605, 14708)\t1\n",
            "  (7606, 6052)\t1\n",
            "  (7606, 14708)\t1\n",
            "  (7607, 4766)\t1\n",
            "  (7607, 6052)\t1\n",
            "  (7607, 14708)\t1\n",
            "  (7608, 5872)\t1\n",
            "  (7608, 14708)\t1\n",
            "  (7609, 5872)\t1\n",
            "  (7609, 14708)\t1\n"
          ],
          "name": "stdout"
        }
      ]
    },
    {
      "cell_type": "code",
      "metadata": {
        "id": "KUCSGzu5wh4O",
        "colab_type": "code",
        "colab": {}
      },
      "source": [
        "# Compute the Cosine Similarity matrix based on the count_matrix\n",
        "from sklearn.metrics.pairwise import cosine_similarity\n",
        "\n",
        "cosine_sim = cosine_similarity(count_matrix, count_matrix)"
      ],
      "execution_count": 0,
      "outputs": []
    },
    {
      "cell_type": "code",
      "metadata": {
        "id": "M3--ALZcyphS",
        "colab_type": "code",
        "colab": {}
      },
      "source": [
        "# Reset index of your main DataFrame and construct reverse mapping as before\n",
        "soupdata2 = soupdata2.reset_index()\n",
        "indices = pd.Series(soupdata2.index, index=soupdata2['title'])"
      ],
      "execution_count": 0,
      "outputs": []
    },
    {
      "cell_type": "code",
      "metadata": {
        "id": "8IgUzSJPzAeY",
        "colab_type": "code",
        "colab": {}
      },
      "source": [
        "# Function that takes in movie title as input and outputs most similar movies\n",
        "def get_recommendations(title, cosine_sim=cosine_sim):\n",
        "    # Get the index of the movie that matches the title\n",
        "    idx = indices[title]\n",
        "\n",
        "    # Get the pairwise similarity scores of all movies with that movie\n",
        "    sim_scores = list(enumerate(cosine_sim[idx]))\n",
        "\n",
        "    # Sort the movies based on the similarity scores\n",
        "    sim_scores = sorted(sim_scores, key=lambda x: x[1], reverse=True)\n",
        "\n",
        "    # Get the scores of the 10 most similar movies\n",
        "    sim_scores = sim_scores[1:11]\n",
        "\n",
        "    # Get the movie indices\n",
        "    movie_indices = [i[0] for i in sim_scores]\n",
        "\n",
        "    # Return the top 10 most similar movies\n",
        "    return soupdata2['title'].iloc[movie_indices]"
      ],
      "execution_count": 0,
      "outputs": []
    },
    {
      "cell_type": "code",
      "metadata": {
        "id": "uFcAKXE_zOMM",
        "colab_type": "code",
        "outputId": "0d083d9b-1ec4-4614-a583-0d73c64dd738",
        "colab": {
          "base_uri": "https://localhost:8080/",
          "height": 529
        }
      },
      "source": [
        "soupdata2.head(10)"
      ],
      "execution_count": 0,
      "outputs": [
        {
          "output_type": "execute_result",
          "data": {
            "text/html": [
              "<div>\n",
              "<style scoped>\n",
              "    .dataframe tbody tr th:only-of-type {\n",
              "        vertical-align: middle;\n",
              "    }\n",
              "\n",
              "    .dataframe tbody tr th {\n",
              "        vertical-align: top;\n",
              "    }\n",
              "\n",
              "    .dataframe thead th {\n",
              "        text-align: right;\n",
              "    }\n",
              "</style>\n",
              "<table border=\"1\" class=\"dataframe\">\n",
              "  <thead>\n",
              "    <tr style=\"text-align: right;\">\n",
              "      <th></th>\n",
              "      <th>index</th>\n",
              "      <th>movieId</th>\n",
              "      <th>title</th>\n",
              "      <th>genres</th>\n",
              "      <th>tag</th>\n",
              "      <th>soup</th>\n",
              "    </tr>\n",
              "  </thead>\n",
              "  <tbody>\n",
              "    <tr>\n",
              "      <th>0</th>\n",
              "      <td>0</td>\n",
              "      <td>2</td>\n",
              "      <td>Jumanji (1995)</td>\n",
              "      <td>adventure children fantasy</td>\n",
              "      <td>mark waters dark hero noir thriller bollywood ...</td>\n",
              "      <td>adventure children fantasy mark waters dark he...</td>\n",
              "    </tr>\n",
              "    <tr>\n",
              "      <th>1</th>\n",
              "      <td>1</td>\n",
              "      <td>29</td>\n",
              "      <td>City of Lost Children, The (Cité des enfants p...</td>\n",
              "      <td>adventure drama fantasy mystery sci-fi</td>\n",
              "      <td>roman polanski biopic tim burton based on true...</td>\n",
              "      <td>adventure drama fantasy mystery sci-fi roman p...</td>\n",
              "    </tr>\n",
              "    <tr>\n",
              "      <th>2</th>\n",
              "      <td>2</td>\n",
              "      <td>32</td>\n",
              "      <td>Twelve Monkeys (a.k.a. 12 Monkeys) (1995)</td>\n",
              "      <td>mystery sci-fi thriller</td>\n",
              "      <td>sequel adapted from:book based on a book chees...</td>\n",
              "      <td>mystery sci-fi thriller sequel adapted from:bo...</td>\n",
              "    </tr>\n",
              "    <tr>\n",
              "      <th>3</th>\n",
              "      <td>3</td>\n",
              "      <td>47</td>\n",
              "      <td>Seven (a.k.a. Se7en) (1995)</td>\n",
              "      <td>mystery thriller</td>\n",
              "      <td>psychology dark stylized visually appealing no...</td>\n",
              "      <td>mystery thriller psychology dark stylized visu...</td>\n",
              "    </tr>\n",
              "    <tr>\n",
              "      <th>4</th>\n",
              "      <td>4</td>\n",
              "      <td>50</td>\n",
              "      <td>Usual Suspects, The (1995)</td>\n",
              "      <td>crime mystery thriller</td>\n",
              "      <td>tedious gangsters london organized crime unpre...</td>\n",
              "      <td>crime mystery thriller tedious gangsters londo...</td>\n",
              "    </tr>\n",
              "    <tr>\n",
              "      <th>5</th>\n",
              "      <td>5</td>\n",
              "      <td>112</td>\n",
              "      <td>Rumble in the Bronx (Hont faan kui) (1995)</td>\n",
              "      <td>action adventure comedy crime</td>\n",
              "      <td>albert dupontel action break-up catherine zeta...</td>\n",
              "      <td>action adventure comedy crime albert dupontel ...</td>\n",
              "    </tr>\n",
              "    <tr>\n",
              "      <th>6</th>\n",
              "      <td>6</td>\n",
              "      <td>151</td>\n",
              "      <td>Rob Roy (1995)</td>\n",
              "      <td>action drama romance war</td>\n",
              "      <td>call center comedy culture clash culture shock...</td>\n",
              "      <td>action drama romance war call center comedy cu...</td>\n",
              "    </tr>\n",
              "    <tr>\n",
              "      <th>7</th>\n",
              "      <td>7</td>\n",
              "      <td>223</td>\n",
              "      <td>Clerks (1994)</td>\n",
              "      <td>comedy</td>\n",
              "      <td>tom cruise classic disturbing horror john carp...</td>\n",
              "      <td>comedy tom cruise classic disturbing horror jo...</td>\n",
              "    </tr>\n",
              "    <tr>\n",
              "      <th>8</th>\n",
              "      <td>8</td>\n",
              "      <td>253</td>\n",
              "      <td>Interview with the Vampire: The Vampire Chroni...</td>\n",
              "      <td>drama horror</td>\n",
              "      <td>bittersweet great acting paul newman robert re...</td>\n",
              "      <td>drama horror bittersweet great acting paul new...</td>\n",
              "    </tr>\n",
              "    <tr>\n",
              "      <th>9</th>\n",
              "      <td>9</td>\n",
              "      <td>260</td>\n",
              "      <td>Star Wars: Episode IV - A New Hope (1977)</td>\n",
              "      <td>action adventure sci-fi</td>\n",
              "      <td>masahiro hosoda juan josé campanella wesley ru...</td>\n",
              "      <td>action adventure sci-fi masahiro hosoda juan j...</td>\n",
              "    </tr>\n",
              "  </tbody>\n",
              "</table>\n",
              "</div>"
            ],
            "text/plain": [
              "   index  ...                                               soup\n",
              "0      0  ...  adventure children fantasy mark waters dark he...\n",
              "1      1  ...  adventure drama fantasy mystery sci-fi roman p...\n",
              "2      2  ...  mystery sci-fi thriller sequel adapted from:bo...\n",
              "3      3  ...  mystery thriller psychology dark stylized visu...\n",
              "4      4  ...  crime mystery thriller tedious gangsters londo...\n",
              "5      5  ...  action adventure comedy crime albert dupontel ...\n",
              "6      6  ...  action drama romance war call center comedy cu...\n",
              "7      7  ...  comedy tom cruise classic disturbing horror jo...\n",
              "8      8  ...  drama horror bittersweet great acting paul new...\n",
              "9      9  ...  action adventure sci-fi masahiro hosoda juan j...\n",
              "\n",
              "[10 rows x 6 columns]"
            ]
          },
          "metadata": {
            "tags": []
          },
          "execution_count": 67
        }
      ]
    },
    {
      "cell_type": "code",
      "metadata": {
        "id": "h7DHxF29zLaT",
        "colab_type": "code",
        "outputId": "2ea6e253-cd90-4ce4-84bd-afd2ab1299a9",
        "colab": {
          "base_uri": "https://localhost:8080/",
          "height": 204
        }
      },
      "source": [
        "get_recommendations('Jumanji (1995)', cosine_sim)"
      ],
      "execution_count": 0,
      "outputs": [
        {
          "output_type": "execute_result",
          "data": {
            "text/plain": [
              "12                     Shawshank Redemption, The (1994)\n",
              "2             Twelve Monkeys (a.k.a. 12 Monkeys) (1995)\n",
              "3                           Seven (a.k.a. Se7en) (1995)\n",
              "9             Star Wars: Episode IV - A New Hope (1977)\n",
              "11                                  Pulp Fiction (1994)\n",
              "4                            Usual Suspects, The (1995)\n",
              "7                                         Clerks (1994)\n",
              "5            Rumble in the Bronx (Hont faan kui) (1995)\n",
              "13                   What's Eating Gilbert Grape (1993)\n",
              "10    Léon: The Professional (a.k.a. The Professiona...\n",
              "Name: title, dtype: object"
            ]
          },
          "metadata": {
            "tags": []
          },
          "execution_count": 68
        }
      ]
    },
    {
      "cell_type": "code",
      "metadata": {
        "id": "Z800EXVpzvzE",
        "colab_type": "code",
        "outputId": "7bdb0b88-da30-4b63-8dfd-8ab69f86689e",
        "colab": {
          "base_uri": "https://localhost:8080/",
          "height": 204
        }
      },
      "source": [
        "get_recommendations('Star Wars: Episode IV - A New Hope (1977)', cosine_sim)"
      ],
      "execution_count": 0,
      "outputs": [
        {
          "output_type": "execute_result",
          "data": {
            "text/plain": [
              "3                           Seven (a.k.a. Se7en) (1995)\n",
              "11                                  Pulp Fiction (1994)\n",
              "2             Twelve Monkeys (a.k.a. 12 Monkeys) (1995)\n",
              "4                            Usual Suspects, The (1995)\n",
              "12                     Shawshank Redemption, The (1994)\n",
              "13                   What's Eating Gilbert Grape (1993)\n",
              "10    Léon: The Professional (a.k.a. The Professiona...\n",
              "5            Rumble in the Bronx (Hont faan kui) (1995)\n",
              "1     City of Lost Children, The (Cité des enfants p...\n",
              "8     Interview with the Vampire: The Vampire Chroni...\n",
              "Name: title, dtype: object"
            ]
          },
          "metadata": {
            "tags": []
          },
          "execution_count": 69
        }
      ]
    }
  ]
}